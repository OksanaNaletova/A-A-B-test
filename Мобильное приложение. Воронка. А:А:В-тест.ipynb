{
 "cells": [
  {
   "cell_type": "markdown",
   "metadata": {},
   "source": [
    "# Анализ пользователей мобильного приложения по продаже продуктов питания"
   ]
  },
  {
   "cell_type": "markdown",
   "metadata": {},
   "source": [
    "**Цель:**  \n",
    "- Изучить воронку продаж. Узнать сколько пользователей доходят до покупки.\n",
    "- Исследовать результат А/А/В - теста (изменение шрифта).  \n",
    "\n",
    "\n",
    "**Шаги:**\n",
    "\n",
    "1. Подготовка данных.  \n",
    "2. Изучение и проверка данных.  \n",
    "3. Анализ воронки событий.  \n",
    "4. Анализ результатов эксперимента.  \n",
    "5. Вывод.  \n",
    "\n",
    "\n",
    "**Данные:**  \n",
    "Путь к файлу: /datasets/logs_exp.csv.  \n",
    "Каждая запись в логе — это действие пользователя, или событие.   \n",
    "•\tEventName — название события;  \n",
    "•\tDeviceIDHash — уникальный идентификатор пользователя;  \n",
    "•\tEventTimestamp — время события;   \n",
    "•\tExpId — номер эксперимента: 246 и 247 — контрольные группы, а 248 — экспериментальная.\n"
   ]
  },
  {
   "cell_type": "markdown",
   "metadata": {},
   "source": [
    "## Предообработка данных"
   ]
  },
  {
   "cell_type": "code",
   "execution_count": 1,
   "metadata": {},
   "outputs": [
    {
     "data": {
      "text/html": [
       "        <script type=\"text/javascript\">\n",
       "        window.PlotlyConfig = {MathJaxConfig: 'local'};\n",
       "        if (window.MathJax) {MathJax.Hub.Config({SVG: {font: \"STIX-Web\"}});}\n",
       "        if (typeof require !== 'undefined') {\n",
       "        require.undef(\"plotly\");\n",
       "        requirejs.config({\n",
       "            paths: {\n",
       "                'plotly': ['https://cdn.plot.ly/plotly-2.6.3.min']\n",
       "            }\n",
       "        });\n",
       "        require(['plotly'], function(Plotly) {\n",
       "            window._Plotly = Plotly;\n",
       "        });\n",
       "        }\n",
       "        </script>\n",
       "        "
      ]
     },
     "metadata": {},
     "output_type": "display_data"
    }
   ],
   "source": [
    "import pandas as pd\n",
    "import matplotlib.pyplot as plt\n",
    "import seaborn as sns\n",
    "import matplotlib.ticker as ticker\n",
    "import numpy as np\n",
    "import datetime as dt\n",
    "import math as mth\n",
    "\n",
    "from scipy import stats as st\n",
    "from datetime import datetime, timedelta\n",
    "from plotly.offline import download_plotlyjs, init_notebook_mode, plot, iplot\n",
    "import plotly\n",
    "import plotly.graph_objs as go\n",
    "import re \n",
    "import plotly.express as px\n",
    "init_notebook_mode(connected=True)"
   ]
  },
  {
   "cell_type": "code",
   "execution_count": 2,
   "metadata": {},
   "outputs": [],
   "source": [
    "# код для отображения таблицы без усечений\n",
    "pd.options.display.max_columns = 200\n",
    "pd.options.display.max_colwidth = 250"
   ]
  },
  {
   "cell_type": "code",
   "execution_count": 3,
   "metadata": {},
   "outputs": [],
   "source": [
    "import warnings\n",
    "warnings.filterwarnings(\"ignore\")"
   ]
  },
  {
   "cell_type": "code",
   "execution_count": 4,
   "metadata": {},
   "outputs": [
    {
     "data": {
      "text/html": [
       "<div>\n",
       "<style scoped>\n",
       "    .dataframe tbody tr th:only-of-type {\n",
       "        vertical-align: middle;\n",
       "    }\n",
       "\n",
       "    .dataframe tbody tr th {\n",
       "        vertical-align: top;\n",
       "    }\n",
       "\n",
       "    .dataframe thead th {\n",
       "        text-align: right;\n",
       "    }\n",
       "</style>\n",
       "<table border=\"1\" class=\"dataframe\">\n",
       "  <thead>\n",
       "    <tr style=\"text-align: right;\">\n",
       "      <th></th>\n",
       "      <th>EventName</th>\n",
       "      <th>DeviceIDHash</th>\n",
       "      <th>EventTimestamp</th>\n",
       "      <th>ExpId</th>\n",
       "    </tr>\n",
       "  </thead>\n",
       "  <tbody>\n",
       "    <tr>\n",
       "      <th>0</th>\n",
       "      <td>MainScreenAppear</td>\n",
       "      <td>4575588528974610257</td>\n",
       "      <td>1564029816</td>\n",
       "      <td>246</td>\n",
       "    </tr>\n",
       "    <tr>\n",
       "      <th>1</th>\n",
       "      <td>MainScreenAppear</td>\n",
       "      <td>7416695313311560658</td>\n",
       "      <td>1564053102</td>\n",
       "      <td>246</td>\n",
       "    </tr>\n",
       "    <tr>\n",
       "      <th>2</th>\n",
       "      <td>PaymentScreenSuccessful</td>\n",
       "      <td>3518123091307005509</td>\n",
       "      <td>1564054127</td>\n",
       "      <td>248</td>\n",
       "    </tr>\n",
       "    <tr>\n",
       "      <th>3</th>\n",
       "      <td>CartScreenAppear</td>\n",
       "      <td>3518123091307005509</td>\n",
       "      <td>1564054127</td>\n",
       "      <td>248</td>\n",
       "    </tr>\n",
       "    <tr>\n",
       "      <th>4</th>\n",
       "      <td>PaymentScreenSuccessful</td>\n",
       "      <td>6217807653094995999</td>\n",
       "      <td>1564055322</td>\n",
       "      <td>248</td>\n",
       "    </tr>\n",
       "    <tr>\n",
       "      <th>...</th>\n",
       "      <td>...</td>\n",
       "      <td>...</td>\n",
       "      <td>...</td>\n",
       "      <td>...</td>\n",
       "    </tr>\n",
       "    <tr>\n",
       "      <th>244121</th>\n",
       "      <td>MainScreenAppear</td>\n",
       "      <td>4599628364049201812</td>\n",
       "      <td>1565212345</td>\n",
       "      <td>247</td>\n",
       "    </tr>\n",
       "    <tr>\n",
       "      <th>244122</th>\n",
       "      <td>MainScreenAppear</td>\n",
       "      <td>5849806612437486590</td>\n",
       "      <td>1565212439</td>\n",
       "      <td>246</td>\n",
       "    </tr>\n",
       "    <tr>\n",
       "      <th>244123</th>\n",
       "      <td>MainScreenAppear</td>\n",
       "      <td>5746969938801999050</td>\n",
       "      <td>1565212483</td>\n",
       "      <td>246</td>\n",
       "    </tr>\n",
       "    <tr>\n",
       "      <th>244124</th>\n",
       "      <td>MainScreenAppear</td>\n",
       "      <td>5746969938801999050</td>\n",
       "      <td>1565212498</td>\n",
       "      <td>246</td>\n",
       "    </tr>\n",
       "    <tr>\n",
       "      <th>244125</th>\n",
       "      <td>OffersScreenAppear</td>\n",
       "      <td>5746969938801999050</td>\n",
       "      <td>1565212517</td>\n",
       "      <td>246</td>\n",
       "    </tr>\n",
       "  </tbody>\n",
       "</table>\n",
       "<p>244126 rows × 4 columns</p>\n",
       "</div>"
      ],
      "text/plain": [
       "                      EventName         DeviceIDHash  EventTimestamp  ExpId\n",
       "0              MainScreenAppear  4575588528974610257      1564029816    246\n",
       "1              MainScreenAppear  7416695313311560658      1564053102    246\n",
       "2       PaymentScreenSuccessful  3518123091307005509      1564054127    248\n",
       "3              CartScreenAppear  3518123091307005509      1564054127    248\n",
       "4       PaymentScreenSuccessful  6217807653094995999      1564055322    248\n",
       "...                         ...                  ...             ...    ...\n",
       "244121         MainScreenAppear  4599628364049201812      1565212345    247\n",
       "244122         MainScreenAppear  5849806612437486590      1565212439    246\n",
       "244123         MainScreenAppear  5746969938801999050      1565212483    246\n",
       "244124         MainScreenAppear  5746969938801999050      1565212498    246\n",
       "244125       OffersScreenAppear  5746969938801999050      1565212517    246\n",
       "\n",
       "[244126 rows x 4 columns]"
      ]
     },
     "execution_count": 4,
     "metadata": {},
     "output_type": "execute_result"
    }
   ],
   "source": [
    "data = pd.read_csv('/datasets/logs_exp.csv', sep='\\s')\n",
    "data"
   ]
  },
  {
   "cell_type": "code",
   "execution_count": 5,
   "metadata": {},
   "outputs": [
    {
     "data": {
      "text/html": [
       "<div>\n",
       "<style scoped>\n",
       "    .dataframe tbody tr th:only-of-type {\n",
       "        vertical-align: middle;\n",
       "    }\n",
       "\n",
       "    .dataframe tbody tr th {\n",
       "        vertical-align: top;\n",
       "    }\n",
       "\n",
       "    .dataframe thead th {\n",
       "        text-align: right;\n",
       "    }\n",
       "</style>\n",
       "<table border=\"1\" class=\"dataframe\">\n",
       "  <thead>\n",
       "    <tr style=\"text-align: right;\">\n",
       "      <th></th>\n",
       "      <th>event_name</th>\n",
       "      <th>id</th>\n",
       "      <th>date_time</th>\n",
       "      <th>exp_id</th>\n",
       "    </tr>\n",
       "  </thead>\n",
       "  <tbody>\n",
       "    <tr>\n",
       "      <th>0</th>\n",
       "      <td>MainScreenAppear</td>\n",
       "      <td>4575588528974610257</td>\n",
       "      <td>1564029816</td>\n",
       "      <td>246</td>\n",
       "    </tr>\n",
       "    <tr>\n",
       "      <th>1</th>\n",
       "      <td>MainScreenAppear</td>\n",
       "      <td>7416695313311560658</td>\n",
       "      <td>1564053102</td>\n",
       "      <td>246</td>\n",
       "    </tr>\n",
       "    <tr>\n",
       "      <th>2</th>\n",
       "      <td>PaymentScreenSuccessful</td>\n",
       "      <td>3518123091307005509</td>\n",
       "      <td>1564054127</td>\n",
       "      <td>248</td>\n",
       "    </tr>\n",
       "    <tr>\n",
       "      <th>3</th>\n",
       "      <td>CartScreenAppear</td>\n",
       "      <td>3518123091307005509</td>\n",
       "      <td>1564054127</td>\n",
       "      <td>248</td>\n",
       "    </tr>\n",
       "    <tr>\n",
       "      <th>4</th>\n",
       "      <td>PaymentScreenSuccessful</td>\n",
       "      <td>6217807653094995999</td>\n",
       "      <td>1564055322</td>\n",
       "      <td>248</td>\n",
       "    </tr>\n",
       "    <tr>\n",
       "      <th>...</th>\n",
       "      <td>...</td>\n",
       "      <td>...</td>\n",
       "      <td>...</td>\n",
       "      <td>...</td>\n",
       "    </tr>\n",
       "    <tr>\n",
       "      <th>244121</th>\n",
       "      <td>MainScreenAppear</td>\n",
       "      <td>4599628364049201812</td>\n",
       "      <td>1565212345</td>\n",
       "      <td>247</td>\n",
       "    </tr>\n",
       "    <tr>\n",
       "      <th>244122</th>\n",
       "      <td>MainScreenAppear</td>\n",
       "      <td>5849806612437486590</td>\n",
       "      <td>1565212439</td>\n",
       "      <td>246</td>\n",
       "    </tr>\n",
       "    <tr>\n",
       "      <th>244123</th>\n",
       "      <td>MainScreenAppear</td>\n",
       "      <td>5746969938801999050</td>\n",
       "      <td>1565212483</td>\n",
       "      <td>246</td>\n",
       "    </tr>\n",
       "    <tr>\n",
       "      <th>244124</th>\n",
       "      <td>MainScreenAppear</td>\n",
       "      <td>5746969938801999050</td>\n",
       "      <td>1565212498</td>\n",
       "      <td>246</td>\n",
       "    </tr>\n",
       "    <tr>\n",
       "      <th>244125</th>\n",
       "      <td>OffersScreenAppear</td>\n",
       "      <td>5746969938801999050</td>\n",
       "      <td>1565212517</td>\n",
       "      <td>246</td>\n",
       "    </tr>\n",
       "  </tbody>\n",
       "</table>\n",
       "<p>244126 rows × 4 columns</p>\n",
       "</div>"
      ],
      "text/plain": [
       "                     event_name                   id   date_time  exp_id\n",
       "0              MainScreenAppear  4575588528974610257  1564029816     246\n",
       "1              MainScreenAppear  7416695313311560658  1564053102     246\n",
       "2       PaymentScreenSuccessful  3518123091307005509  1564054127     248\n",
       "3              CartScreenAppear  3518123091307005509  1564054127     248\n",
       "4       PaymentScreenSuccessful  6217807653094995999  1564055322     248\n",
       "...                         ...                  ...         ...     ...\n",
       "244121         MainScreenAppear  4599628364049201812  1565212345     247\n",
       "244122         MainScreenAppear  5849806612437486590  1565212439     246\n",
       "244123         MainScreenAppear  5746969938801999050  1565212483     246\n",
       "244124         MainScreenAppear  5746969938801999050  1565212498     246\n",
       "244125       OffersScreenAppear  5746969938801999050  1565212517     246\n",
       "\n",
       "[244126 rows x 4 columns]"
      ]
     },
     "execution_count": 5,
     "metadata": {},
     "output_type": "execute_result"
    }
   ],
   "source": [
    "# переименуем колонки\n",
    "data = data.rename(columns = {'EventName':'event_name', 'DeviceIDHash':'id', 'EventTimestamp':'date_time', 'ExpId':'exp_id'})\n",
    "data"
   ]
  },
  {
   "cell_type": "code",
   "execution_count": 6,
   "metadata": {},
   "outputs": [
    {
     "data": {
      "text/html": [
       "<div>\n",
       "<style scoped>\n",
       "    .dataframe tbody tr th:only-of-type {\n",
       "        vertical-align: middle;\n",
       "    }\n",
       "\n",
       "    .dataframe tbody tr th {\n",
       "        vertical-align: top;\n",
       "    }\n",
       "\n",
       "    .dataframe thead th {\n",
       "        text-align: right;\n",
       "    }\n",
       "</style>\n",
       "<table border=\"1\" class=\"dataframe\">\n",
       "  <thead>\n",
       "    <tr style=\"text-align: right;\">\n",
       "      <th></th>\n",
       "      <th>event_name</th>\n",
       "      <th>id</th>\n",
       "      <th>date_time</th>\n",
       "      <th>exp_id</th>\n",
       "    </tr>\n",
       "  </thead>\n",
       "  <tbody>\n",
       "    <tr>\n",
       "      <th>0</th>\n",
       "      <td>MainScreenAppear</td>\n",
       "      <td>4575588528974610257</td>\n",
       "      <td>2019-07-25 04:43:36</td>\n",
       "      <td>246</td>\n",
       "    </tr>\n",
       "    <tr>\n",
       "      <th>1</th>\n",
       "      <td>MainScreenAppear</td>\n",
       "      <td>7416695313311560658</td>\n",
       "      <td>2019-07-25 11:11:42</td>\n",
       "      <td>246</td>\n",
       "    </tr>\n",
       "    <tr>\n",
       "      <th>2</th>\n",
       "      <td>PaymentScreenSuccessful</td>\n",
       "      <td>3518123091307005509</td>\n",
       "      <td>2019-07-25 11:28:47</td>\n",
       "      <td>248</td>\n",
       "    </tr>\n",
       "    <tr>\n",
       "      <th>3</th>\n",
       "      <td>CartScreenAppear</td>\n",
       "      <td>3518123091307005509</td>\n",
       "      <td>2019-07-25 11:28:47</td>\n",
       "      <td>248</td>\n",
       "    </tr>\n",
       "    <tr>\n",
       "      <th>4</th>\n",
       "      <td>PaymentScreenSuccessful</td>\n",
       "      <td>6217807653094995999</td>\n",
       "      <td>2019-07-25 11:48:42</td>\n",
       "      <td>248</td>\n",
       "    </tr>\n",
       "    <tr>\n",
       "      <th>...</th>\n",
       "      <td>...</td>\n",
       "      <td>...</td>\n",
       "      <td>...</td>\n",
       "      <td>...</td>\n",
       "    </tr>\n",
       "    <tr>\n",
       "      <th>244121</th>\n",
       "      <td>MainScreenAppear</td>\n",
       "      <td>4599628364049201812</td>\n",
       "      <td>2019-08-07 21:12:25</td>\n",
       "      <td>247</td>\n",
       "    </tr>\n",
       "    <tr>\n",
       "      <th>244122</th>\n",
       "      <td>MainScreenAppear</td>\n",
       "      <td>5849806612437486590</td>\n",
       "      <td>2019-08-07 21:13:59</td>\n",
       "      <td>246</td>\n",
       "    </tr>\n",
       "    <tr>\n",
       "      <th>244123</th>\n",
       "      <td>MainScreenAppear</td>\n",
       "      <td>5746969938801999050</td>\n",
       "      <td>2019-08-07 21:14:43</td>\n",
       "      <td>246</td>\n",
       "    </tr>\n",
       "    <tr>\n",
       "      <th>244124</th>\n",
       "      <td>MainScreenAppear</td>\n",
       "      <td>5746969938801999050</td>\n",
       "      <td>2019-08-07 21:14:58</td>\n",
       "      <td>246</td>\n",
       "    </tr>\n",
       "    <tr>\n",
       "      <th>244125</th>\n",
       "      <td>OffersScreenAppear</td>\n",
       "      <td>5746969938801999050</td>\n",
       "      <td>2019-08-07 21:15:17</td>\n",
       "      <td>246</td>\n",
       "    </tr>\n",
       "  </tbody>\n",
       "</table>\n",
       "<p>244126 rows × 4 columns</p>\n",
       "</div>"
      ],
      "text/plain": [
       "                     event_name                   id           date_time  \\\n",
       "0              MainScreenAppear  4575588528974610257 2019-07-25 04:43:36   \n",
       "1              MainScreenAppear  7416695313311560658 2019-07-25 11:11:42   \n",
       "2       PaymentScreenSuccessful  3518123091307005509 2019-07-25 11:28:47   \n",
       "3              CartScreenAppear  3518123091307005509 2019-07-25 11:28:47   \n",
       "4       PaymentScreenSuccessful  6217807653094995999 2019-07-25 11:48:42   \n",
       "...                         ...                  ...                 ...   \n",
       "244121         MainScreenAppear  4599628364049201812 2019-08-07 21:12:25   \n",
       "244122         MainScreenAppear  5849806612437486590 2019-08-07 21:13:59   \n",
       "244123         MainScreenAppear  5746969938801999050 2019-08-07 21:14:43   \n",
       "244124         MainScreenAppear  5746969938801999050 2019-08-07 21:14:58   \n",
       "244125       OffersScreenAppear  5746969938801999050 2019-08-07 21:15:17   \n",
       "\n",
       "        exp_id  \n",
       "0          246  \n",
       "1          246  \n",
       "2          248  \n",
       "3          248  \n",
       "4          248  \n",
       "...        ...  \n",
       "244121     247  \n",
       "244122     246  \n",
       "244123     246  \n",
       "244124     246  \n",
       "244125     246  \n",
       "\n",
       "[244126 rows x 4 columns]"
      ]
     },
     "execution_count": 6,
     "metadata": {},
     "output_type": "execute_result"
    }
   ],
   "source": [
    "# изменим тип данных\n",
    "data['date_time'] = pd.to_datetime(data['date_time'], unit='s')\n",
    "data"
   ]
  },
  {
   "cell_type": "code",
   "execution_count": 7,
   "metadata": {},
   "outputs": [
    {
     "data": {
      "text/html": [
       "<div>\n",
       "<style scoped>\n",
       "    .dataframe tbody tr th:only-of-type {\n",
       "        vertical-align: middle;\n",
       "    }\n",
       "\n",
       "    .dataframe tbody tr th {\n",
       "        vertical-align: top;\n",
       "    }\n",
       "\n",
       "    .dataframe thead th {\n",
       "        text-align: right;\n",
       "    }\n",
       "</style>\n",
       "<table border=\"1\" class=\"dataframe\">\n",
       "  <thead>\n",
       "    <tr style=\"text-align: right;\">\n",
       "      <th></th>\n",
       "      <th>event_name</th>\n",
       "      <th>id</th>\n",
       "      <th>date_time</th>\n",
       "      <th>exp_id</th>\n",
       "      <th>date</th>\n",
       "    </tr>\n",
       "  </thead>\n",
       "  <tbody>\n",
       "    <tr>\n",
       "      <th>0</th>\n",
       "      <td>MainScreenAppear</td>\n",
       "      <td>4575588528974610257</td>\n",
       "      <td>2019-07-25 04:43:36</td>\n",
       "      <td>246</td>\n",
       "      <td>2019-07-25</td>\n",
       "    </tr>\n",
       "    <tr>\n",
       "      <th>1</th>\n",
       "      <td>MainScreenAppear</td>\n",
       "      <td>7416695313311560658</td>\n",
       "      <td>2019-07-25 11:11:42</td>\n",
       "      <td>246</td>\n",
       "      <td>2019-07-25</td>\n",
       "    </tr>\n",
       "    <tr>\n",
       "      <th>2</th>\n",
       "      <td>PaymentScreenSuccessful</td>\n",
       "      <td>3518123091307005509</td>\n",
       "      <td>2019-07-25 11:28:47</td>\n",
       "      <td>248</td>\n",
       "      <td>2019-07-25</td>\n",
       "    </tr>\n",
       "    <tr>\n",
       "      <th>3</th>\n",
       "      <td>CartScreenAppear</td>\n",
       "      <td>3518123091307005509</td>\n",
       "      <td>2019-07-25 11:28:47</td>\n",
       "      <td>248</td>\n",
       "      <td>2019-07-25</td>\n",
       "    </tr>\n",
       "    <tr>\n",
       "      <th>4</th>\n",
       "      <td>PaymentScreenSuccessful</td>\n",
       "      <td>6217807653094995999</td>\n",
       "      <td>2019-07-25 11:48:42</td>\n",
       "      <td>248</td>\n",
       "      <td>2019-07-25</td>\n",
       "    </tr>\n",
       "    <tr>\n",
       "      <th>...</th>\n",
       "      <td>...</td>\n",
       "      <td>...</td>\n",
       "      <td>...</td>\n",
       "      <td>...</td>\n",
       "      <td>...</td>\n",
       "    </tr>\n",
       "    <tr>\n",
       "      <th>244121</th>\n",
       "      <td>MainScreenAppear</td>\n",
       "      <td>4599628364049201812</td>\n",
       "      <td>2019-08-07 21:12:25</td>\n",
       "      <td>247</td>\n",
       "      <td>2019-08-07</td>\n",
       "    </tr>\n",
       "    <tr>\n",
       "      <th>244122</th>\n",
       "      <td>MainScreenAppear</td>\n",
       "      <td>5849806612437486590</td>\n",
       "      <td>2019-08-07 21:13:59</td>\n",
       "      <td>246</td>\n",
       "      <td>2019-08-07</td>\n",
       "    </tr>\n",
       "    <tr>\n",
       "      <th>244123</th>\n",
       "      <td>MainScreenAppear</td>\n",
       "      <td>5746969938801999050</td>\n",
       "      <td>2019-08-07 21:14:43</td>\n",
       "      <td>246</td>\n",
       "      <td>2019-08-07</td>\n",
       "    </tr>\n",
       "    <tr>\n",
       "      <th>244124</th>\n",
       "      <td>MainScreenAppear</td>\n",
       "      <td>5746969938801999050</td>\n",
       "      <td>2019-08-07 21:14:58</td>\n",
       "      <td>246</td>\n",
       "      <td>2019-08-07</td>\n",
       "    </tr>\n",
       "    <tr>\n",
       "      <th>244125</th>\n",
       "      <td>OffersScreenAppear</td>\n",
       "      <td>5746969938801999050</td>\n",
       "      <td>2019-08-07 21:15:17</td>\n",
       "      <td>246</td>\n",
       "      <td>2019-08-07</td>\n",
       "    </tr>\n",
       "  </tbody>\n",
       "</table>\n",
       "<p>244126 rows × 5 columns</p>\n",
       "</div>"
      ],
      "text/plain": [
       "                     event_name                   id           date_time  \\\n",
       "0              MainScreenAppear  4575588528974610257 2019-07-25 04:43:36   \n",
       "1              MainScreenAppear  7416695313311560658 2019-07-25 11:11:42   \n",
       "2       PaymentScreenSuccessful  3518123091307005509 2019-07-25 11:28:47   \n",
       "3              CartScreenAppear  3518123091307005509 2019-07-25 11:28:47   \n",
       "4       PaymentScreenSuccessful  6217807653094995999 2019-07-25 11:48:42   \n",
       "...                         ...                  ...                 ...   \n",
       "244121         MainScreenAppear  4599628364049201812 2019-08-07 21:12:25   \n",
       "244122         MainScreenAppear  5849806612437486590 2019-08-07 21:13:59   \n",
       "244123         MainScreenAppear  5746969938801999050 2019-08-07 21:14:43   \n",
       "244124         MainScreenAppear  5746969938801999050 2019-08-07 21:14:58   \n",
       "244125       OffersScreenAppear  5746969938801999050 2019-08-07 21:15:17   \n",
       "\n",
       "        exp_id       date  \n",
       "0          246 2019-07-25  \n",
       "1          246 2019-07-25  \n",
       "2          248 2019-07-25  \n",
       "3          248 2019-07-25  \n",
       "4          248 2019-07-25  \n",
       "...        ...        ...  \n",
       "244121     247 2019-08-07  \n",
       "244122     246 2019-08-07  \n",
       "244123     246 2019-08-07  \n",
       "244124     246 2019-08-07  \n",
       "244125     246 2019-08-07  \n",
       "\n",
       "[244126 rows x 5 columns]"
      ]
     },
     "execution_count": 7,
     "metadata": {},
     "output_type": "execute_result"
    }
   ],
   "source": [
    "# добавим колонку с датой\n",
    "data['date'] = data['date_time'].dt.floor('1D')\n",
    "data    "
   ]
  },
  {
   "cell_type": "code",
   "execution_count": 8,
   "metadata": {},
   "outputs": [
    {
     "data": {
      "text/plain": [
       "array(['MainScreenAppear', 'PaymentScreenSuccessful', 'CartScreenAppear',\n",
       "       'OffersScreenAppear', 'Tutorial'], dtype=object)"
      ]
     },
     "execution_count": 8,
     "metadata": {},
     "output_type": "execute_result"
    }
   ],
   "source": [
    "# выведим уникальные значения шагов\n",
    "data['event_name'].unique()"
   ]
  },
  {
   "cell_type": "code",
   "execution_count": 9,
   "metadata": {},
   "outputs": [
    {
     "data": {
      "text/plain": [
       "array([246, 248, 247])"
      ]
     },
     "execution_count": 9,
     "metadata": {},
     "output_type": "execute_result"
    }
   ],
   "source": [
    "# уникальные значения групп\n",
    "data['exp_id'].unique()"
   ]
  },
  {
   "cell_type": "code",
   "execution_count": 10,
   "metadata": {},
   "outputs": [
    {
     "name": "stdout",
     "output_type": "stream",
     "text": [
      "<class 'pandas.core.frame.DataFrame'>\n",
      "RangeIndex: 244126 entries, 0 to 244125\n",
      "Data columns (total 5 columns):\n",
      " #   Column      Non-Null Count   Dtype         \n",
      "---  ------      --------------   -----         \n",
      " 0   event_name  244126 non-null  object        \n",
      " 1   id          244126 non-null  int64         \n",
      " 2   date_time   244126 non-null  datetime64[ns]\n",
      " 3   exp_id      244126 non-null  int64         \n",
      " 4   date        244126 non-null  datetime64[ns]\n",
      "dtypes: datetime64[ns](2), int64(2), object(1)\n",
      "memory usage: 9.3+ MB\n"
     ]
    }
   ],
   "source": [
    "# выведим информацию о датасете\n",
    "data.info()"
   ]
  },
  {
   "cell_type": "code",
   "execution_count": 11,
   "metadata": {},
   "outputs": [
    {
     "data": {
      "text/plain": [
       "413"
      ]
     },
     "execution_count": 11,
     "metadata": {},
     "output_type": "execute_result"
    }
   ],
   "source": [
    "# проверим на дубликаты\n",
    "data.duplicated().sum()"
   ]
  },
  {
   "cell_type": "code",
   "execution_count": 12,
   "metadata": {},
   "outputs": [
    {
     "data": {
      "text/plain": [
       "0"
      ]
     },
     "execution_count": 12,
     "metadata": {},
     "output_type": "execute_result"
    }
   ],
   "source": [
    "# удалим дубликаты\n",
    "data = data.drop_duplicates()\n",
    "data.duplicated().sum()"
   ]
  },
  {
   "cell_type": "markdown",
   "metadata": {},
   "source": [
    "В предобработке мы изменили тип данных, добавили стобец с датой, проверили на пропуски и дубликаты, удалили дубликаты. Посмотрели уникальные значения."
   ]
  },
  {
   "cell_type": "markdown",
   "metadata": {},
   "source": [
    "## Проверка данных"
   ]
  },
  {
   "cell_type": "code",
   "execution_count": 13,
   "metadata": {},
   "outputs": [
    {
     "data": {
      "text/plain": [
       "MainScreenAppear           119101\n",
       "OffersScreenAppear          46808\n",
       "CartScreenAppear            42668\n",
       "PaymentScreenSuccessful     34118\n",
       "Tutorial                     1018\n",
       "Name: event_name, dtype: int64"
      ]
     },
     "execution_count": 13,
     "metadata": {},
     "output_type": "execute_result"
    }
   ],
   "source": [
    "# посмотрим шаги по убыванию\n",
    "data['event_name'].value_counts()"
   ]
  },
  {
   "cell_type": "code",
   "execution_count": 14,
   "metadata": {},
   "outputs": [
    {
     "data": {
      "text/plain": [
       "243713"
      ]
     },
     "execution_count": 14,
     "metadata": {},
     "output_type": "execute_result"
    }
   ],
   "source": [
    "#посмотрим сколько всего действий было совершено\n",
    "len(data['event_name'])"
   ]
  },
  {
   "cell_type": "code",
   "execution_count": 15,
   "metadata": {},
   "outputs": [
    {
     "data": {
      "text/plain": [
       "6304868067479728361    2307\n",
       "197027893265565660     1998\n",
       "4623191541214045580    1768\n",
       "6932517045703054087    1439\n",
       "1754140665440434215    1221\n",
       "                       ... \n",
       "395376432319166724        1\n",
       "404128138074395619        1\n",
       "6936517579657223951       1\n",
       "5138854326043201424       1\n",
       "3954096321632083010       1\n",
       "Name: id, Length: 7551, dtype: int64"
      ]
     },
     "execution_count": 15,
     "metadata": {},
     "output_type": "execute_result"
    }
   ],
   "source": [
    "# посмотрим сколько пользователей сколькой действий совершали\n",
    "data['id'].value_counts()"
   ]
  },
  {
   "cell_type": "code",
   "execution_count": 16,
   "metadata": {},
   "outputs": [
    {
     "data": {
      "text/plain": [
       "32.27559263673685"
      ]
     },
     "execution_count": 16,
     "metadata": {},
     "output_type": "execute_result"
    }
   ],
   "source": [
    "# посчитаем среднее количество действий на пользователя\n",
    "data.groupby('id')['event_name'].count().mean()"
   ]
  },
  {
   "cell_type": "code",
   "execution_count": 17,
   "metadata": {},
   "outputs": [
    {
     "name": "stdout",
     "output_type": "stream",
     "text": [
      "2019-07-25 04:43:36\n",
      "2019-08-07 21:15:17\n"
     ]
    }
   ],
   "source": [
    "# проверим минимальную и максимальную дату исследования\n",
    "print(data['date_time'].min())\n",
    "print(data['date_time'].max())"
   ]
  },
  {
   "cell_type": "code",
   "execution_count": 18,
   "metadata": {},
   "outputs": [
    {
     "data": {
      "text/plain": [
       "Text(0, 0.5, 'Кол-во действий')"
      ]
     },
     "execution_count": 18,
     "metadata": {},
     "output_type": "execute_result"
    },
    {
     "data": {
      "image/png": "[encoded data removed]",
      "text/plain": [
       "<Figure size 1008x360 with 1 Axes>"
      ]
     },
     "metadata": {
      "needs_background": "light"
     },
     "output_type": "display_data"
    }
   ],
   "source": [
    "# построим гистограмму по дате\n",
    "plt.figure(figsize=(14,5))\n",
    "data['date_time'].hist(bins=15)\n",
    "plt.title('Посещение приложения')\n",
    "plt.xlabel('Дата')\n",
    "plt.ylabel('Кол-во действий')\n",
    "\n"
   ]
  },
  {
   "cell_type": "markdown",
   "metadata": {},
   "source": [
    "На гистограмме мы можем видеть, что всплеск активности начался с 01.08.19, поэтому то что было до этой даты исключим."
   ]
  },
  {
   "cell_type": "code",
   "execution_count": 19,
   "metadata": {},
   "outputs": [
    {
     "data": {
      "text/html": [
       "<div>\n",
       "<style scoped>\n",
       "    .dataframe tbody tr th:only-of-type {\n",
       "        vertical-align: middle;\n",
       "    }\n",
       "\n",
       "    .dataframe tbody tr th {\n",
       "        vertical-align: top;\n",
       "    }\n",
       "\n",
       "    .dataframe thead th {\n",
       "        text-align: right;\n",
       "    }\n",
       "</style>\n",
       "<table border=\"1\" class=\"dataframe\">\n",
       "  <thead>\n",
       "    <tr style=\"text-align: right;\">\n",
       "      <th></th>\n",
       "      <th>event_name</th>\n",
       "      <th>id</th>\n",
       "      <th>date_time</th>\n",
       "      <th>exp_id</th>\n",
       "      <th>date</th>\n",
       "    </tr>\n",
       "  </thead>\n",
       "  <tbody>\n",
       "    <tr>\n",
       "      <th>2828</th>\n",
       "      <td>Tutorial</td>\n",
       "      <td>3737462046622621720</td>\n",
       "      <td>2019-08-01 00:07:28</td>\n",
       "      <td>246</td>\n",
       "      <td>2019-08-01</td>\n",
       "    </tr>\n",
       "    <tr>\n",
       "      <th>2829</th>\n",
       "      <td>MainScreenAppear</td>\n",
       "      <td>3737462046622621720</td>\n",
       "      <td>2019-08-01 00:08:00</td>\n",
       "      <td>246</td>\n",
       "      <td>2019-08-01</td>\n",
       "    </tr>\n",
       "    <tr>\n",
       "      <th>2830</th>\n",
       "      <td>MainScreenAppear</td>\n",
       "      <td>3737462046622621720</td>\n",
       "      <td>2019-08-01 00:08:55</td>\n",
       "      <td>246</td>\n",
       "      <td>2019-08-01</td>\n",
       "    </tr>\n",
       "    <tr>\n",
       "      <th>2831</th>\n",
       "      <td>OffersScreenAppear</td>\n",
       "      <td>3737462046622621720</td>\n",
       "      <td>2019-08-01 00:08:58</td>\n",
       "      <td>246</td>\n",
       "      <td>2019-08-01</td>\n",
       "    </tr>\n",
       "    <tr>\n",
       "      <th>2832</th>\n",
       "      <td>MainScreenAppear</td>\n",
       "      <td>1433840883824088890</td>\n",
       "      <td>2019-08-01 00:08:59</td>\n",
       "      <td>247</td>\n",
       "      <td>2019-08-01</td>\n",
       "    </tr>\n",
       "    <tr>\n",
       "      <th>...</th>\n",
       "      <td>...</td>\n",
       "      <td>...</td>\n",
       "      <td>...</td>\n",
       "      <td>...</td>\n",
       "      <td>...</td>\n",
       "    </tr>\n",
       "    <tr>\n",
       "      <th>244121</th>\n",
       "      <td>MainScreenAppear</td>\n",
       "      <td>4599628364049201812</td>\n",
       "      <td>2019-08-07 21:12:25</td>\n",
       "      <td>247</td>\n",
       "      <td>2019-08-07</td>\n",
       "    </tr>\n",
       "    <tr>\n",
       "      <th>244122</th>\n",
       "      <td>MainScreenAppear</td>\n",
       "      <td>5849806612437486590</td>\n",
       "      <td>2019-08-07 21:13:59</td>\n",
       "      <td>246</td>\n",
       "      <td>2019-08-07</td>\n",
       "    </tr>\n",
       "    <tr>\n",
       "      <th>244123</th>\n",
       "      <td>MainScreenAppear</td>\n",
       "      <td>5746969938801999050</td>\n",
       "      <td>2019-08-07 21:14:43</td>\n",
       "      <td>246</td>\n",
       "      <td>2019-08-07</td>\n",
       "    </tr>\n",
       "    <tr>\n",
       "      <th>244124</th>\n",
       "      <td>MainScreenAppear</td>\n",
       "      <td>5746969938801999050</td>\n",
       "      <td>2019-08-07 21:14:58</td>\n",
       "      <td>246</td>\n",
       "      <td>2019-08-07</td>\n",
       "    </tr>\n",
       "    <tr>\n",
       "      <th>244125</th>\n",
       "      <td>OffersScreenAppear</td>\n",
       "      <td>5746969938801999050</td>\n",
       "      <td>2019-08-07 21:15:17</td>\n",
       "      <td>246</td>\n",
       "      <td>2019-08-07</td>\n",
       "    </tr>\n",
       "  </tbody>\n",
       "</table>\n",
       "<p>240887 rows × 5 columns</p>\n",
       "</div>"
      ],
      "text/plain": [
       "                event_name                   id           date_time  exp_id  \\\n",
       "2828              Tutorial  3737462046622621720 2019-08-01 00:07:28     246   \n",
       "2829      MainScreenAppear  3737462046622621720 2019-08-01 00:08:00     246   \n",
       "2830      MainScreenAppear  3737462046622621720 2019-08-01 00:08:55     246   \n",
       "2831    OffersScreenAppear  3737462046622621720 2019-08-01 00:08:58     246   \n",
       "2832      MainScreenAppear  1433840883824088890 2019-08-01 00:08:59     247   \n",
       "...                    ...                  ...                 ...     ...   \n",
       "244121    MainScreenAppear  4599628364049201812 2019-08-07 21:12:25     247   \n",
       "244122    MainScreenAppear  5849806612437486590 2019-08-07 21:13:59     246   \n",
       "244123    MainScreenAppear  5746969938801999050 2019-08-07 21:14:43     246   \n",
       "244124    MainScreenAppear  5746969938801999050 2019-08-07 21:14:58     246   \n",
       "244125  OffersScreenAppear  5746969938801999050 2019-08-07 21:15:17     246   \n",
       "\n",
       "             date  \n",
       "2828   2019-08-01  \n",
       "2829   2019-08-01  \n",
       "2830   2019-08-01  \n",
       "2831   2019-08-01  \n",
       "2832   2019-08-01  \n",
       "...           ...  \n",
       "244121 2019-08-07  \n",
       "244122 2019-08-07  \n",
       "244123 2019-08-07  \n",
       "244124 2019-08-07  \n",
       "244125 2019-08-07  \n",
       "\n",
       "[240887 rows x 5 columns]"
      ]
     },
     "execution_count": 19,
     "metadata": {},
     "output_type": "execute_result"
    }
   ],
   "source": [
    "# сделаем срез данных\n",
    "new_data = data.loc[data['date'] >= '2019-08-01']\n",
    "new_data"
   ]
  },
  {
   "cell_type": "code",
   "execution_count": 20,
   "metadata": {},
   "outputs": [
    {
     "name": "stdout",
     "output_type": "stream",
     "text": [
      "<class 'pandas.core.frame.DataFrame'>\n",
      "Int64Index: 240887 entries, 2828 to 244125\n",
      "Data columns (total 5 columns):\n",
      " #   Column      Non-Null Count   Dtype         \n",
      "---  ------      --------------   -----         \n",
      " 0   event_name  240887 non-null  object        \n",
      " 1   id          240887 non-null  int64         \n",
      " 2   date_time   240887 non-null  datetime64[ns]\n",
      " 3   exp_id      240887 non-null  int64         \n",
      " 4   date        240887 non-null  datetime64[ns]\n",
      "dtypes: datetime64[ns](2), int64(2), object(1)\n",
      "memory usage: 11.0+ MB\n"
     ]
    }
   ],
   "source": [
    "# выведим информацию о новом столбце\n",
    "new_data.info()"
   ]
  },
  {
   "cell_type": "code",
   "execution_count": 21,
   "metadata": {},
   "outputs": [
    {
     "name": "stdout",
     "output_type": "stream",
     "text": [
      "Доля отфильтрованных событий: 0.01159560630741896\n",
      "Доля отфильтрованных уникальных пользователей : 0.0022513574361011646\n"
     ]
    }
   ],
   "source": [
    "# проверим сколько событий и пользователей мы отфильровали в долях\n",
    "print('Доля отфильтрованных событий:', 1 - len(new_data)/len(data))\n",
    "\n",
    "print('Доля отфильтрованных уникальных пользователей :', 1- new_data['id'].nunique()/data['id'].nunique())"
   ]
  },
  {
   "cell_type": "code",
   "execution_count": 22,
   "metadata": {},
   "outputs": [
    {
     "data": {
      "text/plain": [
       "248    84563\n",
       "246    79302\n",
       "247    77022\n",
       "Name: exp_id, dtype: int64"
      ]
     },
     "execution_count": 22,
     "metadata": {},
     "output_type": "execute_result"
    }
   ],
   "source": [
    "# проверим сколько пользователей в каждой группе теста\n",
    "new_data['exp_id'].value_counts()"
   ]
  },
  {
   "cell_type": "markdown",
   "metadata": {},
   "source": [
    "**Вывод:**\n",
    "При проверке данныхвыяснили, что:  \n",
    "- пользователь проходит 5 шагов  \n",
    "- всего действий было совершено 243713   \n",
    "- уникальных пользователей 7551  \n",
    "- среднее количество действий на пользователя 32\n",
    "- эксперимент проводился с 25.07-07.08, но не все данные во время подгрузились и поэтому в анализе мы берем только с 01.08-07.08\n",
    "- доля отфильтрованных событий составила всего 1: \n",
    "- в каждой группе близкое количество народу."
   ]
  },
  {
   "cell_type": "markdown",
   "metadata": {},
   "source": [
    "## Анализ воронки событий"
   ]
  },
  {
   "cell_type": "code",
   "execution_count": 23,
   "metadata": {},
   "outputs": [
    {
     "data": {
      "text/plain": [
       "MainScreenAppear           117328\n",
       "OffersScreenAppear          46333\n",
       "CartScreenAppear            42303\n",
       "PaymentScreenSuccessful     33918\n",
       "Tutorial                     1005\n",
       "Name: event_name, dtype: int64"
      ]
     },
     "execution_count": 23,
     "metadata": {},
     "output_type": "execute_result"
    }
   ],
   "source": [
    "new_data['event_name'].value_counts()"
   ]
  },
  {
   "cell_type": "code",
   "execution_count": 24,
   "metadata": {},
   "outputs": [
    {
     "data": {
      "text/html": [
       "<div>\n",
       "<style scoped>\n",
       "    .dataframe tbody tr th:only-of-type {\n",
       "        vertical-align: middle;\n",
       "    }\n",
       "\n",
       "    .dataframe tbody tr th {\n",
       "        vertical-align: top;\n",
       "    }\n",
       "\n",
       "    .dataframe thead th {\n",
       "        text-align: right;\n",
       "    }\n",
       "</style>\n",
       "<table border=\"1\" class=\"dataframe\">\n",
       "  <thead>\n",
       "    <tr style=\"text-align: right;\">\n",
       "      <th></th>\n",
       "      <th>event_name</th>\n",
       "      <th>n_events</th>\n",
       "      <th>users</th>\n",
       "      <th>users_part_1event</th>\n",
       "    </tr>\n",
       "  </thead>\n",
       "  <tbody>\n",
       "    <tr>\n",
       "      <th>0</th>\n",
       "      <td>MainScreenAppear</td>\n",
       "      <td>117328</td>\n",
       "      <td>7419</td>\n",
       "      <td>98.5</td>\n",
       "    </tr>\n",
       "    <tr>\n",
       "      <th>1</th>\n",
       "      <td>OffersScreenAppear</td>\n",
       "      <td>46333</td>\n",
       "      <td>4593</td>\n",
       "      <td>61.0</td>\n",
       "    </tr>\n",
       "    <tr>\n",
       "      <th>2</th>\n",
       "      <td>CartScreenAppear</td>\n",
       "      <td>42303</td>\n",
       "      <td>3734</td>\n",
       "      <td>49.6</td>\n",
       "    </tr>\n",
       "    <tr>\n",
       "      <th>3</th>\n",
       "      <td>PaymentScreenSuccessful</td>\n",
       "      <td>33918</td>\n",
       "      <td>3539</td>\n",
       "      <td>47.0</td>\n",
       "    </tr>\n",
       "    <tr>\n",
       "      <th>4</th>\n",
       "      <td>Tutorial</td>\n",
       "      <td>1005</td>\n",
       "      <td>840</td>\n",
       "      <td>11.1</td>\n",
       "    </tr>\n",
       "  </tbody>\n",
       "</table>\n",
       "</div>"
      ],
      "text/plain": [
       "                event_name  n_events  users  users_part_1event\n",
       "0         MainScreenAppear    117328   7419               98.5\n",
       "1       OffersScreenAppear     46333   4593               61.0\n",
       "2         CartScreenAppear     42303   3734               49.6\n",
       "3  PaymentScreenSuccessful     33918   3539               47.0\n",
       "4                 Tutorial      1005    840               11.1"
      ]
     },
     "execution_count": 24,
     "metadata": {},
     "output_type": "execute_result"
    }
   ],
   "source": [
    "# сгруппируем данные по шагам, посмотри сколько действий сделано в каждом шаге, сколько уникальных пользователей \n",
    "# и долю пользователей в каждом шаге\n",
    "event_group = new_data.groupby('event_name').agg({'event_name':'count', 'id':'nunique'}\n",
    "                                                ).sort_values(by='id', ascending=False)\n",
    "event_group.columns = ['n_events', 'users']\n",
    "event_group = event_group.reset_index()\n",
    "event_group['users_part_1event'] = (event_group['users'] / new_data['id'].nunique() * 100).round(1) \n",
    "event_group"
   ]
  },
  {
   "cell_type": "markdown",
   "metadata": {},
   "source": [
    "События происходят в следующем порядке:\n",
    "\n",
    "MainScreenAppear - главный экран  \n",
    "Tutorial - обучение (по желанию)  \n",
    "OffersScreenAppear - экран с товарами    \n",
    "CartScreenAppear - экран с корзиной    \n",
    "PaymentScreenSuccessful - Экран успешной оплаты заказа  \n",
    "Этап Tutorial тут лишний, так как обязательным не является и не влияет на то, дойдет ли пользователь до финальной покупки или нет. Так же событий этого типа слишком мало для анализа по сравнению с другими. Уберем этат этап из нашего анализа."
   ]
  },
  {
   "cell_type": "code",
   "execution_count": 25,
   "metadata": {},
   "outputs": [
    {
     "data": {
      "application/vnd.plotly.v1+json": {
       "config": {
        "plotlyServerURL": "https://plot.ly"
       },
       "data": [
        {
         "alignmentgroup": "True",
         "hovertemplate": "event_name=%{x}<br>users=%{y}<extra></extra>",
         "legendgroup": "",
         "marker": {
          "color": "#636efa",
          "pattern": {
           "shape": ""
          }
         },
         "name": "",
         "offsetgroup": "",
         "orientation": "v",
         "showlegend": false,
         "textposition": "auto",
         "type": "bar",
         "x": [
          "MainScreenAppear",
          "OffersScreenAppear",
          "CartScreenAppear",
          "PaymentScreenSuccessful",
          "Tutorial"
         ],
         "xaxis": "x",
         "y": [
          7419,
          4593,
          3734,
          3539,
          840
         ],
         "yaxis": "y"
        }
       ],
       "layout": {
        "barmode": "relative",
        "legend": {
         "tracegroupgap": 0
        },
        "template": {
         "data": {
          "bar": [
           {
            "error_x": {
             "color": "#2a3f5f"
            },
            "error_y": {
             "color": "#2a3f5f"
            },
            "marker": {
             "line": {
              "color": "#E5ECF6",
              "width": 0.5
             },
             "pattern": {
              "fillmode": "overlay",
              "size": 10,
              "solidity": 0.2
             }
            },
            "type": "bar"
           }
          ],
          "barpolar": [
           {
            "marker": {
             "line": {
              "color": "#E5ECF6",
              "width": 0.5
             },
             "pattern": {
              "fillmode": "overlay",
              "size": 10,
              "solidity": 0.2
             }
            },
            "type": "barpolar"
           }
          ],
          "carpet": [
           {
            "aaxis": {
             "endlinecolor": "#2a3f5f",
             "gridcolor": "white",
             "linecolor": "white",
             "minorgridcolor": "white",
             "startlinecolor": "#2a3f5f"
            },
            "baxis": {
             "endlinecolor": "#2a3f5f",
             "gridcolor": "white",
             "linecolor": "white",
             "minorgridcolor": "white",
             "startlinecolor": "#2a3f5f"
            },
            "type": "carpet"
           }
          ],
          "choropleth": [
           {
            "colorbar": {
             "outlinewidth": 0,
             "ticks": ""
            },
            "type": "choropleth"
           }
          ],
          "contour": [
           {
            "colorbar": {
             "outlinewidth": 0,
             "ticks": ""
            },
            "colorscale": [
             [
              0,
              "#0d0887"
             ],
             [
              0.1111111111111111,
              "#46039f"
             ],
             [
              0.2222222222222222,
              "#7201a8"
             ],
             [
              0.3333333333333333,
              "#9c179e"
             ],
             [
              0.4444444444444444,
              "#bd3786"
             ],
             [
              0.5555555555555556,
              "#d8576b"
             ],
             [
              0.6666666666666666,
              "#ed7953"
             ],
             [
              0.7777777777777778,
              "#fb9f3a"
             ],
             [
              0.8888888888888888,
              "#fdca26"
             ],
             [
              1,
              "#f0f921"
             ]
            ],
            "type": "contour"
           }
          ],
          "contourcarpet": [
           {
            "colorbar": {
             "outlinewidth": 0,
             "ticks": ""
            },
            "type": "contourcarpet"
           }
          ],
          "heatmap": [
           {
            "colorbar": {
             "outlinewidth": 0,
             "ticks": ""
            },
            "colorscale": [
             [
              0,
              "#0d0887"
             ],
             [
              0.1111111111111111,
              "#46039f"
             ],
             [
              0.2222222222222222,
              "#7201a8"
             ],
             [
              0.3333333333333333,
              "#9c179e"
             ],
             [
              0.4444444444444444,
              "#bd3786"
             ],
             [
              0.5555555555555556,
              "#d8576b"
             ],
             [
              0.6666666666666666,
              "#ed7953"
             ],
             [
              0.7777777777777778,
              "#fb9f3a"
             ],
             [
              0.8888888888888888,
              "#fdca26"
             ],
             [
              1,
              "#f0f921"
             ]
            ],
            "type": "heatmap"
           }
          ],
          "heatmapgl": [
           {
            "colorbar": {
             "outlinewidth": 0,
             "ticks": ""
            },
            "colorscale": [
             [
              0,
              "#0d0887"
             ],
             [
              0.1111111111111111,
              "#46039f"
             ],
             [
              0.2222222222222222,
              "#7201a8"
             ],
             [
              0.3333333333333333,
              "#9c179e"
             ],
             [
              0.4444444444444444,
              "#bd3786"
             ],
             [
              0.5555555555555556,
              "#d8576b"
             ],
             [
              0.6666666666666666,
              "#ed7953"
             ],
             [
              0.7777777777777778,
              "#fb9f3a"
             ],
             [
              0.8888888888888888,
              "#fdca26"
             ],
             [
              1,
              "#f0f921"
             ]
            ],
            "type": "heatmapgl"
           }
          ],
          "histogram": [
           {
            "marker": {
             "pattern": {
              "fillmode": "overlay",
              "size": 10,
              "solidity": 0.2
             }
            },
            "type": "histogram"
           }
          ],
          "histogram2d": [
           {
            "colorbar": {
             "outlinewidth": 0,
             "ticks": ""
            },
            "colorscale": [
             [
              0,
              "#0d0887"
             ],
             [
              0.1111111111111111,
              "#46039f"
             ],
             [
              0.2222222222222222,
              "#7201a8"
             ],
             [
              0.3333333333333333,
              "#9c179e"
             ],
             [
              0.4444444444444444,
              "#bd3786"
             ],
             [
              0.5555555555555556,
              "#d8576b"
             ],
             [
              0.6666666666666666,
              "#ed7953"
             ],
             [
              0.7777777777777778,
              "#fb9f3a"
             ],
             [
              0.8888888888888888,
              "#fdca26"
             ],
             [
              1,
              "#f0f921"
             ]
            ],
            "type": "histogram2d"
           }
          ],
          "histogram2dcontour": [
           {
            "colorbar": {
             "outlinewidth": 0,
             "ticks": ""
            },
            "colorscale": [
             [
              0,
              "#0d0887"
             ],
             [
              0.1111111111111111,
              "#46039f"
             ],
             [
              0.2222222222222222,
              "#7201a8"
             ],
             [
              0.3333333333333333,
              "#9c179e"
             ],
             [
              0.4444444444444444,
              "#bd3786"
             ],
             [
              0.5555555555555556,
              "#d8576b"
             ],
             [
              0.6666666666666666,
              "#ed7953"
             ],
             [
              0.7777777777777778,
              "#fb9f3a"
             ],
             [
              0.8888888888888888,
              "#fdca26"
             ],
             [
              1,
              "#f0f921"
             ]
            ],
            "type": "histogram2dcontour"
           }
          ],
          "mesh3d": [
           {
            "colorbar": {
             "outlinewidth": 0,
             "ticks": ""
            },
            "type": "mesh3d"
           }
          ],
          "parcoords": [
           {
            "line": {
             "colorbar": {
              "outlinewidth": 0,
              "ticks": ""
             }
            },
            "type": "parcoords"
           }
          ],
          "pie": [
           {
            "automargin": true,
            "type": "pie"
           }
          ],
          "scatter": [
           {
            "marker": {
             "colorbar": {
              "outlinewidth": 0,
              "ticks": ""
             }
            },
            "type": "scatter"
           }
          ],
          "scatter3d": [
           {
            "line": {
             "colorbar": {
              "outlinewidth": 0,
              "ticks": ""
             }
            },
            "marker": {
             "colorbar": {
              "outlinewidth": 0,
              "ticks": ""
             }
            },
            "type": "scatter3d"
           }
          ],
          "scattercarpet": [
           {
            "marker": {
             "colorbar": {
              "outlinewidth": 0,
              "ticks": ""
             }
            },
            "type": "scattercarpet"
           }
          ],
          "scattergeo": [
           {
            "marker": {
             "colorbar": {
              "outlinewidth": 0,
              "ticks": ""
             }
            },
            "type": "scattergeo"
           }
          ],
          "scattergl": [
           {
            "marker": {
             "colorbar": {
              "outlinewidth": 0,
              "ticks": ""
             }
            },
            "type": "scattergl"
           }
          ],
          "scattermapbox": [
           {
            "marker": {
             "colorbar": {
              "outlinewidth": 0,
              "ticks": ""
             }
            },
            "type": "scattermapbox"
           }
          ],
          "scatterpolar": [
           {
            "marker": {
             "colorbar": {
              "outlinewidth": 0,
              "ticks": ""
             }
            },
            "type": "scatterpolar"
           }
          ],
          "scatterpolargl": [
           {
            "marker": {
             "colorbar": {
              "outlinewidth": 0,
              "ticks": ""
             }
            },
            "type": "scatterpolargl"
           }
          ],
          "scatterternary": [
           {
            "marker": {
             "colorbar": {
              "outlinewidth": 0,
              "ticks": ""
             }
            },
            "type": "scatterternary"
           }
          ],
          "surface": [
           {
            "colorbar": {
             "outlinewidth": 0,
             "ticks": ""
            },
            "colorscale": [
             [
              0,
              "#0d0887"
             ],
             [
              0.1111111111111111,
              "#46039f"
             ],
             [
              0.2222222222222222,
              "#7201a8"
             ],
             [
              0.3333333333333333,
              "#9c179e"
             ],
             [
              0.4444444444444444,
              "#bd3786"
             ],
             [
              0.5555555555555556,
              "#d8576b"
             ],
             [
              0.6666666666666666,
              "#ed7953"
             ],
             [
              0.7777777777777778,
              "#fb9f3a"
             ],
             [
              0.8888888888888888,
              "#fdca26"
             ],
             [
              1,
              "#f0f921"
             ]
            ],
            "type": "surface"
           }
          ],
          "table": [
           {
            "cells": {
             "fill": {
              "color": "#EBF0F8"
             },
             "line": {
              "color": "white"
             }
            },
            "header": {
             "fill": {
              "color": "#C8D4E3"
             },
             "line": {
              "color": "white"
             }
            },
            "type": "table"
           }
          ]
         },
         "layout": {
          "annotationdefaults": {
           "arrowcolor": "#2a3f5f",
           "arrowhead": 0,
           "arrowwidth": 1
          },
          "autotypenumbers": "strict",
          "coloraxis": {
           "colorbar": {
            "outlinewidth": 0,
            "ticks": ""
           }
          },
          "colorscale": {
           "diverging": [
            [
             0,
             "#8e0152"
            ],
            [
             0.1,
             "#c51b7d"
            ],
            [
             0.2,
             "#de77ae"
            ],
            [
             0.3,
             "#f1b6da"
            ],
            [
             0.4,
             "#fde0ef"
            ],
            [
             0.5,
             "#f7f7f7"
            ],
            [
             0.6,
             "#e6f5d0"
            ],
            [
             0.7,
             "#b8e186"
            ],
            [
             0.8,
             "#7fbc41"
            ],
            [
             0.9,
             "#4d9221"
            ],
            [
             1,
             "#276419"
            ]
           ],
           "sequential": [
            [
             0,
             "#0d0887"
            ],
            [
             0.1111111111111111,
             "#46039f"
            ],
            [
             0.2222222222222222,
             "#7201a8"
            ],
            [
             0.3333333333333333,
             "#9c179e"
            ],
            [
             0.4444444444444444,
             "#bd3786"
            ],
            [
             0.5555555555555556,
             "#d8576b"
            ],
            [
             0.6666666666666666,
             "#ed7953"
            ],
            [
             0.7777777777777778,
             "#fb9f3a"
            ],
            [
             0.8888888888888888,
             "#fdca26"
            ],
            [
             1,
             "#f0f921"
            ]
           ],
           "sequentialminus": [
            [
             0,
             "#0d0887"
            ],
            [
             0.1111111111111111,
             "#46039f"
            ],
            [
             0.2222222222222222,
             "#7201a8"
            ],
            [
             0.3333333333333333,
             "#9c179e"
            ],
            [
             0.4444444444444444,
             "#bd3786"
            ],
            [
             0.5555555555555556,
             "#d8576b"
            ],
            [
             0.6666666666666666,
             "#ed7953"
            ],
            [
             0.7777777777777778,
             "#fb9f3a"
            ],
            [
             0.8888888888888888,
             "#fdca26"
            ],
            [
             1,
             "#f0f921"
            ]
           ]
          },
          "colorway": [
           "#636efa",
           "#EF553B",
           "#00cc96",
           "#ab63fa",
           "#FFA15A",
           "#19d3f3",
           "#FF6692",
           "#B6E880",
           "#FF97FF",
           "#FECB52"
          ],
          "font": {
           "color": "#2a3f5f"
          },
          "geo": {
           "bgcolor": "white",
           "lakecolor": "white",
           "landcolor": "#E5ECF6",
           "showlakes": true,
           "showland": true,
           "subunitcolor": "white"
          },
          "hoverlabel": {
           "align": "left"
          },
          "hovermode": "closest",
          "mapbox": {
           "style": "light"
          },
          "paper_bgcolor": "white",
          "plot_bgcolor": "#E5ECF6",
          "polar": {
           "angularaxis": {
            "gridcolor": "white",
            "linecolor": "white",
            "ticks": ""
           },
           "bgcolor": "#E5ECF6",
           "radialaxis": {
            "gridcolor": "white",
            "linecolor": "white",
            "ticks": ""
           }
          },
          "scene": {
           "xaxis": {
            "backgroundcolor": "#E5ECF6",
            "gridcolor": "white",
            "gridwidth": 2,
            "linecolor": "white",
            "showbackground": true,
            "ticks": "",
            "zerolinecolor": "white"
           },
           "yaxis": {
            "backgroundcolor": "#E5ECF6",
            "gridcolor": "white",
            "gridwidth": 2,
            "linecolor": "white",
            "showbackground": true,
            "ticks": "",
            "zerolinecolor": "white"
           },
           "zaxis": {
            "backgroundcolor": "#E5ECF6",
            "gridcolor": "white",
            "gridwidth": 2,
            "linecolor": "white",
            "showbackground": true,
            "ticks": "",
            "zerolinecolor": "white"
           }
          },
          "shapedefaults": {
           "line": {
            "color": "#2a3f5f"
           }
          },
          "ternary": {
           "aaxis": {
            "gridcolor": "white",
            "linecolor": "white",
            "ticks": ""
           },
           "baxis": {
            "gridcolor": "white",
            "linecolor": "white",
            "ticks": ""
           },
           "bgcolor": "#E5ECF6",
           "caxis": {
            "gridcolor": "white",
            "linecolor": "white",
            "ticks": ""
           }
          },
          "title": {
           "x": 0.05
          },
          "xaxis": {
           "automargin": true,
           "gridcolor": "white",
           "linecolor": "white",
           "ticks": "",
           "title": {
            "standoff": 15
           },
           "zerolinecolor": "white",
           "zerolinewidth": 2
          },
          "yaxis": {
           "automargin": true,
           "gridcolor": "white",
           "linecolor": "white",
           "ticks": "",
           "title": {
            "standoff": 15
           },
           "zerolinecolor": "white",
           "zerolinewidth": 2
          }
         }
        },
        "title": {
         "text": "Посещение приложения по действиям"
        },
        "xaxis": {
         "anchor": "y",
         "domain": [
          0,
          1
         ],
         "title": {
          "text": "Название действия"
         }
        },
        "yaxis": {
         "anchor": "x",
         "domain": [
          0,
          1
         ],
         "title": {
          "text": "Кол-во уникальных пользователей"
         }
        }
       }
      },
      "text/html": [
       "<div>                            <div id=\"cdce0efb-fdce-47e0-b8d4-ab5beb9c7196\" class=\"plotly-graph-div\" style=\"height:525px; width:100%;\"></div>            <script type=\"text/javascript\">                require([\"plotly\"], function(Plotly) {                    window.PLOTLYENV=window.PLOTLYENV || {};                                    if (document.getElementById(\"cdce0efb-fdce-47e0-b8d4-ab5beb9c7196\")) {                    Plotly.newPlot(                        \"cdce0efb-fdce-47e0-b8d4-ab5beb9c7196\",                        [{\"alignmentgroup\":\"True\",\"hovertemplate\":\"event_name=%{x}<br>users=%{y}<extra></extra>\",\"legendgroup\":\"\",\"marker\":{\"color\":\"#636efa\",\"pattern\":{\"shape\":\"\"}},\"name\":\"\",\"offsetgroup\":\"\",\"orientation\":\"v\",\"showlegend\":false,\"textposition\":\"auto\",\"x\":[\"MainScreenAppear\",\"OffersScreenAppear\",\"CartScreenAppear\",\"PaymentScreenSuccessful\",\"Tutorial\"],\"xaxis\":\"x\",\"y\":[7419,4593,3734,3539,840],\"yaxis\":\"y\",\"type\":\"bar\"}],                        {\"template\":{\"data\":{\"bar\":[{\"error_x\":{\"color\":\"#2a3f5f\"},\"error_y\":{\"color\":\"#2a3f5f\"},\"marker\":{\"line\":{\"color\":\"#E5ECF6\",\"width\":0.5},\"pattern\":{\"fillmode\":\"overlay\",\"size\":10,\"solidity\":0.2}},\"type\":\"bar\"}],\"barpolar\":[{\"marker\":{\"line\":{\"color\":\"#E5ECF6\",\"width\":0.5},\"pattern\":{\"fillmode\":\"overlay\",\"size\":10,\"solidity\":0.2}},\"type\":\"barpolar\"}],\"carpet\":[{\"aaxis\":{\"endlinecolor\":\"#2a3f5f\",\"gridcolor\":\"white\",\"linecolor\":\"white\",\"minorgridcolor\":\"white\",\"startlinecolor\":\"#2a3f5f\"},\"baxis\":{\"endlinecolor\":\"#2a3f5f\",\"gridcolor\":\"white\",\"linecolor\":\"white\",\"minorgridcolor\":\"white\",\"startlinecolor\":\"#2a3f5f\"},\"type\":\"carpet\"}],\"choropleth\":[{\"colorbar\":{\"outlinewidth\":0,\"ticks\":\"\"},\"type\":\"choropleth\"}],\"contour\":[{\"colorbar\":{\"outlinewidth\":0,\"ticks\":\"\"},\"colorscale\":[[0.0,\"#0d0887\"],[0.1111111111111111,\"#46039f\"],[0.2222222222222222,\"#7201a8\"],[0.3333333333333333,\"#9c179e\"],[0.4444444444444444,\"#bd3786\"],[0.5555555555555556,\"#d8576b\"],[0.6666666666666666,\"#ed7953\"],[0.7777777777777778,\"#fb9f3a\"],[0.8888888888888888,\"#fdca26\"],[1.0,\"#f0f921\"]],\"type\":\"contour\"}],\"contourcarpet\":[{\"colorbar\":{\"outlinewidth\":0,\"ticks\":\"\"},\"type\":\"contourcarpet\"}],\"heatmap\":[{\"colorbar\":{\"outlinewidth\":0,\"ticks\":\"\"},\"colorscale\":[[0.0,\"#0d0887\"],[0.1111111111111111,\"#46039f\"],[0.2222222222222222,\"#7201a8\"],[0.3333333333333333,\"#9c179e\"],[0.4444444444444444,\"#bd3786\"],[0.5555555555555556,\"#d8576b\"],[0.6666666666666666,\"#ed7953\"],[0.7777777777777778,\"#fb9f3a\"],[0.8888888888888888,\"#fdca26\"],[1.0,\"#f0f921\"]],\"type\":\"heatmap\"}],\"heatmapgl\":[{\"colorbar\":{\"outlinewidth\":0,\"ticks\":\"\"},\"colorscale\":[[0.0,\"#0d0887\"],[0.1111111111111111,\"#46039f\"],[0.2222222222222222,\"#7201a8\"],[0.3333333333333333,\"#9c179e\"],[0.4444444444444444,\"#bd3786\"],[0.5555555555555556,\"#d8576b\"],[0.6666666666666666,\"#ed7953\"],[0.7777777777777778,\"#fb9f3a\"],[0.8888888888888888,\"#fdca26\"],[1.0,\"#f0f921\"]],\"type\":\"heatmapgl\"}],\"histogram\":[{\"marker\":{\"pattern\":{\"fillmode\":\"overlay\",\"size\":10,\"solidity\":0.2}},\"type\":\"histogram\"}],\"histogram2d\":[{\"colorbar\":{\"outlinewidth\":0,\"ticks\":\"\"},\"colorscale\":[[0.0,\"#0d0887\"],[0.1111111111111111,\"#46039f\"],[0.2222222222222222,\"#7201a8\"],[0.3333333333333333,\"#9c179e\"],[0.4444444444444444,\"#bd3786\"],[0.5555555555555556,\"#d8576b\"],[0.6666666666666666,\"#ed7953\"],[0.7777777777777778,\"#fb9f3a\"],[0.8888888888888888,\"#fdca26\"],[1.0,\"#f0f921\"]],\"type\":\"histogram2d\"}],\"histogram2dcontour\":[{\"colorbar\":{\"outlinewidth\":0,\"ticks\":\"\"},\"colorscale\":[[0.0,\"#0d0887\"],[0.1111111111111111,\"#46039f\"],[0.2222222222222222,\"#7201a8\"],[0.3333333333333333,\"#9c179e\"],[0.4444444444444444,\"#bd3786\"],[0.5555555555555556,\"#d8576b\"],[0.6666666666666666,\"#ed7953\"],[0.7777777777777778,\"#fb9f3a\"],[0.8888888888888888,\"#fdca26\"],[1.0,\"#f0f921\"]],\"type\":\"histogram2dcontour\"}],\"mesh3d\":[{\"colorbar\":{\"outlinewidth\":0,\"ticks\":\"\"},\"type\":\"mesh3d\"}],\"parcoords\":[{\"line\":{\"colorbar\":{\"outlinewidth\":0,\"ticks\":\"\"}},\"type\":\"parcoords\"}],\"pie\":[{\"automargin\":true,\"type\":\"pie\"}],\"scatter\":[{\"marker\":{\"colorbar\":{\"outlinewidth\":0,\"ticks\":\"\"}},\"type\":\"scatter\"}],\"scatter3d\":[{\"line\":{\"colorbar\":{\"outlinewidth\":0,\"ticks\":\"\"}},\"marker\":{\"colorbar\":{\"outlinewidth\":0,\"ticks\":\"\"}},\"type\":\"scatter3d\"}],\"scattercarpet\":[{\"marker\":{\"colorbar\":{\"outlinewidth\":0,\"ticks\":\"\"}},\"type\":\"scattercarpet\"}],\"scattergeo\":[{\"marker\":{\"colorbar\":{\"outlinewidth\":0,\"ticks\":\"\"}},\"type\":\"scattergeo\"}],\"scattergl\":[{\"marker\":{\"colorbar\":{\"outlinewidth\":0,\"ticks\":\"\"}},\"type\":\"scattergl\"}],\"scattermapbox\":[{\"marker\":{\"colorbar\":{\"outlinewidth\":0,\"ticks\":\"\"}},\"type\":\"scattermapbox\"}],\"scatterpolar\":[{\"marker\":{\"colorbar\":{\"outlinewidth\":0,\"ticks\":\"\"}},\"type\":\"scatterpolar\"}],\"scatterpolargl\":[{\"marker\":{\"colorbar\":{\"outlinewidth\":0,\"ticks\":\"\"}},\"type\":\"scatterpolargl\"}],\"scatterternary\":[{\"marker\":{\"colorbar\":{\"outlinewidth\":0,\"ticks\":\"\"}},\"type\":\"scatterternary\"}],\"surface\":[{\"colorbar\":{\"outlinewidth\":0,\"ticks\":\"\"},\"colorscale\":[[0.0,\"#0d0887\"],[0.1111111111111111,\"#46039f\"],[0.2222222222222222,\"#7201a8\"],[0.3333333333333333,\"#9c179e\"],[0.4444444444444444,\"#bd3786\"],[0.5555555555555556,\"#d8576b\"],[0.6666666666666666,\"#ed7953\"],[0.7777777777777778,\"#fb9f3a\"],[0.8888888888888888,\"#fdca26\"],[1.0,\"#f0f921\"]],\"type\":\"surface\"}],\"table\":[{\"cells\":{\"fill\":{\"color\":\"#EBF0F8\"},\"line\":{\"color\":\"white\"}},\"header\":{\"fill\":{\"color\":\"#C8D4E3\"},\"line\":{\"color\":\"white\"}},\"type\":\"table\"}]},\"layout\":{\"annotationdefaults\":{\"arrowcolor\":\"#2a3f5f\",\"arrowhead\":0,\"arrowwidth\":1},\"autotypenumbers\":\"strict\",\"coloraxis\":{\"colorbar\":{\"outlinewidth\":0,\"ticks\":\"\"}},\"colorscale\":{\"diverging\":[[0,\"#8e0152\"],[0.1,\"#c51b7d\"],[0.2,\"#de77ae\"],[0.3,\"#f1b6da\"],[0.4,\"#fde0ef\"],[0.5,\"#f7f7f7\"],[0.6,\"#e6f5d0\"],[0.7,\"#b8e186\"],[0.8,\"#7fbc41\"],[0.9,\"#4d9221\"],[1,\"#276419\"]],\"sequential\":[[0.0,\"#0d0887\"],[0.1111111111111111,\"#46039f\"],[0.2222222222222222,\"#7201a8\"],[0.3333333333333333,\"#9c179e\"],[0.4444444444444444,\"#bd3786\"],[0.5555555555555556,\"#d8576b\"],[0.6666666666666666,\"#ed7953\"],[0.7777777777777778,\"#fb9f3a\"],[0.8888888888888888,\"#fdca26\"],[1.0,\"#f0f921\"]],\"sequentialminus\":[[0.0,\"#0d0887\"],[0.1111111111111111,\"#46039f\"],[0.2222222222222222,\"#7201a8\"],[0.3333333333333333,\"#9c179e\"],[0.4444444444444444,\"#bd3786\"],[0.5555555555555556,\"#d8576b\"],[0.6666666666666666,\"#ed7953\"],[0.7777777777777778,\"#fb9f3a\"],[0.8888888888888888,\"#fdca26\"],[1.0,\"#f0f921\"]]},\"colorway\":[\"#636efa\",\"#EF553B\",\"#00cc96\",\"#ab63fa\",\"#FFA15A\",\"#19d3f3\",\"#FF6692\",\"#B6E880\",\"#FF97FF\",\"#FECB52\"],\"font\":{\"color\":\"#2a3f5f\"},\"geo\":{\"bgcolor\":\"white\",\"lakecolor\":\"white\",\"landcolor\":\"#E5ECF6\",\"showlakes\":true,\"showland\":true,\"subunitcolor\":\"white\"},\"hoverlabel\":{\"align\":\"left\"},\"hovermode\":\"closest\",\"mapbox\":{\"style\":\"light\"},\"paper_bgcolor\":\"white\",\"plot_bgcolor\":\"#E5ECF6\",\"polar\":{\"angularaxis\":{\"gridcolor\":\"white\",\"linecolor\":\"white\",\"ticks\":\"\"},\"bgcolor\":\"#E5ECF6\",\"radialaxis\":{\"gridcolor\":\"white\",\"linecolor\":\"white\",\"ticks\":\"\"}},\"scene\":{\"xaxis\":{\"backgroundcolor\":\"#E5ECF6\",\"gridcolor\":\"white\",\"gridwidth\":2,\"linecolor\":\"white\",\"showbackground\":true,\"ticks\":\"\",\"zerolinecolor\":\"white\"},\"yaxis\":{\"backgroundcolor\":\"#E5ECF6\",\"gridcolor\":\"white\",\"gridwidth\":2,\"linecolor\":\"white\",\"showbackground\":true,\"ticks\":\"\",\"zerolinecolor\":\"white\"},\"zaxis\":{\"backgroundcolor\":\"#E5ECF6\",\"gridcolor\":\"white\",\"gridwidth\":2,\"linecolor\":\"white\",\"showbackground\":true,\"ticks\":\"\",\"zerolinecolor\":\"white\"}},\"shapedefaults\":{\"line\":{\"color\":\"#2a3f5f\"}},\"ternary\":{\"aaxis\":{\"gridcolor\":\"white\",\"linecolor\":\"white\",\"ticks\":\"\"},\"baxis\":{\"gridcolor\":\"white\",\"linecolor\":\"white\",\"ticks\":\"\"},\"bgcolor\":\"#E5ECF6\",\"caxis\":{\"gridcolor\":\"white\",\"linecolor\":\"white\",\"ticks\":\"\"}},\"title\":{\"x\":0.05},\"xaxis\":{\"automargin\":true,\"gridcolor\":\"white\",\"linecolor\":\"white\",\"ticks\":\"\",\"title\":{\"standoff\":15},\"zerolinecolor\":\"white\",\"zerolinewidth\":2},\"yaxis\":{\"automargin\":true,\"gridcolor\":\"white\",\"linecolor\":\"white\",\"ticks\":\"\",\"title\":{\"standoff\":15},\"zerolinecolor\":\"white\",\"zerolinewidth\":2}}},\"xaxis\":{\"anchor\":\"y\",\"domain\":[0.0,1.0],\"title\":{\"text\":\"\\u041d\\u0430\\u0437\\u0432\\u0430\\u043d\\u0438\\u0435 \\u0434\\u0435\\u0439\\u0441\\u0442\\u0432\\u0438\\u044f\"}},\"yaxis\":{\"anchor\":\"x\",\"domain\":[0.0,1.0],\"title\":{\"text\":\"\\u041a\\u043e\\u043b-\\u0432\\u043e \\u0443\\u043d\\u0438\\u043a\\u0430\\u043b\\u044c\\u043d\\u044b\\u0445 \\u043f\\u043e\\u043b\\u044c\\u0437\\u043e\\u0432\\u0430\\u0442\\u0435\\u043b\\u0435\\u0439\"}},\"legend\":{\"tracegroupgap\":0},\"title\":{\"text\":\"\\u041f\\u043e\\u0441\\u0435\\u0449\\u0435\\u043d\\u0438\\u0435 \\u043f\\u0440\\u0438\\u043b\\u043e\\u0436\\u0435\\u043d\\u0438\\u044f \\u043f\\u043e \\u0434\\u0435\\u0439\\u0441\\u0442\\u0432\\u0438\\u044f\\u043c\"},\"barmode\":\"relative\"},                        {\"responsive\": true}                    ).then(function(){\n",
       "                            \n",
       "var gd = document.getElementById('cdce0efb-fdce-47e0-b8d4-ab5beb9c7196');\n",
       "var x = new MutationObserver(function (mutations, observer) {{\n",
       "        var display = window.getComputedStyle(gd).display;\n",
       "        if (!display || display === 'none') {{\n",
       "            console.log([gd, 'removed!']);\n",
       "            Plotly.purge(gd);\n",
       "            observer.disconnect();\n",
       "        }}\n",
       "}});\n",
       "\n",
       "// Listen for the removal of the full notebook cells\n",
       "var notebookContainer = gd.closest('#notebook-container');\n",
       "if (notebookContainer) {{\n",
       "    x.observe(notebookContainer, {childList: true});\n",
       "}}\n",
       "\n",
       "// Listen for the clearing of the current output cell\n",
       "var outputEl = gd.closest('.output');\n",
       "if (outputEl) {{\n",
       "    x.observe(outputEl, {childList: true});\n",
       "}}\n",
       "\n",
       "                        })                };                });            </script>        </div>"
      ]
     },
     "metadata": {},
     "output_type": "display_data"
    }
   ],
   "source": [
    "fig = px.bar(event_group, x='event_name', y='users', title ='Посещение приложения по действиям')\n",
    "fig.update_layout(xaxis_title=\"Название действия\", yaxis_title=\"Кол-во уникальных пользователей\")\n",
    "fig.show()"
   ]
  },
  {
   "cell_type": "code",
   "execution_count": 26,
   "metadata": {},
   "outputs": [],
   "source": [
    "# исключаем обучение из данных\n",
    "new_data = new_data.query('event_name != \"Tutorial\"') \n",
    "event_group = event_group.query('event_name != \"Tutorial\"') "
   ]
  },
  {
   "cell_type": "code",
   "execution_count": 27,
   "metadata": {},
   "outputs": [
    {
     "data": {
      "application/vnd.plotly.v1+json": {
       "config": {
        "plotlyServerURL": "https://plot.ly"
       },
       "data": [
        {
         "textinfo": "value+percent previous+percent initial",
         "textposition": "inside",
         "type": "funnel",
         "x": [
          7419,
          4593,
          3734,
          3539
         ],
         "y": [
          "Главный экран",
          "Экран с товарами",
          "Перешли в корзину",
          "Оплатили"
         ]
        }
       ],
       "layout": {
        "template": {
         "data": {
          "bar": [
           {
            "error_x": {
             "color": "#2a3f5f"
            },
            "error_y": {
             "color": "#2a3f5f"
            },
            "marker": {
             "line": {
              "color": "#E5ECF6",
              "width": 0.5
             },
             "pattern": {
              "fillmode": "overlay",
              "size": 10,
              "solidity": 0.2
             }
            },
            "type": "bar"
           }
          ],
          "barpolar": [
           {
            "marker": {
             "line": {
              "color": "#E5ECF6",
              "width": 0.5
             },
             "pattern": {
              "fillmode": "overlay",
              "size": 10,
              "solidity": 0.2
             }
            },
            "type": "barpolar"
           }
          ],
          "carpet": [
           {
            "aaxis": {
             "endlinecolor": "#2a3f5f",
             "gridcolor": "white",
             "linecolor": "white",
             "minorgridcolor": "white",
             "startlinecolor": "#2a3f5f"
            },
            "baxis": {
             "endlinecolor": "#2a3f5f",
             "gridcolor": "white",
             "linecolor": "white",
             "minorgridcolor": "white",
             "startlinecolor": "#2a3f5f"
            },
            "type": "carpet"
           }
          ],
          "choropleth": [
           {
            "colorbar": {
             "outlinewidth": 0,
             "ticks": ""
            },
            "type": "choropleth"
           }
          ],
          "contour": [
           {
            "colorbar": {
             "outlinewidth": 0,
             "ticks": ""
            },
            "colorscale": [
             [
              0,
              "#0d0887"
             ],
             [
              0.1111111111111111,
              "#46039f"
             ],
             [
              0.2222222222222222,
              "#7201a8"
             ],
             [
              0.3333333333333333,
              "#9c179e"
             ],
             [
              0.4444444444444444,
              "#bd3786"
             ],
             [
              0.5555555555555556,
              "#d8576b"
             ],
             [
              0.6666666666666666,
              "#ed7953"
             ],
             [
              0.7777777777777778,
              "#fb9f3a"
             ],
             [
              0.8888888888888888,
              "#fdca26"
             ],
             [
              1,
              "#f0f921"
             ]
            ],
            "type": "contour"
           }
          ],
          "contourcarpet": [
           {
            "colorbar": {
             "outlinewidth": 0,
             "ticks": ""
            },
            "type": "contourcarpet"
           }
          ],
          "heatmap": [
           {
            "colorbar": {
             "outlinewidth": 0,
             "ticks": ""
            },
            "colorscale": [
             [
              0,
              "#0d0887"
             ],
             [
              0.1111111111111111,
              "#46039f"
             ],
             [
              0.2222222222222222,
              "#7201a8"
             ],
             [
              0.3333333333333333,
              "#9c179e"
             ],
             [
              0.4444444444444444,
              "#bd3786"
             ],
             [
              0.5555555555555556,
              "#d8576b"
             ],
             [
              0.6666666666666666,
              "#ed7953"
             ],
             [
              0.7777777777777778,
              "#fb9f3a"
             ],
             [
              0.8888888888888888,
              "#fdca26"
             ],
             [
              1,
              "#f0f921"
             ]
            ],
            "type": "heatmap"
           }
          ],
          "heatmapgl": [
           {
            "colorbar": {
             "outlinewidth": 0,
             "ticks": ""
            },
            "colorscale": [
             [
              0,
              "#0d0887"
             ],
             [
              0.1111111111111111,
              "#46039f"
             ],
             [
              0.2222222222222222,
              "#7201a8"
             ],
             [
              0.3333333333333333,
              "#9c179e"
             ],
             [
              0.4444444444444444,
              "#bd3786"
             ],
             [
              0.5555555555555556,
              "#d8576b"
             ],
             [
              0.6666666666666666,
              "#ed7953"
             ],
             [
              0.7777777777777778,
              "#fb9f3a"
             ],
             [
              0.8888888888888888,
              "#fdca26"
             ],
             [
              1,
              "#f0f921"
             ]
            ],
            "type": "heatmapgl"
           }
          ],
          "histogram": [
           {
            "marker": {
             "pattern": {
              "fillmode": "overlay",
              "size": 10,
              "solidity": 0.2
             }
            },
            "type": "histogram"
           }
          ],
          "histogram2d": [
           {
            "colorbar": {
             "outlinewidth": 0,
             "ticks": ""
            },
            "colorscale": [
             [
              0,
              "#0d0887"
             ],
             [
              0.1111111111111111,
              "#46039f"
             ],
             [
              0.2222222222222222,
              "#7201a8"
             ],
             [
              0.3333333333333333,
              "#9c179e"
             ],
             [
              0.4444444444444444,
              "#bd3786"
             ],
             [
              0.5555555555555556,
              "#d8576b"
             ],
             [
              0.6666666666666666,
              "#ed7953"
             ],
             [
              0.7777777777777778,
              "#fb9f3a"
             ],
             [
              0.8888888888888888,
              "#fdca26"
             ],
             [
              1,
              "#f0f921"
             ]
            ],
            "type": "histogram2d"
           }
          ],
          "histogram2dcontour": [
           {
            "colorbar": {
             "outlinewidth": 0,
             "ticks": ""
            },
            "colorscale": [
             [
              0,
              "#0d0887"
             ],
             [
              0.1111111111111111,
              "#46039f"
             ],
             [
              0.2222222222222222,
              "#7201a8"
             ],
             [
              0.3333333333333333,
              "#9c179e"
             ],
             [
              0.4444444444444444,
              "#bd3786"
             ],
             [
              0.5555555555555556,
              "#d8576b"
             ],
             [
              0.6666666666666666,
              "#ed7953"
             ],
             [
              0.7777777777777778,
              "#fb9f3a"
             ],
             [
              0.8888888888888888,
              "#fdca26"
             ],
             [
              1,
              "#f0f921"
             ]
            ],
            "type": "histogram2dcontour"
           }
          ],
          "mesh3d": [
           {
            "colorbar": {
             "outlinewidth": 0,
             "ticks": ""
            },
            "type": "mesh3d"
           }
          ],
          "parcoords": [
           {
            "line": {
             "colorbar": {
              "outlinewidth": 0,
              "ticks": ""
             }
            },
            "type": "parcoords"
           }
          ],
          "pie": [
           {
            "automargin": true,
            "type": "pie"
           }
          ],
          "scatter": [
           {
            "marker": {
             "colorbar": {
              "outlinewidth": 0,
              "ticks": ""
             }
            },
            "type": "scatter"
           }
          ],
          "scatter3d": [
           {
            "line": {
             "colorbar": {
              "outlinewidth": 0,
              "ticks": ""
             }
            },
            "marker": {
             "colorbar": {
              "outlinewidth": 0,
              "ticks": ""
             }
            },
            "type": "scatter3d"
           }
          ],
          "scattercarpet": [
           {
            "marker": {
             "colorbar": {
              "outlinewidth": 0,
              "ticks": ""
             }
            },
            "type": "scattercarpet"
           }
          ],
          "scattergeo": [
           {
            "marker": {
             "colorbar": {
              "outlinewidth": 0,
              "ticks": ""
             }
            },
            "type": "scattergeo"
           }
          ],
          "scattergl": [
           {
            "marker": {
             "colorbar": {
              "outlinewidth": 0,
              "ticks": ""
             }
            },
            "type": "scattergl"
           }
          ],
          "scattermapbox": [
           {
            "marker": {
             "colorbar": {
              "outlinewidth": 0,
              "ticks": ""
             }
            },
            "type": "scattermapbox"
           }
          ],
          "scatterpolar": [
           {
            "marker": {
             "colorbar": {
              "outlinewidth": 0,
              "ticks": ""
             }
            },
            "type": "scatterpolar"
           }
          ],
          "scatterpolargl": [
           {
            "marker": {
             "colorbar": {
              "outlinewidth": 0,
              "ticks": ""
             }
            },
            "type": "scatterpolargl"
           }
          ],
          "scatterternary": [
           {
            "marker": {
             "colorbar": {
              "outlinewidth": 0,
              "ticks": ""
             }
            },
            "type": "scatterternary"
           }
          ],
          "surface": [
           {
            "colorbar": {
             "outlinewidth": 0,
             "ticks": ""
            },
            "colorscale": [
             [
              0,
              "#0d0887"
             ],
             [
              0.1111111111111111,
              "#46039f"
             ],
             [
              0.2222222222222222,
              "#7201a8"
             ],
             [
              0.3333333333333333,
              "#9c179e"
             ],
             [
              0.4444444444444444,
              "#bd3786"
             ],
             [
              0.5555555555555556,
              "#d8576b"
             ],
             [
              0.6666666666666666,
              "#ed7953"
             ],
             [
              0.7777777777777778,
              "#fb9f3a"
             ],
             [
              0.8888888888888888,
              "#fdca26"
             ],
             [
              1,
              "#f0f921"
             ]
            ],
            "type": "surface"
           }
          ],
          "table": [
           {
            "cells": {
             "fill": {
              "color": "#EBF0F8"
             },
             "line": {
              "color": "white"
             }
            },
            "header": {
             "fill": {
              "color": "#C8D4E3"
             },
             "line": {
              "color": "white"
             }
            },
            "type": "table"
           }
          ]
         },
         "layout": {
          "annotationdefaults": {
           "arrowcolor": "#2a3f5f",
           "arrowhead": 0,
           "arrowwidth": 1
          },
          "autotypenumbers": "strict",
          "coloraxis": {
           "colorbar": {
            "outlinewidth": 0,
            "ticks": ""
           }
          },
          "colorscale": {
           "diverging": [
            [
             0,
             "#8e0152"
            ],
            [
             0.1,
             "#c51b7d"
            ],
            [
             0.2,
             "#de77ae"
            ],
            [
             0.3,
             "#f1b6da"
            ],
            [
             0.4,
             "#fde0ef"
            ],
            [
             0.5,
             "#f7f7f7"
            ],
            [
             0.6,
             "#e6f5d0"
            ],
            [
             0.7,
             "#b8e186"
            ],
            [
             0.8,
             "#7fbc41"
            ],
            [
             0.9,
             "#4d9221"
            ],
            [
             1,
             "#276419"
            ]
           ],
           "sequential": [
            [
             0,
             "#0d0887"
            ],
            [
             0.1111111111111111,
             "#46039f"
            ],
            [
             0.2222222222222222,
             "#7201a8"
            ],
            [
             0.3333333333333333,
             "#9c179e"
            ],
            [
             0.4444444444444444,
             "#bd3786"
            ],
            [
             0.5555555555555556,
             "#d8576b"
            ],
            [
             0.6666666666666666,
             "#ed7953"
            ],
            [
             0.7777777777777778,
             "#fb9f3a"
            ],
            [
             0.8888888888888888,
             "#fdca26"
            ],
            [
             1,
             "#f0f921"
            ]
           ],
           "sequentialminus": [
            [
             0,
             "#0d0887"
            ],
            [
             0.1111111111111111,
             "#46039f"
            ],
            [
             0.2222222222222222,
             "#7201a8"
            ],
            [
             0.3333333333333333,
             "#9c179e"
            ],
            [
             0.4444444444444444,
             "#bd3786"
            ],
            [
             0.5555555555555556,
             "#d8576b"
            ],
            [
             0.6666666666666666,
             "#ed7953"
            ],
            [
             0.7777777777777778,
             "#fb9f3a"
            ],
            [
             0.8888888888888888,
             "#fdca26"
            ],
            [
             1,
             "#f0f921"
            ]
           ]
          },
          "colorway": [
           "#636efa",
           "#EF553B",
           "#00cc96",
           "#ab63fa",
           "#FFA15A",
           "#19d3f3",
           "#FF6692",
           "#B6E880",
           "#FF97FF",
           "#FECB52"
          ],
          "font": {
           "color": "#2a3f5f"
          },
          "geo": {
           "bgcolor": "white",
           "lakecolor": "white",
           "landcolor": "#E5ECF6",
           "showlakes": true,
           "showland": true,
           "subunitcolor": "white"
          },
          "hoverlabel": {
           "align": "left"
          },
          "hovermode": "closest",
          "mapbox": {
           "style": "light"
          },
          "paper_bgcolor": "white",
          "plot_bgcolor": "#E5ECF6",
          "polar": {
           "angularaxis": {
            "gridcolor": "white",
            "linecolor": "white",
            "ticks": ""
           },
           "bgcolor": "#E5ECF6",
           "radialaxis": {
            "gridcolor": "white",
            "linecolor": "white",
            "ticks": ""
           }
          },
          "scene": {
           "xaxis": {
            "backgroundcolor": "#E5ECF6",
            "gridcolor": "white",
            "gridwidth": 2,
            "linecolor": "white",
            "showbackground": true,
            "ticks": "",
            "zerolinecolor": "white"
           },
           "yaxis": {
            "backgroundcolor": "#E5ECF6",
            "gridcolor": "white",
            "gridwidth": 2,
            "linecolor": "white",
            "showbackground": true,
            "ticks": "",
            "zerolinecolor": "white"
           },
           "zaxis": {
            "backgroundcolor": "#E5ECF6",
            "gridcolor": "white",
            "gridwidth": 2,
            "linecolor": "white",
            "showbackground": true,
            "ticks": "",
            "zerolinecolor": "white"
           }
          },
          "shapedefaults": {
           "line": {
            "color": "#2a3f5f"
           }
          },
          "ternary": {
           "aaxis": {
            "gridcolor": "white",
            "linecolor": "white",
            "ticks": ""
           },
           "baxis": {
            "gridcolor": "white",
            "linecolor": "white",
            "ticks": ""
           },
           "bgcolor": "#E5ECF6",
           "caxis": {
            "gridcolor": "white",
            "linecolor": "white",
            "ticks": ""
           }
          },
          "title": {
           "x": 0.05
          },
          "xaxis": {
           "automargin": true,
           "gridcolor": "white",
           "linecolor": "white",
           "ticks": "",
           "title": {
            "standoff": 15
           },
           "zerolinecolor": "white",
           "zerolinewidth": 2
          },
          "yaxis": {
           "automargin": true,
           "gridcolor": "white",
           "linecolor": "white",
           "ticks": "",
           "title": {
            "standoff": 15
           },
           "zerolinecolor": "white",
           "zerolinewidth": 2
          }
         }
        },
        "title": {
         "text": "Воронка событий"
        }
       }
      },
      "text/html": [
       "<div>                            <div id=\"96b40045-9e3e-4be0-973c-1bffa87e39f2\" class=\"plotly-graph-div\" style=\"height:525px; width:100%;\"></div>            <script type=\"text/javascript\">                require([\"plotly\"], function(Plotly) {                    window.PLOTLYENV=window.PLOTLYENV || {};                                    if (document.getElementById(\"96b40045-9e3e-4be0-973c-1bffa87e39f2\")) {                    Plotly.newPlot(                        \"96b40045-9e3e-4be0-973c-1bffa87e39f2\",                        [{\"textinfo\":\"value+percent previous+percent initial\",\"textposition\":\"inside\",\"x\":[7419,4593,3734,3539],\"y\":[\"\\u0413\\u043b\\u0430\\u0432\\u043d\\u044b\\u0439 \\u044d\\u043a\\u0440\\u0430\\u043d\",\"\\u042d\\u043a\\u0440\\u0430\\u043d \\u0441 \\u0442\\u043e\\u0432\\u0430\\u0440\\u0430\\u043c\\u0438\",\"\\u041f\\u0435\\u0440\\u0435\\u0448\\u043b\\u0438 \\u0432 \\u043a\\u043e\\u0440\\u0437\\u0438\\u043d\\u0443\",\"\\u041e\\u043f\\u043b\\u0430\\u0442\\u0438\\u043b\\u0438\"],\"type\":\"funnel\"}],                        {\"template\":{\"data\":{\"bar\":[{\"error_x\":{\"color\":\"#2a3f5f\"},\"error_y\":{\"color\":\"#2a3f5f\"},\"marker\":{\"line\":{\"color\":\"#E5ECF6\",\"width\":0.5},\"pattern\":{\"fillmode\":\"overlay\",\"size\":10,\"solidity\":0.2}},\"type\":\"bar\"}],\"barpolar\":[{\"marker\":{\"line\":{\"color\":\"#E5ECF6\",\"width\":0.5},\"pattern\":{\"fillmode\":\"overlay\",\"size\":10,\"solidity\":0.2}},\"type\":\"barpolar\"}],\"carpet\":[{\"aaxis\":{\"endlinecolor\":\"#2a3f5f\",\"gridcolor\":\"white\",\"linecolor\":\"white\",\"minorgridcolor\":\"white\",\"startlinecolor\":\"#2a3f5f\"},\"baxis\":{\"endlinecolor\":\"#2a3f5f\",\"gridcolor\":\"white\",\"linecolor\":\"white\",\"minorgridcolor\":\"white\",\"startlinecolor\":\"#2a3f5f\"},\"type\":\"carpet\"}],\"choropleth\":[{\"colorbar\":{\"outlinewidth\":0,\"ticks\":\"\"},\"type\":\"choropleth\"}],\"contour\":[{\"colorbar\":{\"outlinewidth\":0,\"ticks\":\"\"},\"colorscale\":[[0.0,\"#0d0887\"],[0.1111111111111111,\"#46039f\"],[0.2222222222222222,\"#7201a8\"],[0.3333333333333333,\"#9c179e\"],[0.4444444444444444,\"#bd3786\"],[0.5555555555555556,\"#d8576b\"],[0.6666666666666666,\"#ed7953\"],[0.7777777777777778,\"#fb9f3a\"],[0.8888888888888888,\"#fdca26\"],[1.0,\"#f0f921\"]],\"type\":\"contour\"}],\"contourcarpet\":[{\"colorbar\":{\"outlinewidth\":0,\"ticks\":\"\"},\"type\":\"contourcarpet\"}],\"heatmap\":[{\"colorbar\":{\"outlinewidth\":0,\"ticks\":\"\"},\"colorscale\":[[0.0,\"#0d0887\"],[0.1111111111111111,\"#46039f\"],[0.2222222222222222,\"#7201a8\"],[0.3333333333333333,\"#9c179e\"],[0.4444444444444444,\"#bd3786\"],[0.5555555555555556,\"#d8576b\"],[0.6666666666666666,\"#ed7953\"],[0.7777777777777778,\"#fb9f3a\"],[0.8888888888888888,\"#fdca26\"],[1.0,\"#f0f921\"]],\"type\":\"heatmap\"}],\"heatmapgl\":[{\"colorbar\":{\"outlinewidth\":0,\"ticks\":\"\"},\"colorscale\":[[0.0,\"#0d0887\"],[0.1111111111111111,\"#46039f\"],[0.2222222222222222,\"#7201a8\"],[0.3333333333333333,\"#9c179e\"],[0.4444444444444444,\"#bd3786\"],[0.5555555555555556,\"#d8576b\"],[0.6666666666666666,\"#ed7953\"],[0.7777777777777778,\"#fb9f3a\"],[0.8888888888888888,\"#fdca26\"],[1.0,\"#f0f921\"]],\"type\":\"heatmapgl\"}],\"histogram\":[{\"marker\":{\"pattern\":{\"fillmode\":\"overlay\",\"size\":10,\"solidity\":0.2}},\"type\":\"histogram\"}],\"histogram2d\":[{\"colorbar\":{\"outlinewidth\":0,\"ticks\":\"\"},\"colorscale\":[[0.0,\"#0d0887\"],[0.1111111111111111,\"#46039f\"],[0.2222222222222222,\"#7201a8\"],[0.3333333333333333,\"#9c179e\"],[0.4444444444444444,\"#bd3786\"],[0.5555555555555556,\"#d8576b\"],[0.6666666666666666,\"#ed7953\"],[0.7777777777777778,\"#fb9f3a\"],[0.8888888888888888,\"#fdca26\"],[1.0,\"#f0f921\"]],\"type\":\"histogram2d\"}],\"histogram2dcontour\":[{\"colorbar\":{\"outlinewidth\":0,\"ticks\":\"\"},\"colorscale\":[[0.0,\"#0d0887\"],[0.1111111111111111,\"#46039f\"],[0.2222222222222222,\"#7201a8\"],[0.3333333333333333,\"#9c179e\"],[0.4444444444444444,\"#bd3786\"],[0.5555555555555556,\"#d8576b\"],[0.6666666666666666,\"#ed7953\"],[0.7777777777777778,\"#fb9f3a\"],[0.8888888888888888,\"#fdca26\"],[1.0,\"#f0f921\"]],\"type\":\"histogram2dcontour\"}],\"mesh3d\":[{\"colorbar\":{\"outlinewidth\":0,\"ticks\":\"\"},\"type\":\"mesh3d\"}],\"parcoords\":[{\"line\":{\"colorbar\":{\"outlinewidth\":0,\"ticks\":\"\"}},\"type\":\"parcoords\"}],\"pie\":[{\"automargin\":true,\"type\":\"pie\"}],\"scatter\":[{\"marker\":{\"colorbar\":{\"outlinewidth\":0,\"ticks\":\"\"}},\"type\":\"scatter\"}],\"scatter3d\":[{\"line\":{\"colorbar\":{\"outlinewidth\":0,\"ticks\":\"\"}},\"marker\":{\"colorbar\":{\"outlinewidth\":0,\"ticks\":\"\"}},\"type\":\"scatter3d\"}],\"scattercarpet\":[{\"marker\":{\"colorbar\":{\"outlinewidth\":0,\"ticks\":\"\"}},\"type\":\"scattercarpet\"}],\"scattergeo\":[{\"marker\":{\"colorbar\":{\"outlinewidth\":0,\"ticks\":\"\"}},\"type\":\"scattergeo\"}],\"scattergl\":[{\"marker\":{\"colorbar\":{\"outlinewidth\":0,\"ticks\":\"\"}},\"type\":\"scattergl\"}],\"scattermapbox\":[{\"marker\":{\"colorbar\":{\"outlinewidth\":0,\"ticks\":\"\"}},\"type\":\"scattermapbox\"}],\"scatterpolar\":[{\"marker\":{\"colorbar\":{\"outlinewidth\":0,\"ticks\":\"\"}},\"type\":\"scatterpolar\"}],\"scatterpolargl\":[{\"marker\":{\"colorbar\":{\"outlinewidth\":0,\"ticks\":\"\"}},\"type\":\"scatterpolargl\"}],\"scatterternary\":[{\"marker\":{\"colorbar\":{\"outlinewidth\":0,\"ticks\":\"\"}},\"type\":\"scatterternary\"}],\"surface\":[{\"colorbar\":{\"outlinewidth\":0,\"ticks\":\"\"},\"colorscale\":[[0.0,\"#0d0887\"],[0.1111111111111111,\"#46039f\"],[0.2222222222222222,\"#7201a8\"],[0.3333333333333333,\"#9c179e\"],[0.4444444444444444,\"#bd3786\"],[0.5555555555555556,\"#d8576b\"],[0.6666666666666666,\"#ed7953\"],[0.7777777777777778,\"#fb9f3a\"],[0.8888888888888888,\"#fdca26\"],[1.0,\"#f0f921\"]],\"type\":\"surface\"}],\"table\":[{\"cells\":{\"fill\":{\"color\":\"#EBF0F8\"},\"line\":{\"color\":\"white\"}},\"header\":{\"fill\":{\"color\":\"#C8D4E3\"},\"line\":{\"color\":\"white\"}},\"type\":\"table\"}]},\"layout\":{\"annotationdefaults\":{\"arrowcolor\":\"#2a3f5f\",\"arrowhead\":0,\"arrowwidth\":1},\"autotypenumbers\":\"strict\",\"coloraxis\":{\"colorbar\":{\"outlinewidth\":0,\"ticks\":\"\"}},\"colorscale\":{\"diverging\":[[0,\"#8e0152\"],[0.1,\"#c51b7d\"],[0.2,\"#de77ae\"],[0.3,\"#f1b6da\"],[0.4,\"#fde0ef\"],[0.5,\"#f7f7f7\"],[0.6,\"#e6f5d0\"],[0.7,\"#b8e186\"],[0.8,\"#7fbc41\"],[0.9,\"#4d9221\"],[1,\"#276419\"]],\"sequential\":[[0.0,\"#0d0887\"],[0.1111111111111111,\"#46039f\"],[0.2222222222222222,\"#7201a8\"],[0.3333333333333333,\"#9c179e\"],[0.4444444444444444,\"#bd3786\"],[0.5555555555555556,\"#d8576b\"],[0.6666666666666666,\"#ed7953\"],[0.7777777777777778,\"#fb9f3a\"],[0.8888888888888888,\"#fdca26\"],[1.0,\"#f0f921\"]],\"sequentialminus\":[[0.0,\"#0d0887\"],[0.1111111111111111,\"#46039f\"],[0.2222222222222222,\"#7201a8\"],[0.3333333333333333,\"#9c179e\"],[0.4444444444444444,\"#bd3786\"],[0.5555555555555556,\"#d8576b\"],[0.6666666666666666,\"#ed7953\"],[0.7777777777777778,\"#fb9f3a\"],[0.8888888888888888,\"#fdca26\"],[1.0,\"#f0f921\"]]},\"colorway\":[\"#636efa\",\"#EF553B\",\"#00cc96\",\"#ab63fa\",\"#FFA15A\",\"#19d3f3\",\"#FF6692\",\"#B6E880\",\"#FF97FF\",\"#FECB52\"],\"font\":{\"color\":\"#2a3f5f\"},\"geo\":{\"bgcolor\":\"white\",\"lakecolor\":\"white\",\"landcolor\":\"#E5ECF6\",\"showlakes\":true,\"showland\":true,\"subunitcolor\":\"white\"},\"hoverlabel\":{\"align\":\"left\"},\"hovermode\":\"closest\",\"mapbox\":{\"style\":\"light\"},\"paper_bgcolor\":\"white\",\"plot_bgcolor\":\"#E5ECF6\",\"polar\":{\"angularaxis\":{\"gridcolor\":\"white\",\"linecolor\":\"white\",\"ticks\":\"\"},\"bgcolor\":\"#E5ECF6\",\"radialaxis\":{\"gridcolor\":\"white\",\"linecolor\":\"white\",\"ticks\":\"\"}},\"scene\":{\"xaxis\":{\"backgroundcolor\":\"#E5ECF6\",\"gridcolor\":\"white\",\"gridwidth\":2,\"linecolor\":\"white\",\"showbackground\":true,\"ticks\":\"\",\"zerolinecolor\":\"white\"},\"yaxis\":{\"backgroundcolor\":\"#E5ECF6\",\"gridcolor\":\"white\",\"gridwidth\":2,\"linecolor\":\"white\",\"showbackground\":true,\"ticks\":\"\",\"zerolinecolor\":\"white\"},\"zaxis\":{\"backgroundcolor\":\"#E5ECF6\",\"gridcolor\":\"white\",\"gridwidth\":2,\"linecolor\":\"white\",\"showbackground\":true,\"ticks\":\"\",\"zerolinecolor\":\"white\"}},\"shapedefaults\":{\"line\":{\"color\":\"#2a3f5f\"}},\"ternary\":{\"aaxis\":{\"gridcolor\":\"white\",\"linecolor\":\"white\",\"ticks\":\"\"},\"baxis\":{\"gridcolor\":\"white\",\"linecolor\":\"white\",\"ticks\":\"\"},\"bgcolor\":\"#E5ECF6\",\"caxis\":{\"gridcolor\":\"white\",\"linecolor\":\"white\",\"ticks\":\"\"}},\"title\":{\"x\":0.05},\"xaxis\":{\"automargin\":true,\"gridcolor\":\"white\",\"linecolor\":\"white\",\"ticks\":\"\",\"title\":{\"standoff\":15},\"zerolinecolor\":\"white\",\"zerolinewidth\":2},\"yaxis\":{\"automargin\":true,\"gridcolor\":\"white\",\"linecolor\":\"white\",\"ticks\":\"\",\"title\":{\"standoff\":15},\"zerolinecolor\":\"white\",\"zerolinewidth\":2}}},\"title\":{\"text\":\"\\u0412\\u043e\\u0440\\u043e\\u043d\\u043a\\u0430 \\u0441\\u043e\\u0431\\u044b\\u0442\\u0438\\u0439\"}},                        {\"responsive\": true}                    ).then(function(){\n",
       "                            \n",
       "var gd = document.getElementById('96b40045-9e3e-4be0-973c-1bffa87e39f2');\n",
       "var x = new MutationObserver(function (mutations, observer) {{\n",
       "        var display = window.getComputedStyle(gd).display;\n",
       "        if (!display || display === 'none') {{\n",
       "            console.log([gd, 'removed!']);\n",
       "            Plotly.purge(gd);\n",
       "            observer.disconnect();\n",
       "        }}\n",
       "}});\n",
       "\n",
       "// Listen for the removal of the full notebook cells\n",
       "var notebookContainer = gd.closest('#notebook-container');\n",
       "if (notebookContainer) {{\n",
       "    x.observe(notebookContainer, {childList: true});\n",
       "}}\n",
       "\n",
       "// Listen for the clearing of the current output cell\n",
       "var outputEl = gd.closest('.output');\n",
       "if (outputEl) {{\n",
       "    x.observe(outputEl, {childList: true});\n",
       "}}\n",
       "\n",
       "                        })                };                });            </script>        </div>"
      ]
     },
     "metadata": {},
     "output_type": "display_data"
    }
   ],
   "source": [
    "# строим воронку \n",
    "from plotly import graph_objects as go\n",
    "\n",
    "fig = go.Figure(\n",
    "    go.Funnel(\n",
    "        y=[\n",
    "            'Главный экран',\n",
    "            'Экран с товарами',\n",
    "            'Перешли в корзину',\n",
    "            'Оплатили',\n",
    "        ],\n",
    "        x=event_group['users'],\n",
    "    textposition = \"inside\",\n",
    "    textinfo = \"value+percent previous+percent initial\")\n",
    ")\n",
    "fig.update_layout(title_text='Воронка событий')\n",
    "fig.show() "
   ]
  },
  {
   "cell_type": "markdown",
   "metadata": {},
   "source": [
    "Больше всего пользователей мы теряем после первого этапа это 38%, от первого этапа до этапа оплаты, доходит 48% пользователей, это хороший показатель. В основном те люди, которые добавили товар в корзину и перешли на страницу с корзиной, то есть 3 этап, оплачивают товар это 95%."
   ]
  },
  {
   "cell_type": "markdown",
   "metadata": {},
   "source": [
    "**Вывод:**\n",
    "События происходят в следующем порядке:\n",
    "\n",
    "MainScreenAppear - главный экран  \n",
    "Tutorial - обучение (по желанию)  \n",
    "OffersScreenAppear - экран с товарами    \n",
    "CartScreenAppear - экран с корзиной    \n",
    "PaymentScreenSuccessful - Экран успешной оплаты заказа  \n",
    "Этап Tutorial тут лишний, так как обязательным не является и не влияет на то, дойдет ли пользователь до финальной покупки или нет. Так же событий этого типа слишком мало для анализа по сравнению с другими. поэтому дальнейший анализ проводим без него.\n",
    "\n",
    "Больше всего пользователей мы теряем после первого этапа это 38%, от первого этапа до этапа оплаты, доходит 48% пользователей, это хороший показатель. В основном те люди, которые добавили товар в корзину и перешли на страницу с корзиной, то есть 3 этап, оплачивают товар это 95%."
   ]
  },
  {
   "cell_type": "markdown",
   "metadata": {},
   "source": [
    "## Анализ А/А/В-теста"
   ]
  },
  {
   "cell_type": "code",
   "execution_count": 28,
   "metadata": {},
   "outputs": [
    {
     "data": {
      "text/html": [
       "<div>\n",
       "<style scoped>\n",
       "    .dataframe tbody tr th:only-of-type {\n",
       "        vertical-align: middle;\n",
       "    }\n",
       "\n",
       "    .dataframe tbody tr th {\n",
       "        vertical-align: top;\n",
       "    }\n",
       "\n",
       "    .dataframe thead th {\n",
       "        text-align: right;\n",
       "    }\n",
       "</style>\n",
       "<table border=\"1\" class=\"dataframe\">\n",
       "  <thead>\n",
       "    <tr style=\"text-align: right;\">\n",
       "      <th></th>\n",
       "      <th>exp_id</th>\n",
       "      <th>id</th>\n",
       "    </tr>\n",
       "  </thead>\n",
       "  <tbody>\n",
       "    <tr>\n",
       "      <th>0</th>\n",
       "      <td>246</td>\n",
       "      <td>2483</td>\n",
       "    </tr>\n",
       "    <tr>\n",
       "      <th>1</th>\n",
       "      <td>247</td>\n",
       "      <td>2512</td>\n",
       "    </tr>\n",
       "    <tr>\n",
       "      <th>2</th>\n",
       "      <td>248</td>\n",
       "      <td>2535</td>\n",
       "    </tr>\n",
       "    <tr>\n",
       "      <th>3</th>\n",
       "      <td>246_247</td>\n",
       "      <td>4995</td>\n",
       "    </tr>\n",
       "  </tbody>\n",
       "</table>\n",
       "</div>"
      ],
      "text/plain": [
       "    exp_id    id\n",
       "0      246  2483\n",
       "1      247  2512\n",
       "2      248  2535\n",
       "3  246_247  4995"
      ]
     },
     "execution_count": 28,
     "metadata": {},
     "output_type": "execute_result"
    }
   ],
   "source": [
    "# группируеи по группам и смотрим сколько всего уникальных пользователей, также соединям две группы и добавляем в данный столбец\n",
    "test = new_data.groupby('exp_id')['id'].nunique()\n",
    "test['246_247'] = test.loc[246] + test.loc[247]\n",
    "test.reset_index()"
   ]
  },
  {
   "cell_type": "code",
   "execution_count": 29,
   "metadata": {},
   "outputs": [
    {
     "data": {
      "text/html": [
       "<div>\n",
       "<style scoped>\n",
       "    .dataframe tbody tr th:only-of-type {\n",
       "        vertical-align: middle;\n",
       "    }\n",
       "\n",
       "    .dataframe tbody tr th {\n",
       "        vertical-align: top;\n",
       "    }\n",
       "\n",
       "    .dataframe thead th {\n",
       "        text-align: right;\n",
       "    }\n",
       "</style>\n",
       "<table border=\"1\" class=\"dataframe\">\n",
       "  <thead>\n",
       "    <tr style=\"text-align: right;\">\n",
       "      <th></th>\n",
       "      <th>id</th>\n",
       "    </tr>\n",
       "    <tr>\n",
       "      <th>event_name</th>\n",
       "      <th></th>\n",
       "    </tr>\n",
       "  </thead>\n",
       "  <tbody>\n",
       "    <tr>\n",
       "      <th>CartScreenAppear</th>\n",
       "      <td>3734</td>\n",
       "    </tr>\n",
       "    <tr>\n",
       "      <th>MainScreenAppear</th>\n",
       "      <td>7419</td>\n",
       "    </tr>\n",
       "    <tr>\n",
       "      <th>OffersScreenAppear</th>\n",
       "      <td>4593</td>\n",
       "    </tr>\n",
       "    <tr>\n",
       "      <th>PaymentScreenSuccessful</th>\n",
       "      <td>3539</td>\n",
       "    </tr>\n",
       "  </tbody>\n",
       "</table>\n",
       "</div>"
      ],
      "text/plain": [
       "                           id\n",
       "event_name                   \n",
       "CartScreenAppear         3734\n",
       "MainScreenAppear         7419\n",
       "OffersScreenAppear       4593\n",
       "PaymentScreenSuccessful  3539"
      ]
     },
     "execution_count": 29,
     "metadata": {},
     "output_type": "execute_result"
    }
   ],
   "source": [
    "# посмотрим сколько уникальных пользователей по событиям\n",
    "a_a_test_1 = new_data.groupby('event_name')['id'].nunique()\n",
    "a_a_test_1.to_frame()"
   ]
  },
  {
   "cell_type": "markdown",
   "metadata": {},
   "source": [
    "### A/A тест и подготовка к анализу теста"
   ]
  },
  {
   "cell_type": "markdown",
   "metadata": {},
   "source": [
    "Н0: Между долями нет статистически значимой разницы   \n",
    "Н1: Между долями есть статистически значимая разницы"
   ]
  },
  {
   "cell_type": "code",
   "execution_count": 30,
   "metadata": {},
   "outputs": [
    {
     "data": {
      "text/html": [
       "<div>\n",
       "<style scoped>\n",
       "    .dataframe tbody tr th:only-of-type {\n",
       "        vertical-align: middle;\n",
       "    }\n",
       "\n",
       "    .dataframe tbody tr th {\n",
       "        vertical-align: top;\n",
       "    }\n",
       "\n",
       "    .dataframe thead th {\n",
       "        text-align: right;\n",
       "    }\n",
       "</style>\n",
       "<table border=\"1\" class=\"dataframe\">\n",
       "  <thead>\n",
       "    <tr style=\"text-align: right;\">\n",
       "      <th></th>\n",
       "      <th>visitor_id</th>\n",
       "      <th>group</th>\n",
       "      <th>count</th>\n",
       "    </tr>\n",
       "  </thead>\n",
       "  <tbody>\n",
       "    <tr>\n",
       "      <th>1</th>\n",
       "      <td>6909561520679493</td>\n",
       "      <td>247</td>\n",
       "      <td>5</td>\n",
       "    </tr>\n",
       "    <tr>\n",
       "      <th>2</th>\n",
       "      <td>6922444491712477</td>\n",
       "      <td>246</td>\n",
       "      <td>47</td>\n",
       "    </tr>\n",
       "    <tr>\n",
       "      <th>3</th>\n",
       "      <td>7435777799948366</td>\n",
       "      <td>248</td>\n",
       "      <td>6</td>\n",
       "    </tr>\n",
       "    <tr>\n",
       "      <th>4</th>\n",
       "      <td>7702139951469979</td>\n",
       "      <td>247</td>\n",
       "      <td>137</td>\n",
       "    </tr>\n",
       "    <tr>\n",
       "      <th>5</th>\n",
       "      <td>8486814028069281</td>\n",
       "      <td>248</td>\n",
       "      <td>10</td>\n",
       "    </tr>\n",
       "    <tr>\n",
       "      <th>...</th>\n",
       "      <td>...</td>\n",
       "      <td>...</td>\n",
       "      <td>...</td>\n",
       "    </tr>\n",
       "    <tr>\n",
       "      <th>7525</th>\n",
       "      <td>9217594193087726423</td>\n",
       "      <td>246</td>\n",
       "      <td>9</td>\n",
       "    </tr>\n",
       "    <tr>\n",
       "      <th>7526</th>\n",
       "      <td>9219463515465815368</td>\n",
       "      <td>248</td>\n",
       "      <td>17</td>\n",
       "    </tr>\n",
       "    <tr>\n",
       "      <th>7527</th>\n",
       "      <td>9220879493065341500</td>\n",
       "      <td>246</td>\n",
       "      <td>6</td>\n",
       "    </tr>\n",
       "    <tr>\n",
       "      <th>7528</th>\n",
       "      <td>9221926045299980007</td>\n",
       "      <td>246</td>\n",
       "      <td>7</td>\n",
       "    </tr>\n",
       "    <tr>\n",
       "      <th>7529</th>\n",
       "      <td>9222603179720523844</td>\n",
       "      <td>248</td>\n",
       "      <td>59</td>\n",
       "    </tr>\n",
       "  </tbody>\n",
       "</table>\n",
       "<p>7397 rows × 3 columns</p>\n",
       "</div>"
      ],
      "text/plain": [
       "               visitor_id  group  count\n",
       "1        6909561520679493    247      5\n",
       "2        6922444491712477    246     47\n",
       "3        7435777799948366    248      6\n",
       "4        7702139951469979    247    137\n",
       "5        8486814028069281    248     10\n",
       "...                   ...    ...    ...\n",
       "7525  9217594193087726423    246      9\n",
       "7526  9219463515465815368    248     17\n",
       "7527  9220879493065341500    246      6\n",
       "7528  9221926045299980007    246      7\n",
       "7529  9222603179720523844    248     59\n",
       "\n",
       "[7397 rows x 3 columns]"
      ]
     },
     "execution_count": 30,
     "metadata": {},
     "output_type": "execute_result"
    }
   ],
   "source": [
    "# сгруппируем данные по пользователям и группам\n",
    "group_sizes = new_data.groupby(['id', 'exp_id']).size().reset_index()\n",
    "group_sizes.columns = ['visitor_id', 'group', 'count']\n",
    "group_sizes = group_sizes.query('count > 1').sort_values(by='visitor_id')\n",
    "group_sizes"
   ]
  },
  {
   "cell_type": "code",
   "execution_count": 31,
   "metadata": {},
   "outputs": [
    {
     "data": {
      "text/html": [
       "<div>\n",
       "<style scoped>\n",
       "    .dataframe tbody tr th:only-of-type {\n",
       "        vertical-align: middle;\n",
       "    }\n",
       "\n",
       "    .dataframe tbody tr th {\n",
       "        vertical-align: top;\n",
       "    }\n",
       "\n",
       "    .dataframe thead th {\n",
       "        text-align: right;\n",
       "    }\n",
       "</style>\n",
       "<table border=\"1\" class=\"dataframe\">\n",
       "  <thead>\n",
       "    <tr style=\"text-align: right;\">\n",
       "      <th></th>\n",
       "      <th>visitor_id</th>\n",
       "      <th>group</th>\n",
       "      <th>count</th>\n",
       "    </tr>\n",
       "  </thead>\n",
       "  <tbody>\n",
       "  </tbody>\n",
       "</table>\n",
       "</div>"
      ],
      "text/plain": [
       "Empty DataFrame\n",
       "Columns: [visitor_id, group, count]\n",
       "Index: []"
      ]
     },
     "execution_count": 31,
     "metadata": {},
     "output_type": "execute_result"
    }
   ],
   "source": [
    "# посмотрим какие есть дубликаты\n",
    "duplucate = group_sizes[group_sizes['visitor_id'].duplicated()]\n",
    "duplucate"
   ]
  },
  {
   "cell_type": "markdown",
   "metadata": {},
   "source": [
    "Никто не попал в несколько групп"
   ]
  },
  {
   "cell_type": "code",
   "execution_count": 32,
   "metadata": {},
   "outputs": [
    {
     "data": {
      "text/html": [
       "<div>\n",
       "<style scoped>\n",
       "    .dataframe tbody tr th:only-of-type {\n",
       "        vertical-align: middle;\n",
       "    }\n",
       "\n",
       "    .dataframe tbody tr th {\n",
       "        vertical-align: top;\n",
       "    }\n",
       "\n",
       "    .dataframe thead th {\n",
       "        text-align: right;\n",
       "    }\n",
       "</style>\n",
       "<table border=\"1\" class=\"dataframe\">\n",
       "  <thead>\n",
       "    <tr style=\"text-align: right;\">\n",
       "      <th>exp_id</th>\n",
       "      <th>event_name</th>\n",
       "      <th>246</th>\n",
       "      <th>247</th>\n",
       "      <th>248</th>\n",
       "    </tr>\n",
       "  </thead>\n",
       "  <tbody>\n",
       "    <tr>\n",
       "      <th>1</th>\n",
       "      <td>MainScreenAppear</td>\n",
       "      <td>2450</td>\n",
       "      <td>2476</td>\n",
       "      <td>2493</td>\n",
       "    </tr>\n",
       "    <tr>\n",
       "      <th>2</th>\n",
       "      <td>OffersScreenAppear</td>\n",
       "      <td>1542</td>\n",
       "      <td>1520</td>\n",
       "      <td>1531</td>\n",
       "    </tr>\n",
       "    <tr>\n",
       "      <th>0</th>\n",
       "      <td>CartScreenAppear</td>\n",
       "      <td>1266</td>\n",
       "      <td>1238</td>\n",
       "      <td>1230</td>\n",
       "    </tr>\n",
       "    <tr>\n",
       "      <th>3</th>\n",
       "      <td>PaymentScreenSuccessful</td>\n",
       "      <td>1200</td>\n",
       "      <td>1158</td>\n",
       "      <td>1181</td>\n",
       "    </tr>\n",
       "  </tbody>\n",
       "</table>\n",
       "</div>"
      ],
      "text/plain": [
       "exp_id               event_name   246   247   248\n",
       "1              MainScreenAppear  2450  2476  2493\n",
       "2            OffersScreenAppear  1542  1520  1531\n",
       "0              CartScreenAppear  1266  1238  1230\n",
       "3       PaymentScreenSuccessful  1200  1158  1181"
      ]
     },
     "execution_count": 32,
     "metadata": {},
     "output_type": "execute_result"
    }
   ],
   "source": [
    "# сделаем сводную таблицу  по событиям и группам\n",
    "users_pivot = new_data.pivot_table(index='event_name',columns='exp_id', values='id', aggfunc='nunique').reset_index()\n",
    "users_pivot = users_pivot.sort_values(by=246, ascending=False)\n",
    "users_pivot"
   ]
  },
  {
   "cell_type": "code",
   "execution_count": 33,
   "metadata": {},
   "outputs": [
    {
     "data": {
      "text/html": [
       "<div>\n",
       "<style scoped>\n",
       "    .dataframe tbody tr th:only-of-type {\n",
       "        vertical-align: middle;\n",
       "    }\n",
       "\n",
       "    .dataframe tbody tr th {\n",
       "        vertical-align: top;\n",
       "    }\n",
       "\n",
       "    .dataframe thead th {\n",
       "        text-align: right;\n",
       "    }\n",
       "</style>\n",
       "<table border=\"1\" class=\"dataframe\">\n",
       "  <thead>\n",
       "    <tr style=\"text-align: right;\">\n",
       "      <th>exp_id</th>\n",
       "      <th>event_name</th>\n",
       "      <th>246</th>\n",
       "      <th>247</th>\n",
       "      <th>248</th>\n",
       "      <th>246_247</th>\n",
       "      <th>all</th>\n",
       "      <th>part_246</th>\n",
       "      <th>part_247</th>\n",
       "      <th>part_248</th>\n",
       "      <th>part_246_247</th>\n",
       "      <th>part_all</th>\n",
       "    </tr>\n",
       "  </thead>\n",
       "  <tbody>\n",
       "    <tr>\n",
       "      <th>1</th>\n",
       "      <td>MainScreenAppear</td>\n",
       "      <td>2450</td>\n",
       "      <td>2476</td>\n",
       "      <td>2493</td>\n",
       "      <td>4926</td>\n",
       "      <td>7419</td>\n",
       "      <td>98.7</td>\n",
       "      <td>98.6</td>\n",
       "      <td>98.3</td>\n",
       "      <td>98.6</td>\n",
       "      <td>59.2</td>\n",
       "    </tr>\n",
       "    <tr>\n",
       "      <th>2</th>\n",
       "      <td>OffersScreenAppear</td>\n",
       "      <td>1542</td>\n",
       "      <td>1520</td>\n",
       "      <td>1531</td>\n",
       "      <td>3062</td>\n",
       "      <td>4593</td>\n",
       "      <td>62.1</td>\n",
       "      <td>60.5</td>\n",
       "      <td>60.4</td>\n",
       "      <td>61.3</td>\n",
       "      <td>36.7</td>\n",
       "    </tr>\n",
       "    <tr>\n",
       "      <th>0</th>\n",
       "      <td>CartScreenAppear</td>\n",
       "      <td>1266</td>\n",
       "      <td>1238</td>\n",
       "      <td>1230</td>\n",
       "      <td>2504</td>\n",
       "      <td>3734</td>\n",
       "      <td>51.0</td>\n",
       "      <td>49.3</td>\n",
       "      <td>48.5</td>\n",
       "      <td>50.1</td>\n",
       "      <td>29.8</td>\n",
       "    </tr>\n",
       "    <tr>\n",
       "      <th>3</th>\n",
       "      <td>PaymentScreenSuccessful</td>\n",
       "      <td>1200</td>\n",
       "      <td>1158</td>\n",
       "      <td>1181</td>\n",
       "      <td>2358</td>\n",
       "      <td>3539</td>\n",
       "      <td>48.3</td>\n",
       "      <td>46.1</td>\n",
       "      <td>46.6</td>\n",
       "      <td>47.2</td>\n",
       "      <td>28.3</td>\n",
       "    </tr>\n",
       "  </tbody>\n",
       "</table>\n",
       "</div>"
      ],
      "text/plain": [
       "exp_id               event_name   246   247   248  246_247   all  part_246  \\\n",
       "1              MainScreenAppear  2450  2476  2493     4926  7419      98.7   \n",
       "2            OffersScreenAppear  1542  1520  1531     3062  4593      62.1   \n",
       "0              CartScreenAppear  1266  1238  1230     2504  3734      51.0   \n",
       "3       PaymentScreenSuccessful  1200  1158  1181     2358  3539      48.3   \n",
       "\n",
       "exp_id  part_247  part_248  part_246_247  part_all  \n",
       "1           98.6      98.3          98.6      59.2  \n",
       "2           60.5      60.4          61.3      36.7  \n",
       "0           49.3      48.5          50.1      29.8  \n",
       "3           46.1      46.6          47.2      28.3  "
      ]
     },
     "execution_count": 33,
     "metadata": {},
     "output_type": "execute_result"
    }
   ],
   "source": [
    "#добавим в таблицу сумму двух тестов А\n",
    "users_pivot['246_247'] = users_pivot[246] + users_pivot[247]\n",
    "# сумма пользователей\n",
    "users_pivot['all'] = users_pivot['246_247'] + users_pivot[248]\n",
    "# часть кажой группы от всех пользователей в каждом событии\n",
    "users_pivot['part_246'] = (users_pivot[246] / test[246] * 100).round(1)\n",
    "users_pivot['part_247'] = (users_pivot[247] / test[247] * 100).round(1)\n",
    "users_pivot['part_248'] = (users_pivot[248] / test[248] * 100).round(1)\n",
    "users_pivot['part_246_247'] = ((users_pivot[246] + users_pivot[247]) / \\\n",
    "                                  (test[246] + test[247]) * 100).round(1)\n",
    "users_pivot['part_all'] = (users_pivot['all'] / test.sum() * 100).round(1)\n",
    "users_pivot"
   ]
  },
  {
   "cell_type": "markdown",
   "metadata": {},
   "source": [
    "### Функция для проведения теста"
   ]
  },
  {
   "cell_type": "markdown",
   "metadata": {},
   "source": [
    "Так как у нас разные группы, то предлагаю провести z-тест. Так как при проверках у нас много будет разных тестов, предлагаю написать функцию по расчету статистической значимости для обращения"
   ]
  },
  {
   "cell_type": "code",
   "execution_count": 34,
   "metadata": {},
   "outputs": [],
   "source": [
    "def z_test(group1, group2, alpha):\n",
    "    for i in users_pivot.index:\n",
    "        p1 = users_pivot[group1][i] / test[group1]\n",
    "        # пропорция успехов во второй группе:\n",
    "        p2 = users_pivot[group2][i] / test[group2]\n",
    "        # пропорция успехов в комбинированном датасете:\n",
    "        p_combined = ((users_pivot[group1][i] + users_pivot[group2][i]) / \n",
    "                      (test[group1] + test[group2]))\n",
    "        # разница пропорций в датасетах\n",
    "        difference = p1 - p2\n",
    "        # считаем статистику в ст.отклонениях стандартного нормального распределения\n",
    "        z_value = difference / mth.sqrt(p_combined * (1 - p_combined) * \n",
    "                                        (1/test[group1] + 1/test[group2]))\n",
    "        # задаем стандартное нормальное распределение (среднее 0, ст.отклонение 1)\n",
    "        distr = st.norm(0, 1) \n",
    "        p_value = (1 - distr.cdf(abs(z_value))) * 2\n",
    "        print('{} p-значение: {}'.format(users_pivot['event_name'][i], p_value))\n",
    "        if (p_value < alpha):\n",
    "            print(\"Отвергаем нулевую гипотезу: между долями есть значимая разница\")\n",
    "        else:\n",
    "            print(\"Не получилось отвергнуть нулевую гипотезу, нет оснований считать доли разными\")\n",
    "        print('')"
   ]
  },
  {
   "cell_type": "code",
   "execution_count": 35,
   "metadata": {},
   "outputs": [
    {
     "name": "stdout",
     "output_type": "stream",
     "text": [
      "MainScreenAppear p-значение: 0.7526703436483038\n",
      "Не получилось отвергнуть нулевую гипотезу, нет оснований считать доли разными\n",
      "\n",
      "OffersScreenAppear p-значение: 0.24786096925282264\n",
      "Не получилось отвергнуть нулевую гипотезу, нет оснований считать доли разными\n",
      "\n",
      "CartScreenAppear p-значение: 0.22867643757335676\n",
      "Не получилось отвергнуть нулевую гипотезу, нет оснований считать доли разными\n",
      "\n",
      "PaymentScreenSuccessful p-значение: 0.11446627829276612\n",
      "Не получилось отвергнуть нулевую гипотезу, нет оснований считать доли разными\n",
      "\n"
     ]
    }
   ],
   "source": [
    "# смотрим z_test для АА тестирования и берем pval = 0.01 для точности АА-теста\n",
    "z_test(246, 247, 0.01)"
   ]
  },
  {
   "cell_type": "markdown",
   "metadata": {},
   "source": [
    "Критерии успешного A/A-теста:\n",
    "\n",
    "- Количество пользователей в различных группах различается не более, чем на 1%;\n",
    "- Для всех групп фиксируют и отправляют в системы аналитики данные об одном и том же;\n",
    "- Различие ключевых метрик по группам не превышает 1% и не имеет статистической значимости;\n",
    "- Попавший в одну из групп посетитель остаётся в этой группе до конца теста. \n",
    "\n",
    "\n",
    "По весм критериям A/A-тест можно считать успешным."
   ]
  },
  {
   "cell_type": "markdown",
   "metadata": {},
   "source": [
    "### Анализ A/B - теста"
   ]
  },
  {
   "cell_type": "markdown",
   "metadata": {},
   "source": [
    "У нас 4 шага в воронке и 3 группы для сравнения. Поэтому на одних и тех же данных мы проведем тест 12-раз и нам необходимо сделать поправку Бонферони на множественную проверку гипотез. Для дальнеших проверок выберем критерий значимости стандартный 0.05."
   ]
  },
  {
   "cell_type": "markdown",
   "metadata": {},
   "source": [
    "Гипотезы:   \n",
    "Н0: Между долями нет статистически значимой разницы  \n",
    "Н1: Между долями есть статистически значимая разницы  "
   ]
  },
  {
   "cell_type": "code",
   "execution_count": 36,
   "metadata": {},
   "outputs": [],
   "source": [
    "# функция с поправкой Бонферони\n",
    "def z_test(group1, group2, alpha):\n",
    "    for i in users_pivot.index:\n",
    "        p1 = users_pivot[group1][i] / test[group1]\n",
    "        # пропорция успехов во второй группе:\n",
    "        p2 = users_pivot[group2][i] / test[group2]\n",
    "        # пропорция успехов в комбинированном датасете:\n",
    "        p_combined = ((users_pivot[group1][i] + users_pivot[group2][i]) / \n",
    "                      (test[group1] + test[group2]))\n",
    "        # разница пропорций в датасетах\n",
    "        difference = p1 - p2\n",
    "        # считаем статистику в ст.отклонениях стандартного нормального распределения\n",
    "        z_value = difference / mth.sqrt(p_combined * (1 - p_combined) * \n",
    "                                        (1/test[group1] + 1/test[group2]))\n",
    "        # задаем стандартное нормальное распределение (среднее 0, ст.отклонение 1)\n",
    "        distr = st.norm(0, 1) \n",
    "        p_value = (1 - distr.cdf(abs(z_value))) * 2\n",
    "        print('{} p-значение: {}'.format(users_pivot['event_name'][i], p_value))\n",
    "        if (p_value < alpha/12):\n",
    "            print(\"Отвергаем нулевую гипотезу: между долями есть значимая разница\")\n",
    "        else:\n",
    "            print(\"Не получилось отвергнуть нулевую гипотезу, нет оснований считать доли разными\")\n",
    "        print('')"
   ]
  },
  {
   "cell_type": "code",
   "execution_count": 37,
   "metadata": {},
   "outputs": [
    {
     "name": "stdout",
     "output_type": "stream",
     "text": [
      "MainScreenAppear p-значение: 0.3387114076159288\n",
      "Не получилось отвергнуть нулевую гипотезу, нет оснований считать доли разными\n",
      "\n",
      "OffersScreenAppear p-значение: 0.21442476639710506\n",
      "Не получилось отвергнуть нулевую гипотезу, нет оснований считать доли разными\n",
      "\n",
      "CartScreenAppear p-значение: 0.08067367598823139\n",
      "Не получилось отвергнуть нулевую гипотезу, нет оснований считать доли разными\n",
      "\n",
      "PaymentScreenSuccessful p-значение: 0.21693033984516674\n",
      "Не получилось отвергнуть нулевую гипотезу, нет оснований считать доли разными\n",
      "\n"
     ]
    }
   ],
   "source": [
    "# тест А1/В\n",
    "z_test(246, 248, 0.05)"
   ]
  },
  {
   "cell_type": "code",
   "execution_count": 38,
   "metadata": {},
   "outputs": [
    {
     "name": "stdout",
     "output_type": "stream",
     "text": [
      "MainScreenAppear p-значение: 0.5194964354051703\n",
      "Не получилось отвергнуть нулевую гипотезу, нет оснований считать доли разными\n",
      "\n",
      "OffersScreenAppear p-значение: 0.9333751305879443\n",
      "Не получилось отвергнуть нулевую гипотезу, нет оснований считать доли разными\n",
      "\n",
      "CartScreenAppear p-значение: 0.5878284605111943\n",
      "Не получилось отвергнуть нулевую гипотезу, нет оснований считать доли разными\n",
      "\n",
      "PaymentScreenSuccessful p-значение: 0.7275718682261119\n",
      "Не получилось отвергнуть нулевую гипотезу, нет оснований считать доли разными\n",
      "\n"
     ]
    }
   ],
   "source": [
    "# тест А2/В\n",
    "z_test(247, 248, 0.05)"
   ]
  },
  {
   "cell_type": "code",
   "execution_count": 39,
   "metadata": {},
   "outputs": [
    {
     "name": "stdout",
     "output_type": "stream",
     "text": [
      "MainScreenAppear p-значение: 0.3486684291093256\n",
      "Не получилось отвергнуть нулевую гипотезу, нет оснований считать доли разными\n",
      "\n",
      "OffersScreenAppear p-значение: 0.44582745409482394\n",
      "Не получилось отвергнуть нулевую гипотезу, нет оснований считать доли разными\n",
      "\n",
      "CartScreenAppear p-значение: 0.18683558686831558\n",
      "Не получилось отвергнуть нулевую гипотезу, нет оснований считать доли разными\n",
      "\n",
      "PaymentScreenSuccessful p-значение: 0.6107918742187335\n",
      "Не получилось отвергнуть нулевую гипотезу, нет оснований считать доли разными\n",
      "\n"
     ]
    }
   ],
   "source": [
    "# тест А/В\n",
    "z_test(\"246_247\", 248, 0.05)"
   ]
  },
  {
   "cell_type": "markdown",
   "metadata": {},
   "source": [
    "**Вывод:** \n",
    "- Мы проверили данные на попадание в несколько групп и успешно провели АА-тестирование по всем критериям. \n",
    "- Значимой разницы между группами во всех тестах не выявлено, значит изменение шрифта никак не повлияло на конверсию, поэтому если дизайнеры уже изменили шрифт и считают что так будет лучше, то можно поменять. но на будущее не стоит тратить человеко-ресурсы, если это никак не повлият на наши текущие цели в бизнесе, лучше пересмотреть что-то другое, что б увеличить конверсию."
   ]
  },
  {
   "cell_type": "markdown",
   "metadata": {},
   "source": [
    "## Вывод"
   ]
  },
  {
   "cell_type": "markdown",
   "metadata": {},
   "source": [
    "Во время анализа, мы: \n",
    "1. В предобработке мы изменили тип данных, добавили стобец с датой, проверили на пропуски и дубликаты, удалили дубликаты. Посмотрели уникальные значения.  \n",
    "\n",
    "2. При проверке данныхвыяснили, что:  \n",
    "- пользователь проходит 5 шагов  \n",
    "- всего действий было совершено 243713   \n",
    "- уникальных пользователей 7551  \n",
    "- среднее количество действий на пользователя 32\n",
    "- эксперимент проводился с 25.07-07.08, но не все данные во время подгрузились и поэтому в анализе мы берем только с 01.08-07.08\n",
    "- доля отфильтрованных событий составила всего 1: \n",
    "- в каждой группе близкое количество народу.\n",
    "\n",
    "3. События происходят в следующем порядке:\n",
    "\n",
    "- MainScreenAppear - главный экран  \n",
    "- Tutorial - обучение (по желанию)  \n",
    "- OffersScreenAppear - экран с товарами    \n",
    "- CartScreenAppear - экран с корзиной    \n",
    "- PaymentScreenSuccessful - Экран успешной оплаты заказа  \n",
    "\n",
    "Этап Tutorial тут лишний, так как обязательным не является и не влияет на то, дойдет ли пользователь до финальной покупки или нет. Так же событий этого типа слишком мало для анализа по сравнению с другими. поэтому дальнейший анализ проводим без него.\n",
    "\n",
    "Больше всего пользователей мы теряем после первого этапа это 38%, от первого этапа до этапа оплаты, доходит 48% пользователей, это хороший показатель. В основном те люди, которые добавили товар в корзину и перешли на страницу с корзиной, то есть 3 этап, оплачивают товар это 95%. \n",
    "\n",
    "4. \n",
    "- Мы проверили данные на попадание в несколько групп и успешно провели АА-тестирование по всем критериям. \n",
    "- Значимой разницы между группами во всех тестах не выявлено, значит изменение шрифта никак не повлияло на конверсию, поэтому если дизайнеры уже изменили шрифт и считают что так будет лучше, то можно поменять. но на будущее не стоит тратить человеко-ресурсы, если это никак не повлият на наши текущие цели в бизнесе, лучше пересмотреть что-то другое, что б увеличить конверсию."
   ]
  }
 ],
 "metadata": {
  "ExecuteTimeLog": [
   {
    "duration": 2029,
    "start_time": "2022-06-16T11:30:20.407Z"
   },
   {
    "duration": 4,
    "start_time": "2022-06-16T11:30:22.438Z"
   },
   {
    "duration": 704,
    "start_time": "2022-06-16T11:30:22.443Z"
   },
   {
    "duration": 268,
    "start_time": "2022-06-16T11:30:34.980Z"
   },
   {
    "duration": 271,
    "start_time": "2022-06-16T11:30:47.993Z"
   },
   {
    "duration": 4,
    "start_time": "2022-06-16T11:30:54.890Z"
   },
   {
    "duration": 277,
    "start_time": "2022-06-16T11:31:02.288Z"
   },
   {
    "duration": 122,
    "start_time": "2022-06-16T11:32:11.760Z"
   },
   {
    "duration": 9,
    "start_time": "2022-06-16T11:32:19.391Z"
   },
   {
    "duration": 23,
    "start_time": "2022-06-16T11:32:25.180Z"
   },
   {
    "duration": 8,
    "start_time": "2022-06-16T11:41:31.194Z"
   },
   {
    "duration": 277,
    "start_time": "2022-06-16T11:43:22.371Z"
   },
   {
    "duration": 278,
    "start_time": "2022-06-16T11:43:27.743Z"
   },
   {
    "duration": 1299,
    "start_time": "2022-06-16T11:43:39.294Z"
   },
   {
    "duration": 72,
    "start_time": "2022-06-16T14:10:07.171Z"
   },
   {
    "duration": 49,
    "start_time": "2022-06-16T14:11:35.061Z"
   },
   {
    "duration": 7,
    "start_time": "2022-06-16T14:14:45.981Z"
   },
   {
    "duration": 1568,
    "start_time": "2022-06-16T14:14:54.109Z"
   },
   {
    "duration": 2,
    "start_time": "2022-06-16T14:14:55.679Z"
   },
   {
    "duration": 1388,
    "start_time": "2022-06-16T14:14:55.683Z"
   },
   {
    "duration": 13,
    "start_time": "2022-06-16T14:14:57.073Z"
   },
   {
    "duration": 18,
    "start_time": "2022-06-16T14:25:36.591Z"
   },
   {
    "duration": 485,
    "start_time": "2022-06-16T14:26:02.452Z"
   },
   {
    "duration": 381,
    "start_time": "2022-06-16T14:26:16.466Z"
   },
   {
    "duration": 1202,
    "start_time": "2022-06-16T14:26:30.099Z"
   },
   {
    "duration": 3,
    "start_time": "2022-06-16T14:26:31.303Z"
   },
   {
    "duration": 1280,
    "start_time": "2022-06-16T14:26:31.308Z"
   },
   {
    "duration": 12,
    "start_time": "2022-06-16T14:26:32.590Z"
   },
   {
    "duration": 19,
    "start_time": "2022-06-16T14:26:32.604Z"
   },
   {
    "duration": 436,
    "start_time": "2022-06-16T14:27:54.872Z"
   },
   {
    "duration": 1195,
    "start_time": "2022-06-16T14:28:27.458Z"
   },
   {
    "duration": 4,
    "start_time": "2022-06-16T14:28:28.656Z"
   },
   {
    "duration": 1224,
    "start_time": "2022-06-16T14:28:28.661Z"
   },
   {
    "duration": 12,
    "start_time": "2022-06-16T14:28:29.886Z"
   },
   {
    "duration": 16,
    "start_time": "2022-06-16T14:28:29.900Z"
   },
   {
    "duration": 135,
    "start_time": "2022-06-16T14:28:29.918Z"
   },
   {
    "duration": 20,
    "start_time": "2022-06-16T14:28:47.556Z"
   },
   {
    "duration": 20,
    "start_time": "2022-06-16T14:28:48.362Z"
   },
   {
    "duration": 1180,
    "start_time": "2022-06-16T14:28:58.881Z"
   },
   {
    "duration": 2,
    "start_time": "2022-06-16T14:29:00.063Z"
   },
   {
    "duration": 1292,
    "start_time": "2022-06-16T14:29:00.067Z"
   },
   {
    "duration": 10,
    "start_time": "2022-06-16T14:29:01.361Z"
   },
   {
    "duration": 27,
    "start_time": "2022-06-16T14:29:01.373Z"
   },
   {
    "duration": 16,
    "start_time": "2022-06-16T14:29:01.402Z"
   },
   {
    "duration": 107,
    "start_time": "2022-06-16T14:30:52.789Z"
   },
   {
    "duration": 142,
    "start_time": "2022-06-16T14:31:13.071Z"
   },
   {
    "duration": 19,
    "start_time": "2022-06-16T14:31:39.173Z"
   },
   {
    "duration": 7,
    "start_time": "2022-06-16T14:32:10.656Z"
   },
   {
    "duration": 26,
    "start_time": "2022-06-16T14:33:56.681Z"
   },
   {
    "duration": 63,
    "start_time": "2022-06-16T14:36:06.488Z"
   },
   {
    "duration": 117,
    "start_time": "2022-06-16T14:38:29.476Z"
   },
   {
    "duration": 116,
    "start_time": "2022-06-16T14:38:33.322Z"
   },
   {
    "duration": 118,
    "start_time": "2022-06-16T14:38:53.286Z"
   },
   {
    "duration": 57,
    "start_time": "2022-06-17T07:22:15.062Z"
   },
   {
    "duration": 1461,
    "start_time": "2022-06-17T07:22:23.658Z"
   },
   {
    "duration": 2,
    "start_time": "2022-06-17T07:22:25.121Z"
   },
   {
    "duration": 1582,
    "start_time": "2022-06-17T07:22:25.124Z"
   },
   {
    "duration": 14,
    "start_time": "2022-06-17T07:22:26.708Z"
   },
   {
    "duration": 21,
    "start_time": "2022-06-17T07:22:26.724Z"
   },
   {
    "duration": 36,
    "start_time": "2022-06-17T07:22:26.747Z"
   },
   {
    "duration": 19,
    "start_time": "2022-06-17T07:22:26.785Z"
   },
   {
    "duration": 16,
    "start_time": "2022-06-17T07:22:26.806Z"
   },
   {
    "duration": 56,
    "start_time": "2022-06-17T07:22:26.825Z"
   },
   {
    "duration": 64,
    "start_time": "2022-06-17T07:22:26.883Z"
   },
   {
    "duration": 155,
    "start_time": "2022-06-17T07:22:26.949Z"
   },
   {
    "duration": 22,
    "start_time": "2022-06-17T07:22:27.106Z"
   },
   {
    "duration": 10,
    "start_time": "2022-06-17T07:23:04.209Z"
   },
   {
    "duration": 118,
    "start_time": "2022-06-17T07:41:50.654Z"
   },
   {
    "duration": 19,
    "start_time": "2022-06-17T07:41:57.845Z"
   },
   {
    "duration": 32,
    "start_time": "2022-06-17T07:42:14.932Z"
   },
   {
    "duration": 12,
    "start_time": "2022-06-17T07:52:41.472Z"
   },
   {
    "duration": 440,
    "start_time": "2022-06-17T07:54:04.081Z"
   },
   {
    "duration": 363,
    "start_time": "2022-06-17T07:54:17.697Z"
   },
   {
    "duration": 367,
    "start_time": "2022-06-17T07:54:54.193Z"
   },
   {
    "duration": 15,
    "start_time": "2022-06-17T07:55:44.617Z"
   },
   {
    "duration": 450,
    "start_time": "2022-06-17T07:56:10.111Z"
   },
   {
    "duration": 7,
    "start_time": "2022-06-17T08:01:19.159Z"
   },
   {
    "duration": 49,
    "start_time": "2022-06-17T08:03:29.665Z"
   },
   {
    "duration": 284,
    "start_time": "2022-06-17T08:04:20.484Z"
   },
   {
    "duration": 12,
    "start_time": "2022-06-17T08:05:41.106Z"
   },
   {
    "duration": 15,
    "start_time": "2022-06-17T08:06:01.148Z"
   },
   {
    "duration": 10,
    "start_time": "2022-06-17T08:09:28.518Z"
   },
   {
    "duration": 10,
    "start_time": "2022-06-17T08:09:45.426Z"
   },
   {
    "duration": 152,
    "start_time": "2022-06-17T08:10:08.655Z"
   },
   {
    "duration": 180,
    "start_time": "2022-06-17T08:10:44.606Z"
   },
   {
    "duration": 200,
    "start_time": "2022-06-17T08:15:09.458Z"
   },
   {
    "duration": 240,
    "start_time": "2022-06-17T08:15:23.711Z"
   },
   {
    "duration": 304,
    "start_time": "2022-06-17T08:15:32.177Z"
   },
   {
    "duration": 304,
    "start_time": "2022-06-17T08:15:46.413Z"
   },
   {
    "duration": 298,
    "start_time": "2022-06-17T08:15:56.484Z"
   },
   {
    "duration": 243,
    "start_time": "2022-06-17T08:18:17.263Z"
   },
   {
    "duration": 170,
    "start_time": "2022-06-17T08:18:27.699Z"
   },
   {
    "duration": 197,
    "start_time": "2022-06-17T08:18:34.590Z"
   },
   {
    "duration": 181,
    "start_time": "2022-06-17T08:18:46.574Z"
   },
   {
    "duration": 195,
    "start_time": "2022-06-17T08:19:11.048Z"
   },
   {
    "duration": 1213,
    "start_time": "2022-06-17T08:19:34.174Z"
   },
   {
    "duration": 3,
    "start_time": "2022-06-17T08:19:35.390Z"
   },
   {
    "duration": 1290,
    "start_time": "2022-06-17T08:19:35.395Z"
   },
   {
    "duration": 11,
    "start_time": "2022-06-17T08:19:36.687Z"
   },
   {
    "duration": 20,
    "start_time": "2022-06-17T08:19:36.699Z"
   },
   {
    "duration": 15,
    "start_time": "2022-06-17T08:19:36.721Z"
   },
   {
    "duration": 41,
    "start_time": "2022-06-17T08:19:36.738Z"
   },
   {
    "duration": 5,
    "start_time": "2022-06-17T08:19:36.781Z"
   },
   {
    "duration": 23,
    "start_time": "2022-06-17T08:19:36.787Z"
   },
   {
    "duration": 81,
    "start_time": "2022-06-17T08:19:36.812Z"
   },
   {
    "duration": 134,
    "start_time": "2022-06-17T08:19:36.895Z"
   },
   {
    "duration": 23,
    "start_time": "2022-06-17T08:19:37.030Z"
   },
   {
    "duration": 12,
    "start_time": "2022-06-17T08:19:37.054Z"
   },
   {
    "duration": 14,
    "start_time": "2022-06-17T08:19:37.068Z"
   },
   {
    "duration": 20,
    "start_time": "2022-06-17T08:19:37.083Z"
   },
   {
    "duration": 5,
    "start_time": "2022-06-17T08:19:37.105Z"
   },
   {
    "duration": 298,
    "start_time": "2022-06-17T08:19:37.112Z"
   },
   {
    "duration": 6,
    "start_time": "2022-06-17T08:21:30.803Z"
   },
   {
    "duration": 23,
    "start_time": "2022-06-17T08:52:41.134Z"
   },
   {
    "duration": 108,
    "start_time": "2022-06-17T08:58:16.714Z"
   },
   {
    "duration": 13,
    "start_time": "2022-06-17T09:00:59.903Z"
   },
   {
    "duration": 12,
    "start_time": "2022-06-17T09:02:11.844Z"
   },
   {
    "duration": 6,
    "start_time": "2022-06-17T10:00:35.327Z"
   },
   {
    "duration": 21,
    "start_time": "2022-06-17T10:02:49.382Z"
   },
   {
    "duration": 132,
    "start_time": "2022-06-17T10:08:54.231Z"
   },
   {
    "duration": 58,
    "start_time": "2022-06-17T10:10:39.586Z"
   },
   {
    "duration": 75,
    "start_time": "2022-06-17T10:10:59.012Z"
   },
   {
    "duration": 71,
    "start_time": "2022-06-17T10:11:31.405Z"
   },
   {
    "duration": 56,
    "start_time": "2022-06-17T10:11:43.315Z"
   },
   {
    "duration": 81,
    "start_time": "2022-06-17T10:12:30.152Z"
   },
   {
    "duration": 76,
    "start_time": "2022-06-17T10:13:07.367Z"
   },
   {
    "duration": 76,
    "start_time": "2022-06-17T10:14:49.466Z"
   },
   {
    "duration": 165,
    "start_time": "2022-06-17T10:15:31.046Z"
   },
   {
    "duration": 202,
    "start_time": "2022-06-17T10:15:49.508Z"
   },
   {
    "duration": 176,
    "start_time": "2022-06-17T10:16:11.679Z"
   },
   {
    "duration": 59,
    "start_time": "2022-06-17T10:16:32.024Z"
   },
   {
    "duration": 73,
    "start_time": "2022-06-17T10:22:47.837Z"
   },
   {
    "duration": 97,
    "start_time": "2022-06-17T10:23:00.590Z"
   },
   {
    "duration": 1407,
    "start_time": "2022-06-17T10:23:36.220Z"
   },
   {
    "duration": 3,
    "start_time": "2022-06-17T10:23:37.629Z"
   },
   {
    "duration": 1417,
    "start_time": "2022-06-17T10:23:37.634Z"
   },
   {
    "duration": 19,
    "start_time": "2022-06-17T10:23:39.053Z"
   },
   {
    "duration": 29,
    "start_time": "2022-06-17T10:23:39.075Z"
   },
   {
    "duration": 21,
    "start_time": "2022-06-17T10:23:39.106Z"
   },
   {
    "duration": 58,
    "start_time": "2022-06-17T10:23:39.129Z"
   },
   {
    "duration": 8,
    "start_time": "2022-06-17T10:23:39.189Z"
   },
   {
    "duration": 34,
    "start_time": "2022-06-17T10:23:39.199Z"
   },
   {
    "duration": 93,
    "start_time": "2022-06-17T10:23:39.235Z"
   },
   {
    "duration": 187,
    "start_time": "2022-06-17T10:23:39.330Z"
   },
   {
    "duration": 25,
    "start_time": "2022-06-17T10:23:39.519Z"
   },
   {
    "duration": 32,
    "start_time": "2022-06-17T10:23:39.545Z"
   },
   {
    "duration": 21,
    "start_time": "2022-06-17T10:23:39.581Z"
   },
   {
    "duration": 18,
    "start_time": "2022-06-17T10:23:39.605Z"
   },
   {
    "duration": 5,
    "start_time": "2022-06-17T10:23:39.625Z"
   },
   {
    "duration": 312,
    "start_time": "2022-06-17T10:23:39.632Z"
   },
   {
    "duration": 36,
    "start_time": "2022-06-17T10:23:39.945Z"
   },
   {
    "duration": 12,
    "start_time": "2022-06-17T10:23:39.983Z"
   },
   {
    "duration": 12,
    "start_time": "2022-06-17T10:23:39.997Z"
   },
   {
    "duration": 23,
    "start_time": "2022-06-17T10:23:40.010Z"
   },
   {
    "duration": 49,
    "start_time": "2022-06-17T10:23:40.035Z"
   },
   {
    "duration": 195,
    "start_time": "2022-06-17T10:23:40.086Z"
   },
   {
    "duration": 73,
    "start_time": "2022-06-17T10:23:49.864Z"
   },
   {
    "duration": 84,
    "start_time": "2022-06-17T10:28:02.695Z"
   },
   {
    "duration": 111,
    "start_time": "2022-06-17T10:28:13.546Z"
   },
   {
    "duration": 20,
    "start_time": "2022-06-17T10:31:52.502Z"
   },
   {
    "duration": 16,
    "start_time": "2022-06-17T10:35:13.177Z"
   },
   {
    "duration": 6,
    "start_time": "2022-06-17T10:35:30.189Z"
   },
   {
    "duration": 5,
    "start_time": "2022-06-17T10:35:50.530Z"
   },
   {
    "duration": 5,
    "start_time": "2022-06-17T10:36:23.016Z"
   },
   {
    "duration": 6,
    "start_time": "2022-06-17T10:36:38.853Z"
   },
   {
    "duration": 29,
    "start_time": "2022-06-17T10:36:45.950Z"
   },
   {
    "duration": 4,
    "start_time": "2022-06-17T10:36:52.609Z"
   },
   {
    "duration": 7,
    "start_time": "2022-06-17T10:39:08.311Z"
   },
   {
    "duration": 31,
    "start_time": "2022-06-17T10:51:50.980Z"
   },
   {
    "duration": 91,
    "start_time": "2022-06-17T10:52:05.010Z"
   },
   {
    "duration": 18,
    "start_time": "2022-06-17T11:22:21.856Z"
   },
   {
    "duration": 26,
    "start_time": "2022-06-17T11:55:41.181Z"
   },
   {
    "duration": 31,
    "start_time": "2022-06-17T11:55:49.950Z"
   },
   {
    "duration": 808,
    "start_time": "2022-06-17T12:09:58.890Z"
   },
   {
    "duration": 11,
    "start_time": "2022-06-17T12:12:33.012Z"
   },
   {
    "duration": 765,
    "start_time": "2022-06-17T12:12:43.273Z"
   },
   {
    "duration": 12,
    "start_time": "2022-06-17T12:13:48.743Z"
   },
   {
    "duration": 45,
    "start_time": "2022-06-17T12:19:30.765Z"
   },
   {
    "duration": 11,
    "start_time": "2022-06-17T12:20:54.251Z"
   },
   {
    "duration": 35,
    "start_time": "2022-06-17T12:37:24.328Z"
   },
   {
    "duration": 30,
    "start_time": "2022-06-17T12:47:12.380Z"
   },
   {
    "duration": 29,
    "start_time": "2022-06-17T12:47:45.381Z"
   },
   {
    "duration": 26,
    "start_time": "2022-06-17T12:48:02.529Z"
   },
   {
    "duration": 38,
    "start_time": "2022-06-17T12:48:38.003Z"
   },
   {
    "duration": 49,
    "start_time": "2022-06-17T12:48:43.635Z"
   },
   {
    "duration": 33,
    "start_time": "2022-06-17T12:49:26.979Z"
   },
   {
    "duration": 26,
    "start_time": "2022-06-17T12:51:39.793Z"
   },
   {
    "duration": 28,
    "start_time": "2022-06-17T12:52:47.459Z"
   },
   {
    "duration": 13,
    "start_time": "2022-06-17T12:53:08.089Z"
   },
   {
    "duration": 8,
    "start_time": "2022-06-17T12:54:41.394Z"
   },
   {
    "duration": 28,
    "start_time": "2022-06-17T13:02:23.784Z"
   },
   {
    "duration": 8,
    "start_time": "2022-06-17T13:03:10.299Z"
   },
   {
    "duration": 7,
    "start_time": "2022-06-17T13:04:23.304Z"
   },
   {
    "duration": 26,
    "start_time": "2022-06-17T13:04:24.634Z"
   },
   {
    "duration": 6,
    "start_time": "2022-06-17T13:04:25.847Z"
   },
   {
    "duration": 1269,
    "start_time": "2022-06-17T13:06:47.149Z"
   },
   {
    "duration": 3,
    "start_time": "2022-06-17T13:06:48.420Z"
   },
   {
    "duration": 1371,
    "start_time": "2022-06-19T09:54:34.524Z"
   },
   {
    "duration": 3,
    "start_time": "2022-06-19T09:54:35.897Z"
   },
   {
    "duration": 1492,
    "start_time": "2022-06-19T09:54:35.901Z"
   },
   {
    "duration": 16,
    "start_time": "2022-06-19T09:54:37.395Z"
   },
   {
    "duration": 23,
    "start_time": "2022-06-19T09:54:37.414Z"
   },
   {
    "duration": 26,
    "start_time": "2022-06-19T09:54:37.439Z"
   },
   {
    "duration": 23,
    "start_time": "2022-06-19T09:54:37.467Z"
   },
   {
    "duration": 5,
    "start_time": "2022-06-19T09:54:37.491Z"
   },
   {
    "duration": 27,
    "start_time": "2022-06-19T09:54:37.497Z"
   },
   {
    "duration": 84,
    "start_time": "2022-06-19T09:54:37.525Z"
   },
   {
    "duration": 134,
    "start_time": "2022-06-19T09:54:37.610Z"
   },
   {
    "duration": 27,
    "start_time": "2022-06-19T09:54:37.746Z"
   },
   {
    "duration": 5,
    "start_time": "2022-06-19T09:54:37.775Z"
   },
   {
    "duration": 9,
    "start_time": "2022-06-19T09:54:37.782Z"
   },
   {
    "duration": 17,
    "start_time": "2022-06-19T09:54:37.792Z"
   },
   {
    "duration": 4,
    "start_time": "2022-06-19T09:54:37.811Z"
   },
   {
    "duration": 282,
    "start_time": "2022-06-19T09:54:37.817Z"
   },
   {
    "duration": 22,
    "start_time": "2022-06-19T09:54:38.100Z"
   },
   {
    "duration": 18,
    "start_time": "2022-06-19T09:54:38.124Z"
   },
   {
    "duration": 31,
    "start_time": "2022-06-19T09:54:38.144Z"
   },
   {
    "duration": 6,
    "start_time": "2022-06-19T09:54:38.176Z"
   },
   {
    "duration": 19,
    "start_time": "2022-06-19T09:54:38.183Z"
   },
   {
    "duration": 88,
    "start_time": "2022-06-19T09:54:38.204Z"
   },
   {
    "duration": 17,
    "start_time": "2022-06-19T09:54:38.293Z"
   },
   {
    "duration": 19,
    "start_time": "2022-06-19T09:54:38.312Z"
   },
   {
    "duration": 55,
    "start_time": "2022-06-19T09:54:38.332Z"
   },
   {
    "duration": 6,
    "start_time": "2022-06-19T09:54:38.388Z"
   },
   {
    "duration": 25,
    "start_time": "2022-06-19T09:54:38.396Z"
   },
   {
    "duration": 6,
    "start_time": "2022-06-19T09:54:38.423Z"
   },
   {
    "duration": 91,
    "start_time": "2022-06-19T09:54:38.430Z"
   },
   {
    "duration": 78,
    "start_time": "2022-06-19T10:18:25.359Z"
   },
   {
    "duration": 180,
    "start_time": "2022-06-19T10:25:11.044Z"
   },
   {
    "duration": 82,
    "start_time": "2022-06-19T10:27:49.477Z"
   },
   {
    "duration": 81,
    "start_time": "2022-06-19T10:28:34.661Z"
   },
   {
    "duration": 232,
    "start_time": "2022-06-19T10:29:22.381Z"
   },
   {
    "duration": 227,
    "start_time": "2022-06-19T10:32:36.235Z"
   },
   {
    "duration": 50,
    "start_time": "2022-06-21T06:38:13.567Z"
   },
   {
    "duration": 1489,
    "start_time": "2022-06-21T06:38:20.563Z"
   },
   {
    "duration": 4,
    "start_time": "2022-06-21T06:38:22.054Z"
   },
   {
    "duration": 1628,
    "start_time": "2022-06-21T06:38:22.060Z"
   },
   {
    "duration": 14,
    "start_time": "2022-06-21T06:38:23.690Z"
   },
   {
    "duration": 41,
    "start_time": "2022-06-21T06:38:23.706Z"
   },
   {
    "duration": 32,
    "start_time": "2022-06-21T06:38:23.749Z"
   },
   {
    "duration": 43,
    "start_time": "2022-06-21T06:38:23.783Z"
   },
   {
    "duration": 6,
    "start_time": "2022-06-21T06:38:23.829Z"
   },
   {
    "duration": 34,
    "start_time": "2022-06-21T06:38:23.837Z"
   },
   {
    "duration": 91,
    "start_time": "2022-06-21T06:38:23.875Z"
   },
   {
    "duration": 160,
    "start_time": "2022-06-21T06:38:23.968Z"
   },
   {
    "duration": 22,
    "start_time": "2022-06-21T06:38:24.130Z"
   },
   {
    "duration": 14,
    "start_time": "2022-06-21T06:38:24.154Z"
   },
   {
    "duration": 16,
    "start_time": "2022-06-21T06:38:24.170Z"
   },
   {
    "duration": 42,
    "start_time": "2022-06-21T06:38:24.187Z"
   },
   {
    "duration": 6,
    "start_time": "2022-06-21T06:38:24.232Z"
   },
   {
    "duration": 320,
    "start_time": "2022-06-21T06:38:24.239Z"
   },
   {
    "duration": 23,
    "start_time": "2022-06-21T06:38:24.560Z"
   },
   {
    "duration": 21,
    "start_time": "2022-06-21T06:38:24.584Z"
   },
   {
    "duration": 31,
    "start_time": "2022-06-21T06:38:24.607Z"
   },
   {
    "duration": 7,
    "start_time": "2022-06-21T06:38:24.640Z"
   },
   {
    "duration": 23,
    "start_time": "2022-06-21T06:38:24.649Z"
   },
   {
    "duration": 110,
    "start_time": "2022-06-21T06:38:24.675Z"
   },
   {
    "duration": 21,
    "start_time": "2022-06-21T06:38:24.789Z"
   },
   {
    "duration": 36,
    "start_time": "2022-06-21T06:38:24.811Z"
   },
   {
    "duration": 39,
    "start_time": "2022-06-21T06:38:24.849Z"
   },
   {
    "duration": 35,
    "start_time": "2022-06-21T06:38:24.890Z"
   },
   {
    "duration": 30,
    "start_time": "2022-06-21T06:38:24.929Z"
   },
   {
    "duration": 8,
    "start_time": "2022-06-21T06:38:24.960Z"
   },
   {
    "duration": 197,
    "start_time": "2022-06-21T06:38:24.969Z"
   },
   {
    "duration": 86,
    "start_time": "2022-06-21T06:38:45.336Z"
   },
   {
    "duration": 90,
    "start_time": "2022-06-21T06:39:02.110Z"
   },
   {
    "duration": 92,
    "start_time": "2022-06-21T06:39:38.532Z"
   },
   {
    "duration": 86,
    "start_time": "2022-06-21T06:40:30.843Z"
   },
   {
    "duration": 96,
    "start_time": "2022-06-21T06:42:07.435Z"
   },
   {
    "duration": 90,
    "start_time": "2022-06-21T06:42:39.613Z"
   },
   {
    "duration": 85,
    "start_time": "2022-06-21T06:43:00.685Z"
   },
   {
    "duration": 110,
    "start_time": "2022-06-21T06:43:54.047Z"
   },
   {
    "duration": 105,
    "start_time": "2022-06-21T06:44:17.588Z"
   },
   {
    "duration": 1295,
    "start_time": "2022-06-21T06:46:09.378Z"
   },
   {
    "duration": 1273,
    "start_time": "2022-06-21T06:47:02.882Z"
   },
   {
    "duration": 124,
    "start_time": "2022-06-21T06:47:21.734Z"
   },
   {
    "duration": 71,
    "start_time": "2022-06-21T06:47:31.798Z"
   },
   {
    "duration": 83,
    "start_time": "2022-06-21T06:47:42.429Z"
   },
   {
    "duration": 1608,
    "start_time": "2022-06-21T06:48:00.802Z"
   },
   {
    "duration": 1340,
    "start_time": "2022-06-21T06:49:05.631Z"
   },
   {
    "duration": 104,
    "start_time": "2022-06-21T06:49:24.034Z"
   },
   {
    "duration": 1339,
    "start_time": "2022-06-21T06:49:39.409Z"
   },
   {
    "duration": 1320,
    "start_time": "2022-06-21T06:49:52.798Z"
   },
   {
    "duration": 126,
    "start_time": "2022-06-21T06:50:00.325Z"
   },
   {
    "duration": 107,
    "start_time": "2022-06-21T06:51:16.977Z"
   },
   {
    "duration": 117,
    "start_time": "2022-06-21T06:51:26.454Z"
   },
   {
    "duration": 8,
    "start_time": "2022-06-21T06:56:24.055Z"
   },
   {
    "duration": 20,
    "start_time": "2022-06-21T06:56:39.253Z"
   },
   {
    "duration": 61,
    "start_time": "2022-06-21T06:57:06.906Z"
   },
   {
    "duration": 56,
    "start_time": "2022-06-21T06:57:14.373Z"
   },
   {
    "duration": 109,
    "start_time": "2022-06-21T06:58:07.821Z"
   },
   {
    "duration": 92,
    "start_time": "2022-06-21T06:58:35.707Z"
   },
   {
    "duration": 1318,
    "start_time": "2022-06-21T06:59:51.600Z"
   },
   {
    "duration": 1345,
    "start_time": "2022-06-21T07:00:26.285Z"
   },
   {
    "duration": 945,
    "start_time": "2022-06-21T07:02:02.948Z"
   },
   {
    "duration": 1414,
    "start_time": "2022-06-21T07:02:47.006Z"
   },
   {
    "duration": 101,
    "start_time": "2022-06-21T07:03:12.588Z"
   },
   {
    "duration": 748,
    "start_time": "2022-06-21T07:03:45.601Z"
   },
   {
    "duration": 1345,
    "start_time": "2022-06-21T07:04:05.515Z"
   },
   {
    "duration": 1172,
    "start_time": "2022-06-21T07:06:09.998Z"
   },
   {
    "duration": 1265,
    "start_time": "2022-06-21T07:10:17.701Z"
   },
   {
    "duration": 3,
    "start_time": "2022-06-21T07:10:18.968Z"
   },
   {
    "duration": 1293,
    "start_time": "2022-06-21T07:10:18.972Z"
   },
   {
    "duration": 12,
    "start_time": "2022-06-21T07:10:20.267Z"
   },
   {
    "duration": 113,
    "start_time": "2022-06-21T07:10:20.280Z"
   },
   {
    "duration": 49,
    "start_time": "2022-06-21T07:10:20.394Z"
   },
   {
    "duration": 51,
    "start_time": "2022-06-21T07:10:20.445Z"
   },
   {
    "duration": 29,
    "start_time": "2022-06-21T07:10:20.497Z"
   },
   {
    "duration": 46,
    "start_time": "2022-06-21T07:10:20.528Z"
   },
   {
    "duration": 107,
    "start_time": "2022-06-21T07:10:20.579Z"
   },
   {
    "duration": 149,
    "start_time": "2022-06-21T07:10:20.688Z"
   },
   {
    "duration": 19,
    "start_time": "2022-06-21T07:10:20.839Z"
   },
   {
    "duration": 15,
    "start_time": "2022-06-21T07:10:20.859Z"
   },
   {
    "duration": 22,
    "start_time": "2022-06-21T07:10:20.876Z"
   },
   {
    "duration": 32,
    "start_time": "2022-06-21T07:10:20.900Z"
   },
   {
    "duration": 13,
    "start_time": "2022-06-21T07:10:20.933Z"
   },
   {
    "duration": 272,
    "start_time": "2022-06-21T07:10:20.947Z"
   },
   {
    "duration": 23,
    "start_time": "2022-06-21T07:10:21.221Z"
   },
   {
    "duration": 19,
    "start_time": "2022-06-21T07:10:21.246Z"
   },
   {
    "duration": 15,
    "start_time": "2022-06-21T07:10:21.266Z"
   },
   {
    "duration": 7,
    "start_time": "2022-06-21T07:10:21.282Z"
   },
   {
    "duration": 49,
    "start_time": "2022-06-21T07:10:21.291Z"
   },
   {
    "duration": 74,
    "start_time": "2022-06-21T07:10:21.342Z"
   },
   {
    "duration": 17,
    "start_time": "2022-06-21T07:10:21.426Z"
   },
   {
    "duration": 21,
    "start_time": "2022-06-21T07:10:21.445Z"
   },
   {
    "duration": 78,
    "start_time": "2022-06-21T07:10:21.468Z"
   },
   {
    "duration": 1341,
    "start_time": "2022-06-21T07:10:21.548Z"
   },
   {
    "duration": 0,
    "start_time": "2022-06-21T07:10:22.891Z"
   },
   {
    "duration": 0,
    "start_time": "2022-06-21T07:10:22.892Z"
   },
   {
    "duration": 0,
    "start_time": "2022-06-21T07:10:22.893Z"
   },
   {
    "duration": 0,
    "start_time": "2022-06-21T07:10:22.895Z"
   },
   {
    "duration": 3,
    "start_time": "2022-06-21T07:11:09.617Z"
   },
   {
    "duration": 30,
    "start_time": "2022-06-21T07:11:15.030Z"
   },
   {
    "duration": 7,
    "start_time": "2022-06-21T07:11:15.714Z"
   },
   {
    "duration": 99,
    "start_time": "2022-06-21T07:11:18.770Z"
   },
   {
    "duration": 1187,
    "start_time": "2022-06-21T07:11:20.180Z"
   },
   {
    "duration": 36,
    "start_time": "2022-06-21T07:12:53.262Z"
   },
   {
    "duration": 1318,
    "start_time": "2022-06-21T07:13:15.063Z"
   },
   {
    "duration": 2,
    "start_time": "2022-06-21T07:13:16.383Z"
   },
   {
    "duration": 1406,
    "start_time": "2022-06-21T07:13:16.387Z"
   },
   {
    "duration": 15,
    "start_time": "2022-06-21T07:13:17.795Z"
   },
   {
    "duration": 21,
    "start_time": "2022-06-21T07:13:17.825Z"
   },
   {
    "duration": 19,
    "start_time": "2022-06-21T07:13:17.847Z"
   },
   {
    "duration": 19,
    "start_time": "2022-06-21T07:13:17.867Z"
   },
   {
    "duration": 5,
    "start_time": "2022-06-21T07:13:17.888Z"
   },
   {
    "duration": 50,
    "start_time": "2022-06-21T07:13:17.894Z"
   },
   {
    "duration": 60,
    "start_time": "2022-06-21T07:13:17.946Z"
   },
   {
    "duration": 144,
    "start_time": "2022-06-21T07:13:18.024Z"
   },
   {
    "duration": 20,
    "start_time": "2022-06-21T07:13:18.170Z"
   },
   {
    "duration": 8,
    "start_time": "2022-06-21T07:13:18.192Z"
   },
   {
    "duration": 26,
    "start_time": "2022-06-21T07:13:18.203Z"
   },
   {
    "duration": 16,
    "start_time": "2022-06-21T07:13:18.231Z"
   },
   {
    "duration": 5,
    "start_time": "2022-06-21T07:13:18.249Z"
   },
   {
    "duration": 296,
    "start_time": "2022-06-21T07:13:18.256Z"
   },
   {
    "duration": 21,
    "start_time": "2022-06-21T07:13:18.555Z"
   },
   {
    "duration": 18,
    "start_time": "2022-06-21T07:13:18.578Z"
   },
   {
    "duration": 38,
    "start_time": "2022-06-21T07:13:18.598Z"
   },
   {
    "duration": 7,
    "start_time": "2022-06-21T07:13:18.638Z"
   },
   {
    "duration": 18,
    "start_time": "2022-06-21T07:13:18.647Z"
   },
   {
    "duration": 97,
    "start_time": "2022-06-21T07:13:18.667Z"
   },
   {
    "duration": 29,
    "start_time": "2022-06-21T07:13:18.766Z"
   },
   {
    "duration": 35,
    "start_time": "2022-06-21T07:13:18.797Z"
   },
   {
    "duration": 42,
    "start_time": "2022-06-21T07:13:18.834Z"
   },
   {
    "duration": 73,
    "start_time": "2022-06-21T07:13:18.878Z"
   },
   {
    "duration": 1009,
    "start_time": "2022-06-21T07:13:18.952Z"
   },
   {
    "duration": 0,
    "start_time": "2022-06-21T07:13:19.963Z"
   },
   {
    "duration": 0,
    "start_time": "2022-06-21T07:13:19.964Z"
   },
   {
    "duration": 0,
    "start_time": "2022-06-21T07:13:19.965Z"
   },
   {
    "duration": 0,
    "start_time": "2022-06-21T07:13:19.966Z"
   },
   {
    "duration": 36,
    "start_time": "2022-06-21T07:13:48.377Z"
   },
   {
    "duration": 54,
    "start_time": "2022-06-21T07:13:50.068Z"
   },
   {
    "duration": 1309,
    "start_time": "2022-06-21T07:14:10.353Z"
   },
   {
    "duration": 2,
    "start_time": "2022-06-21T07:14:11.664Z"
   },
   {
    "duration": 1268,
    "start_time": "2022-06-21T07:14:11.668Z"
   },
   {
    "duration": 12,
    "start_time": "2022-06-21T07:14:12.938Z"
   },
   {
    "duration": 22,
    "start_time": "2022-06-21T07:14:12.952Z"
   },
   {
    "duration": 17,
    "start_time": "2022-06-21T07:14:12.976Z"
   },
   {
    "duration": 43,
    "start_time": "2022-06-21T07:14:12.995Z"
   },
   {
    "duration": 28,
    "start_time": "2022-06-21T07:14:13.039Z"
   },
   {
    "duration": 51,
    "start_time": "2022-06-21T07:14:13.069Z"
   },
   {
    "duration": 78,
    "start_time": "2022-06-21T07:14:13.123Z"
   },
   {
    "duration": 138,
    "start_time": "2022-06-21T07:14:13.202Z"
   },
   {
    "duration": 20,
    "start_time": "2022-06-21T07:14:13.342Z"
   },
   {
    "duration": 22,
    "start_time": "2022-06-21T07:14:13.364Z"
   },
   {
    "duration": 13,
    "start_time": "2022-06-21T07:14:13.390Z"
   },
   {
    "duration": 34,
    "start_time": "2022-06-21T07:14:13.405Z"
   },
   {
    "duration": 4,
    "start_time": "2022-06-21T07:14:13.441Z"
   },
   {
    "duration": 305,
    "start_time": "2022-06-21T07:14:13.447Z"
   },
   {
    "duration": 23,
    "start_time": "2022-06-21T07:14:13.755Z"
   },
   {
    "duration": 52,
    "start_time": "2022-06-21T07:14:13.779Z"
   },
   {
    "duration": 14,
    "start_time": "2022-06-21T07:14:13.834Z"
   },
   {
    "duration": 34,
    "start_time": "2022-06-21T07:14:13.850Z"
   },
   {
    "duration": 60,
    "start_time": "2022-06-21T07:14:13.886Z"
   },
   {
    "duration": 111,
    "start_time": "2022-06-21T07:14:13.948Z"
   },
   {
    "duration": 22,
    "start_time": "2022-06-21T07:14:14.062Z"
   },
   {
    "duration": 59,
    "start_time": "2022-06-21T07:14:14.087Z"
   },
   {
    "duration": 52,
    "start_time": "2022-06-21T07:14:14.148Z"
   },
   {
    "duration": 65,
    "start_time": "2022-06-21T07:14:14.202Z"
   },
   {
    "duration": 1233,
    "start_time": "2022-06-21T07:14:14.270Z"
   },
   {
    "duration": 0,
    "start_time": "2022-06-21T07:14:15.505Z"
   },
   {
    "duration": 0,
    "start_time": "2022-06-21T07:14:15.506Z"
   },
   {
    "duration": 0,
    "start_time": "2022-06-21T07:14:15.507Z"
   },
   {
    "duration": 0,
    "start_time": "2022-06-21T07:14:15.508Z"
   },
   {
    "duration": 1206,
    "start_time": "2022-06-21T07:22:46.500Z"
   },
   {
    "duration": 1343,
    "start_time": "2022-06-21T07:23:03.658Z"
   },
   {
    "duration": 3,
    "start_time": "2022-06-21T07:23:05.003Z"
   },
   {
    "duration": 1315,
    "start_time": "2022-06-21T07:23:05.008Z"
   },
   {
    "duration": 13,
    "start_time": "2022-06-21T07:23:06.327Z"
   },
   {
    "duration": 44,
    "start_time": "2022-06-21T07:23:06.342Z"
   },
   {
    "duration": 54,
    "start_time": "2022-06-21T07:23:06.388Z"
   },
   {
    "duration": 38,
    "start_time": "2022-06-21T07:23:06.444Z"
   },
   {
    "duration": 29,
    "start_time": "2022-06-21T07:23:06.484Z"
   },
   {
    "duration": 130,
    "start_time": "2022-06-21T07:23:06.515Z"
   },
   {
    "duration": 132,
    "start_time": "2022-06-21T07:23:06.649Z"
   },
   {
    "duration": 149,
    "start_time": "2022-06-21T07:23:06.784Z"
   },
   {
    "duration": 22,
    "start_time": "2022-06-21T07:23:06.935Z"
   },
   {
    "duration": 12,
    "start_time": "2022-06-21T07:23:06.959Z"
   },
   {
    "duration": 37,
    "start_time": "2022-06-21T07:23:06.972Z"
   },
   {
    "duration": 30,
    "start_time": "2022-06-21T07:23:07.011Z"
   },
   {
    "duration": 9,
    "start_time": "2022-06-21T07:23:07.043Z"
   },
   {
    "duration": 320,
    "start_time": "2022-06-21T07:23:07.054Z"
   },
   {
    "duration": 28,
    "start_time": "2022-06-21T07:23:07.376Z"
   },
   {
    "duration": 46,
    "start_time": "2022-06-21T07:23:07.406Z"
   },
   {
    "duration": 16,
    "start_time": "2022-06-21T07:23:07.454Z"
   },
   {
    "duration": 18,
    "start_time": "2022-06-21T07:23:07.472Z"
   },
   {
    "duration": 43,
    "start_time": "2022-06-21T07:23:07.492Z"
   },
   {
    "duration": 95,
    "start_time": "2022-06-21T07:23:07.537Z"
   },
   {
    "duration": 20,
    "start_time": "2022-06-21T07:23:07.633Z"
   },
   {
    "duration": 23,
    "start_time": "2022-06-21T07:23:07.655Z"
   },
   {
    "duration": 1038,
    "start_time": "2022-06-21T07:23:07.680Z"
   },
   {
    "duration": 0,
    "start_time": "2022-06-21T07:23:08.720Z"
   },
   {
    "duration": 0,
    "start_time": "2022-06-21T07:23:08.722Z"
   },
   {
    "duration": 0,
    "start_time": "2022-06-21T07:23:08.723Z"
   },
   {
    "duration": 0,
    "start_time": "2022-06-21T07:23:08.724Z"
   },
   {
    "duration": 0,
    "start_time": "2022-06-21T07:23:08.725Z"
   },
   {
    "duration": 0,
    "start_time": "2022-06-21T07:23:08.727Z"
   },
   {
    "duration": 947,
    "start_time": "2022-06-21T07:23:54.192Z"
   },
   {
    "duration": 33,
    "start_time": "2022-06-21T07:24:13.504Z"
   },
   {
    "duration": 1039,
    "start_time": "2022-06-21T07:24:53.736Z"
   },
   {
    "duration": 54,
    "start_time": "2022-06-21T07:25:13.240Z"
   },
   {
    "duration": 58,
    "start_time": "2022-06-21T07:25:22.206Z"
   },
   {
    "duration": 1568,
    "start_time": "2022-06-21T07:25:26.526Z"
   },
   {
    "duration": 40,
    "start_time": "2022-06-21T07:26:01.887Z"
   },
   {
    "duration": 58,
    "start_time": "2022-06-21T07:26:03.658Z"
   },
   {
    "duration": 43,
    "start_time": "2022-06-21T07:26:43.710Z"
   },
   {
    "duration": 10,
    "start_time": "2022-06-21T07:26:47.137Z"
   },
   {
    "duration": 106,
    "start_time": "2022-06-21T07:26:49.577Z"
   },
   {
    "duration": 1770,
    "start_time": "2022-06-21T07:30:59.975Z"
   },
   {
    "duration": 21,
    "start_time": "2022-06-21T07:31:18.640Z"
   },
   {
    "duration": 30,
    "start_time": "2022-06-21T07:32:19.076Z"
   },
   {
    "duration": 100,
    "start_time": "2022-06-21T07:33:30.099Z"
   },
   {
    "duration": 23,
    "start_time": "2022-06-21T07:33:32.100Z"
   },
   {
    "duration": 10,
    "start_time": "2022-06-21T08:42:38.490Z"
   },
   {
    "duration": 5,
    "start_time": "2022-06-21T08:42:43.744Z"
   },
   {
    "duration": 1321,
    "start_time": "2022-06-21T08:42:44.360Z"
   },
   {
    "duration": 14,
    "start_time": "2022-06-21T08:43:04.716Z"
   },
   {
    "duration": 6,
    "start_time": "2022-06-21T08:43:49.522Z"
   },
   {
    "duration": 19,
    "start_time": "2022-06-21T08:43:50.769Z"
   },
   {
    "duration": 4,
    "start_time": "2022-06-21T08:44:42.860Z"
   },
   {
    "duration": 5,
    "start_time": "2022-06-21T08:44:48.689Z"
   },
   {
    "duration": 1280,
    "start_time": "2022-06-21T08:44:49.041Z"
   },
   {
    "duration": 5,
    "start_time": "2022-06-21T08:45:13.415Z"
   },
   {
    "duration": 9,
    "start_time": "2022-06-21T08:45:13.767Z"
   },
   {
    "duration": 19,
    "start_time": "2022-06-21T09:14:24.079Z"
   },
   {
    "duration": 18,
    "start_time": "2022-06-21T09:14:43.741Z"
   },
   {
    "duration": 18,
    "start_time": "2022-06-21T09:15:01.719Z"
   },
   {
    "duration": 78,
    "start_time": "2022-06-21T09:43:18.190Z"
   },
   {
    "duration": 5,
    "start_time": "2022-06-21T09:43:53.764Z"
   },
   {
    "duration": 21,
    "start_time": "2022-06-21T09:43:54.840Z"
   },
   {
    "duration": 9,
    "start_time": "2022-06-21T09:44:31.982Z"
   },
   {
    "duration": 12,
    "start_time": "2022-06-21T09:44:32.600Z"
   },
   {
    "duration": 14,
    "start_time": "2022-06-21T09:45:06.991Z"
   },
   {
    "duration": 16,
    "start_time": "2022-06-21T09:45:08.197Z"
   },
   {
    "duration": 5,
    "start_time": "2022-06-21T09:51:40.014Z"
   },
   {
    "duration": 16,
    "start_time": "2022-06-21T09:51:40.982Z"
   },
   {
    "duration": 4,
    "start_time": "2022-06-21T09:51:56.184Z"
   },
   {
    "duration": 14,
    "start_time": "2022-06-21T09:51:56.747Z"
   },
   {
    "duration": 4,
    "start_time": "2022-06-21T09:53:57.139Z"
   },
   {
    "duration": 17,
    "start_time": "2022-06-21T09:53:57.658Z"
   },
   {
    "duration": 7,
    "start_time": "2022-06-21T09:54:26.697Z"
   },
   {
    "duration": 10,
    "start_time": "2022-06-21T09:54:27.080Z"
   },
   {
    "duration": 10,
    "start_time": "2022-06-21T09:54:40.998Z"
   },
   {
    "duration": 1251,
    "start_time": "2022-06-21T09:57:25.174Z"
   },
   {
    "duration": 3,
    "start_time": "2022-06-21T09:57:26.427Z"
   },
   {
    "duration": 1361,
    "start_time": "2022-06-21T09:57:26.432Z"
   },
   {
    "duration": 12,
    "start_time": "2022-06-21T09:57:27.794Z"
   },
   {
    "duration": 26,
    "start_time": "2022-06-21T09:57:27.809Z"
   },
   {
    "duration": 20,
    "start_time": "2022-06-21T09:57:27.836Z"
   },
   {
    "duration": 20,
    "start_time": "2022-06-21T09:57:27.857Z"
   },
   {
    "duration": 9,
    "start_time": "2022-06-21T09:57:27.878Z"
   },
   {
    "duration": 43,
    "start_time": "2022-06-21T09:57:27.889Z"
   },
   {
    "duration": 92,
    "start_time": "2022-06-21T09:57:27.934Z"
   },
   {
    "duration": 161,
    "start_time": "2022-06-21T09:57:28.028Z"
   },
   {
    "duration": 20,
    "start_time": "2022-06-21T09:57:28.191Z"
   },
   {
    "duration": 16,
    "start_time": "2022-06-21T09:57:28.213Z"
   },
   {
    "duration": 13,
    "start_time": "2022-06-21T09:57:28.232Z"
   },
   {
    "duration": 31,
    "start_time": "2022-06-21T09:57:28.246Z"
   },
   {
    "duration": 7,
    "start_time": "2022-06-21T09:57:28.278Z"
   },
   {
    "duration": 298,
    "start_time": "2022-06-21T09:57:28.286Z"
   },
   {
    "duration": 23,
    "start_time": "2022-06-21T09:57:28.586Z"
   },
   {
    "duration": 20,
    "start_time": "2022-06-21T09:57:28.626Z"
   },
   {
    "duration": 12,
    "start_time": "2022-06-21T09:57:28.648Z"
   },
   {
    "duration": 7,
    "start_time": "2022-06-21T09:57:28.662Z"
   },
   {
    "duration": 19,
    "start_time": "2022-06-21T09:57:28.671Z"
   },
   {
    "duration": 112,
    "start_time": "2022-06-21T09:57:28.692Z"
   },
   {
    "duration": 39,
    "start_time": "2022-06-21T09:57:28.806Z"
   },
   {
    "duration": 22,
    "start_time": "2022-06-21T09:57:28.847Z"
   },
   {
    "duration": 56,
    "start_time": "2022-06-21T09:57:28.871Z"
   },
   {
    "duration": 52,
    "start_time": "2022-06-21T09:57:28.928Z"
   },
   {
    "duration": 27,
    "start_time": "2022-06-21T09:57:28.981Z"
   },
   {
    "duration": 7,
    "start_time": "2022-06-21T09:57:29.025Z"
   },
   {
    "duration": 87,
    "start_time": "2022-06-21T09:57:29.034Z"
   },
   {
    "duration": 22,
    "start_time": "2022-06-21T09:57:29.124Z"
   },
   {
    "duration": 16,
    "start_time": "2022-06-21T09:57:29.148Z"
   },
   {
    "duration": 26,
    "start_time": "2022-06-21T09:57:29.166Z"
   },
   {
    "duration": 7066,
    "start_time": "2022-06-21T10:20:03.273Z"
   },
   {
    "duration": 1396,
    "start_time": "2022-06-21T10:20:15.419Z"
   },
   {
    "duration": 2,
    "start_time": "2022-06-21T10:20:16.817Z"
   },
   {
    "duration": 1301,
    "start_time": "2022-06-21T10:20:16.821Z"
   },
   {
    "duration": 13,
    "start_time": "2022-06-21T10:20:18.125Z"
   },
   {
    "duration": 20,
    "start_time": "2022-06-21T10:20:18.140Z"
   },
   {
    "duration": 17,
    "start_time": "2022-06-21T10:20:18.161Z"
   },
   {
    "duration": 46,
    "start_time": "2022-06-21T10:20:18.179Z"
   },
   {
    "duration": 5,
    "start_time": "2022-06-21T10:20:18.227Z"
   },
   {
    "duration": 21,
    "start_time": "2022-06-21T10:20:18.233Z"
   },
   {
    "duration": 81,
    "start_time": "2022-06-21T10:20:18.256Z"
   },
   {
    "duration": 136,
    "start_time": "2022-06-21T10:20:18.339Z"
   },
   {
    "duration": 18,
    "start_time": "2022-06-21T10:20:18.477Z"
   },
   {
    "duration": 6,
    "start_time": "2022-06-21T10:20:18.497Z"
   },
   {
    "duration": 26,
    "start_time": "2022-06-21T10:20:18.505Z"
   },
   {
    "duration": 17,
    "start_time": "2022-06-21T10:20:18.532Z"
   },
   {
    "duration": 5,
    "start_time": "2022-06-21T10:20:18.551Z"
   },
   {
    "duration": 312,
    "start_time": "2022-06-21T10:20:18.557Z"
   },
   {
    "duration": 21,
    "start_time": "2022-06-21T10:20:18.871Z"
   },
   {
    "duration": 34,
    "start_time": "2022-06-21T10:20:18.893Z"
   },
   {
    "duration": 12,
    "start_time": "2022-06-21T10:20:18.929Z"
   },
   {
    "duration": 5,
    "start_time": "2022-06-21T10:20:18.943Z"
   },
   {
    "duration": 18,
    "start_time": "2022-06-21T10:20:18.950Z"
   },
   {
    "duration": 95,
    "start_time": "2022-06-21T10:20:18.969Z"
   },
   {
    "duration": 19,
    "start_time": "2022-06-21T10:20:19.066Z"
   },
   {
    "duration": 20,
    "start_time": "2022-06-21T10:20:19.086Z"
   },
   {
    "duration": 40,
    "start_time": "2022-06-21T10:20:19.125Z"
   },
   {
    "duration": 68,
    "start_time": "2022-06-21T10:20:19.167Z"
   },
   {
    "duration": 26,
    "start_time": "2022-06-21T10:20:19.236Z"
   },
   {
    "duration": 7,
    "start_time": "2022-06-21T10:20:19.264Z"
   },
   {
    "duration": 93,
    "start_time": "2022-06-21T10:20:19.273Z"
   },
   {
    "duration": 21,
    "start_time": "2022-06-21T10:20:19.368Z"
   },
   {
    "duration": 14,
    "start_time": "2022-06-21T10:20:19.391Z"
   },
   {
    "duration": 23,
    "start_time": "2022-06-21T10:20:19.407Z"
   },
   {
    "duration": 2002,
    "start_time": "2022-06-21T10:20:19.432Z"
   },
   {
    "duration": 8,
    "start_time": "2022-06-21T10:20:38.308Z"
   },
   {
    "duration": 9,
    "start_time": "2022-06-21T10:20:58.196Z"
   },
   {
    "duration": 10,
    "start_time": "2022-06-21T10:21:27.881Z"
   },
   {
    "duration": 10,
    "start_time": "2022-06-21T10:22:30.057Z"
   },
   {
    "duration": 11,
    "start_time": "2022-06-21T10:37:30.988Z"
   },
   {
    "duration": 14,
    "start_time": "2022-06-21T10:37:32.227Z"
   },
   {
    "duration": 14,
    "start_time": "2022-06-21T10:37:39.670Z"
   },
   {
    "duration": 11,
    "start_time": "2022-06-21T10:37:43.773Z"
   },
   {
    "duration": 10,
    "start_time": "2022-06-21T11:41:21.287Z"
   },
   {
    "duration": 36,
    "start_time": "2022-06-21T11:42:02.521Z"
   },
   {
    "duration": 40,
    "start_time": "2022-06-21T11:42:23.429Z"
   },
   {
    "duration": 42,
    "start_time": "2022-06-21T11:42:33.336Z"
   },
   {
    "duration": 234,
    "start_time": "2022-06-21T11:44:17.510Z"
   },
   {
    "duration": 1331,
    "start_time": "2022-06-21T11:44:36.228Z"
   },
   {
    "duration": 2,
    "start_time": "2022-06-21T11:44:37.561Z"
   },
   {
    "duration": 1293,
    "start_time": "2022-06-21T11:44:37.564Z"
   },
   {
    "duration": 13,
    "start_time": "2022-06-21T11:44:38.859Z"
   },
   {
    "duration": 25,
    "start_time": "2022-06-21T11:44:38.874Z"
   },
   {
    "duration": 34,
    "start_time": "2022-06-21T11:44:38.900Z"
   },
   {
    "duration": 17,
    "start_time": "2022-06-21T11:44:38.936Z"
   },
   {
    "duration": 13,
    "start_time": "2022-06-21T11:44:38.955Z"
   },
   {
    "duration": 22,
    "start_time": "2022-06-21T11:44:38.970Z"
   },
   {
    "duration": 77,
    "start_time": "2022-06-21T11:44:38.994Z"
   },
   {
    "duration": 135,
    "start_time": "2022-06-21T11:44:39.073Z"
   },
   {
    "duration": 23,
    "start_time": "2022-06-21T11:44:39.209Z"
   },
   {
    "duration": 7,
    "start_time": "2022-06-21T11:44:39.233Z"
   },
   {
    "duration": 22,
    "start_time": "2022-06-21T11:44:39.242Z"
   },
   {
    "duration": 20,
    "start_time": "2022-06-21T11:44:39.266Z"
   },
   {
    "duration": 5,
    "start_time": "2022-06-21T11:44:39.288Z"
   },
   {
    "duration": 273,
    "start_time": "2022-06-21T11:44:39.294Z"
   },
   {
    "duration": 20,
    "start_time": "2022-06-21T11:44:39.569Z"
   },
   {
    "duration": 34,
    "start_time": "2022-06-21T11:44:39.591Z"
   },
   {
    "duration": 13,
    "start_time": "2022-06-21T11:44:39.627Z"
   },
   {
    "duration": 6,
    "start_time": "2022-06-21T11:44:39.641Z"
   },
   {
    "duration": 20,
    "start_time": "2022-06-21T11:44:39.649Z"
   },
   {
    "duration": 95,
    "start_time": "2022-06-21T11:44:39.671Z"
   },
   {
    "duration": 219,
    "start_time": "2022-06-21T11:44:39.768Z"
   },
   {
    "duration": 21,
    "start_time": "2022-06-21T11:44:39.989Z"
   },
   {
    "duration": 24,
    "start_time": "2022-06-21T11:44:40.013Z"
   },
   {
    "duration": 38,
    "start_time": "2022-06-21T11:44:40.038Z"
   },
   {
    "duration": 75,
    "start_time": "2022-06-21T11:44:40.079Z"
   },
   {
    "duration": 27,
    "start_time": "2022-06-21T11:44:40.156Z"
   },
   {
    "duration": 7,
    "start_time": "2022-06-21T11:44:40.185Z"
   },
   {
    "duration": 95,
    "start_time": "2022-06-21T11:44:40.194Z"
   },
   {
    "duration": 24,
    "start_time": "2022-06-21T11:44:40.291Z"
   },
   {
    "duration": 6,
    "start_time": "2022-06-21T11:44:40.326Z"
   },
   {
    "duration": 14,
    "start_time": "2022-06-21T11:44:40.334Z"
   },
   {
    "duration": 8,
    "start_time": "2022-06-21T11:44:40.350Z"
   },
   {
    "duration": 20,
    "start_time": "2022-06-21T11:44:40.359Z"
   },
   {
    "duration": 16,
    "start_time": "2022-06-21T11:44:40.380Z"
   },
   {
    "duration": 26,
    "start_time": "2022-06-21T11:44:40.399Z"
   },
   {
    "duration": 1319,
    "start_time": "2022-06-21T12:02:35.090Z"
   },
   {
    "duration": 3,
    "start_time": "2022-06-21T12:02:36.411Z"
   },
   {
    "duration": 1403,
    "start_time": "2022-06-21T12:02:36.415Z"
   },
   {
    "duration": 13,
    "start_time": "2022-06-21T12:02:37.819Z"
   },
   {
    "duration": 22,
    "start_time": "2022-06-21T12:02:37.834Z"
   },
   {
    "duration": 19,
    "start_time": "2022-06-21T12:02:37.857Z"
   },
   {
    "duration": 55,
    "start_time": "2022-06-21T12:02:37.877Z"
   },
   {
    "duration": 6,
    "start_time": "2022-06-21T12:02:37.934Z"
   },
   {
    "duration": 29,
    "start_time": "2022-06-21T12:02:37.942Z"
   },
   {
    "duration": 93,
    "start_time": "2022-06-21T12:02:37.972Z"
   },
   {
    "duration": 149,
    "start_time": "2022-06-21T12:02:38.067Z"
   },
   {
    "duration": 24,
    "start_time": "2022-06-21T12:02:38.218Z"
   },
   {
    "duration": 6,
    "start_time": "2022-06-21T12:02:38.244Z"
   },
   {
    "duration": 9,
    "start_time": "2022-06-21T12:02:38.253Z"
   },
   {
    "duration": 17,
    "start_time": "2022-06-21T12:02:38.263Z"
   },
   {
    "duration": 5,
    "start_time": "2022-06-21T12:02:38.281Z"
   },
   {
    "duration": 332,
    "start_time": "2022-06-21T12:02:38.287Z"
   },
   {
    "duration": 24,
    "start_time": "2022-06-21T12:02:38.625Z"
   },
   {
    "duration": 19,
    "start_time": "2022-06-21T12:02:38.651Z"
   },
   {
    "duration": 14,
    "start_time": "2022-06-21T12:02:38.672Z"
   },
   {
    "duration": 38,
    "start_time": "2022-06-21T12:02:38.687Z"
   },
   {
    "duration": 24,
    "start_time": "2022-06-21T12:02:38.727Z"
   },
   {
    "duration": 97,
    "start_time": "2022-06-21T12:02:38.754Z"
   },
   {
    "duration": 239,
    "start_time": "2022-06-21T12:02:38.853Z"
   },
   {
    "duration": 34,
    "start_time": "2022-06-21T12:02:39.095Z"
   },
   {
    "duration": 15,
    "start_time": "2022-06-21T12:02:39.131Z"
   },
   {
    "duration": 40,
    "start_time": "2022-06-21T12:02:39.148Z"
   },
   {
    "duration": 73,
    "start_time": "2022-06-21T12:02:39.190Z"
   },
   {
    "duration": 29,
    "start_time": "2022-06-21T12:02:39.264Z"
   },
   {
    "duration": 6,
    "start_time": "2022-06-21T12:02:39.295Z"
   },
   {
    "duration": 97,
    "start_time": "2022-06-21T12:02:39.303Z"
   },
   {
    "duration": 40,
    "start_time": "2022-06-21T12:02:39.402Z"
   },
   {
    "duration": 6,
    "start_time": "2022-06-21T12:02:39.443Z"
   },
   {
    "duration": 14,
    "start_time": "2022-06-21T12:02:39.450Z"
   },
   {
    "duration": 6,
    "start_time": "2022-06-21T12:02:39.466Z"
   },
   {
    "duration": 14,
    "start_time": "2022-06-21T12:02:39.473Z"
   },
   {
    "duration": 36,
    "start_time": "2022-06-21T12:02:39.489Z"
   },
   {
    "duration": 13,
    "start_time": "2022-06-21T12:02:39.527Z"
   },
   {
    "duration": 1421,
    "start_time": "2022-06-21T12:03:50.894Z"
   },
   {
    "duration": 3,
    "start_time": "2022-06-21T12:03:52.317Z"
   },
   {
    "duration": 1415,
    "start_time": "2022-06-21T12:03:52.322Z"
   },
   {
    "duration": 13,
    "start_time": "2022-06-21T12:03:53.739Z"
   },
   {
    "duration": 142,
    "start_time": "2022-06-21T12:03:53.754Z"
   },
   {
    "duration": 89,
    "start_time": "2022-06-21T12:03:53.897Z"
   },
   {
    "duration": 71,
    "start_time": "2022-06-21T12:03:53.988Z"
   },
   {
    "duration": 26,
    "start_time": "2022-06-21T12:03:54.061Z"
   },
   {
    "duration": 64,
    "start_time": "2022-06-21T12:03:54.088Z"
   },
   {
    "duration": 74,
    "start_time": "2022-06-21T12:03:54.155Z"
   },
   {
    "duration": 158,
    "start_time": "2022-06-21T12:03:54.231Z"
   },
   {
    "duration": 21,
    "start_time": "2022-06-21T12:03:54.391Z"
   },
   {
    "duration": 18,
    "start_time": "2022-06-21T12:03:54.426Z"
   },
   {
    "duration": 53,
    "start_time": "2022-06-21T12:03:54.447Z"
   },
   {
    "duration": 77,
    "start_time": "2022-06-21T12:03:54.503Z"
   },
   {
    "duration": 81,
    "start_time": "2022-06-21T12:03:54.582Z"
   },
   {
    "duration": 362,
    "start_time": "2022-06-21T12:03:54.666Z"
   },
   {
    "duration": 23,
    "start_time": "2022-06-21T12:03:55.030Z"
   },
   {
    "duration": 80,
    "start_time": "2022-06-21T12:03:55.054Z"
   },
   {
    "duration": 70,
    "start_time": "2022-06-21T12:03:55.136Z"
   },
   {
    "duration": 40,
    "start_time": "2022-06-21T12:03:55.208Z"
   },
   {
    "duration": 46,
    "start_time": "2022-06-21T12:03:55.250Z"
   },
   {
    "duration": 123,
    "start_time": "2022-06-21T12:03:55.297Z"
   },
   {
    "duration": 232,
    "start_time": "2022-06-21T12:03:55.422Z"
   },
   {
    "duration": 24,
    "start_time": "2022-06-21T12:03:55.655Z"
   },
   {
    "duration": 44,
    "start_time": "2022-06-21T12:03:55.681Z"
   },
   {
    "duration": 105,
    "start_time": "2022-06-21T12:03:55.727Z"
   },
   {
    "duration": 54,
    "start_time": "2022-06-21T12:03:55.835Z"
   },
   {
    "duration": 45,
    "start_time": "2022-06-21T12:03:55.891Z"
   },
   {
    "duration": 19,
    "start_time": "2022-06-21T12:03:55.938Z"
   },
   {
    "duration": 93,
    "start_time": "2022-06-21T12:03:55.959Z"
   },
   {
    "duration": 35,
    "start_time": "2022-06-21T12:03:56.054Z"
   },
   {
    "duration": 66,
    "start_time": "2022-06-21T12:03:56.090Z"
   },
   {
    "duration": 54,
    "start_time": "2022-06-21T12:03:56.158Z"
   },
   {
    "duration": 19,
    "start_time": "2022-06-21T12:03:56.215Z"
   },
   {
    "duration": 106,
    "start_time": "2022-06-21T12:03:56.236Z"
   },
   {
    "duration": 56,
    "start_time": "2022-06-21T12:03:56.345Z"
   },
   {
    "duration": 27,
    "start_time": "2022-06-21T12:03:56.404Z"
   },
   {
    "duration": 1442,
    "start_time": "2022-06-21T12:30:54.849Z"
   },
   {
    "duration": 3,
    "start_time": "2022-06-21T12:30:56.293Z"
   },
   {
    "duration": 1357,
    "start_time": "2022-06-21T12:30:56.298Z"
   },
   {
    "duration": 13,
    "start_time": "2022-06-21T12:30:57.656Z"
   },
   {
    "duration": 31,
    "start_time": "2022-06-21T12:30:57.671Z"
   },
   {
    "duration": 31,
    "start_time": "2022-06-21T12:30:57.704Z"
   },
   {
    "duration": 17,
    "start_time": "2022-06-21T12:30:57.737Z"
   },
   {
    "duration": 27,
    "start_time": "2022-06-21T12:30:57.756Z"
   },
   {
    "duration": 42,
    "start_time": "2022-06-21T12:30:57.785Z"
   },
   {
    "duration": 76,
    "start_time": "2022-06-21T12:30:57.829Z"
   },
   {
    "duration": 137,
    "start_time": "2022-06-21T12:30:57.907Z"
   },
   {
    "duration": 21,
    "start_time": "2022-06-21T12:30:58.046Z"
   },
   {
    "duration": 36,
    "start_time": "2022-06-21T12:30:58.068Z"
   },
   {
    "duration": 14,
    "start_time": "2022-06-21T12:30:58.106Z"
   },
   {
    "duration": 31,
    "start_time": "2022-06-21T12:30:58.121Z"
   },
   {
    "duration": 6,
    "start_time": "2022-06-21T12:30:58.154Z"
   },
   {
    "duration": 284,
    "start_time": "2022-06-21T12:30:58.161Z"
   },
   {
    "duration": 22,
    "start_time": "2022-06-21T12:30:58.447Z"
   },
   {
    "duration": 28,
    "start_time": "2022-06-21T12:30:58.471Z"
   },
   {
    "duration": 27,
    "start_time": "2022-06-21T12:30:58.501Z"
   },
   {
    "duration": 7,
    "start_time": "2022-06-21T12:30:58.530Z"
   },
   {
    "duration": 31,
    "start_time": "2022-06-21T12:30:58.539Z"
   },
   {
    "duration": 128,
    "start_time": "2022-06-21T12:30:58.572Z"
   },
   {
    "duration": 256,
    "start_time": "2022-06-21T12:30:58.701Z"
   },
   {
    "duration": 21,
    "start_time": "2022-06-21T12:30:58.958Z"
   },
   {
    "duration": 18,
    "start_time": "2022-06-21T12:30:58.981Z"
   },
   {
    "duration": 57,
    "start_time": "2022-06-21T12:30:59.000Z"
   },
   {
    "duration": 50,
    "start_time": "2022-06-21T12:30:59.060Z"
   },
   {
    "duration": 40,
    "start_time": "2022-06-21T12:30:59.111Z"
   },
   {
    "duration": 7,
    "start_time": "2022-06-21T12:30:59.153Z"
   },
   {
    "duration": 126,
    "start_time": "2022-06-21T12:30:59.162Z"
   },
   {
    "duration": 21,
    "start_time": "2022-06-21T12:30:59.290Z"
   },
   {
    "duration": 28,
    "start_time": "2022-06-21T12:30:59.312Z"
   },
   {
    "duration": 47,
    "start_time": "2022-06-21T12:30:59.341Z"
   },
   {
    "duration": 14,
    "start_time": "2022-06-21T12:30:59.390Z"
   },
   {
    "duration": 31,
    "start_time": "2022-06-21T12:30:59.406Z"
   },
   {
    "duration": 37,
    "start_time": "2022-06-21T12:30:59.439Z"
   },
   {
    "duration": 44,
    "start_time": "2022-06-21T12:30:59.477Z"
   },
   {
    "duration": 3,
    "start_time": "2022-06-21T12:49:59.355Z"
   },
   {
    "duration": 1459,
    "start_time": "2022-06-21T12:50:00.077Z"
   },
   {
    "duration": 1624,
    "start_time": "2022-06-21T12:54:12.894Z"
   },
   {
    "duration": 1290,
    "start_time": "2022-06-21T12:54:27.014Z"
   },
   {
    "duration": 3,
    "start_time": "2022-06-21T12:54:28.305Z"
   },
   {
    "duration": 31,
    "start_time": "2022-06-21T12:54:28.309Z"
   },
   {
    "duration": 2105,
    "start_time": "2022-06-21T12:54:28.342Z"
   },
   {
    "duration": 14,
    "start_time": "2022-06-21T12:54:30.449Z"
   },
   {
    "duration": 78,
    "start_time": "2022-06-21T12:54:30.465Z"
   },
   {
    "duration": 20,
    "start_time": "2022-06-21T12:54:30.546Z"
   },
   {
    "duration": 84,
    "start_time": "2022-06-21T12:54:30.567Z"
   },
   {
    "duration": 107,
    "start_time": "2022-06-21T12:54:30.653Z"
   },
   {
    "duration": 166,
    "start_time": "2022-06-21T12:54:30.765Z"
   },
   {
    "duration": 217,
    "start_time": "2022-06-21T12:54:30.939Z"
   },
   {
    "duration": 371,
    "start_time": "2022-06-21T12:54:31.158Z"
   },
   {
    "duration": 36,
    "start_time": "2022-06-21T12:54:31.533Z"
   },
   {
    "duration": 57,
    "start_time": "2022-06-21T12:54:31.572Z"
   },
   {
    "duration": 22,
    "start_time": "2022-06-21T12:54:31.644Z"
   },
   {
    "duration": 78,
    "start_time": "2022-06-21T12:54:31.668Z"
   },
   {
    "duration": 7,
    "start_time": "2022-06-21T12:54:31.750Z"
   },
   {
    "duration": 902,
    "start_time": "2022-06-21T12:54:31.760Z"
   },
   {
    "duration": 0,
    "start_time": "2022-06-21T12:54:32.664Z"
   },
   {
    "duration": 1,
    "start_time": "2022-06-21T12:54:32.665Z"
   },
   {
    "duration": 0,
    "start_time": "2022-06-21T12:54:32.666Z"
   },
   {
    "duration": 0,
    "start_time": "2022-06-21T12:54:32.667Z"
   },
   {
    "duration": 0,
    "start_time": "2022-06-21T12:54:32.668Z"
   },
   {
    "duration": 0,
    "start_time": "2022-06-21T12:54:32.669Z"
   },
   {
    "duration": 0,
    "start_time": "2022-06-21T12:54:32.669Z"
   },
   {
    "duration": 0,
    "start_time": "2022-06-21T12:54:32.671Z"
   },
   {
    "duration": 0,
    "start_time": "2022-06-21T12:54:32.671Z"
   },
   {
    "duration": 0,
    "start_time": "2022-06-21T12:54:32.726Z"
   },
   {
    "duration": 0,
    "start_time": "2022-06-21T12:54:32.727Z"
   },
   {
    "duration": 0,
    "start_time": "2022-06-21T12:54:32.728Z"
   },
   {
    "duration": 0,
    "start_time": "2022-06-21T12:54:32.728Z"
   },
   {
    "duration": 0,
    "start_time": "2022-06-21T12:54:32.729Z"
   },
   {
    "duration": 0,
    "start_time": "2022-06-21T12:54:32.730Z"
   },
   {
    "duration": 0,
    "start_time": "2022-06-21T12:54:32.731Z"
   },
   {
    "duration": 0,
    "start_time": "2022-06-21T12:54:32.732Z"
   },
   {
    "duration": 0,
    "start_time": "2022-06-21T12:54:32.733Z"
   },
   {
    "duration": 0,
    "start_time": "2022-06-21T12:54:32.734Z"
   },
   {
    "duration": 0,
    "start_time": "2022-06-21T12:54:32.734Z"
   },
   {
    "duration": 0,
    "start_time": "2022-06-21T12:54:32.735Z"
   },
   {
    "duration": 214,
    "start_time": "2022-06-21T12:54:51.378Z"
   },
   {
    "duration": 243,
    "start_time": "2022-06-21T12:55:34.905Z"
   },
   {
    "duration": 238,
    "start_time": "2022-06-21T12:55:47.498Z"
   },
   {
    "duration": 1690,
    "start_time": "2022-06-21T12:56:54.641Z"
   },
   {
    "duration": 4,
    "start_time": "2022-06-21T12:56:56.337Z"
   },
   {
    "duration": 11,
    "start_time": "2022-06-21T12:56:56.344Z"
   },
   {
    "duration": 3474,
    "start_time": "2022-06-21T12:56:56.358Z"
   },
   {
    "duration": 21,
    "start_time": "2022-06-21T12:56:59.835Z"
   },
   {
    "duration": 68,
    "start_time": "2022-06-21T12:56:59.858Z"
   },
   {
    "duration": 23,
    "start_time": "2022-06-21T12:56:59.928Z"
   },
   {
    "duration": 22,
    "start_time": "2022-06-21T12:56:59.953Z"
   },
   {
    "duration": 25,
    "start_time": "2022-06-21T12:57:00.026Z"
   },
   {
    "duration": 21,
    "start_time": "2022-06-21T12:57:00.053Z"
   },
   {
    "duration": 103,
    "start_time": "2022-06-21T12:57:00.076Z"
   },
   {
    "duration": 162,
    "start_time": "2022-06-21T12:57:00.181Z"
   },
   {
    "duration": 21,
    "start_time": "2022-06-21T12:57:00.345Z"
   },
   {
    "duration": 6,
    "start_time": "2022-06-21T12:57:00.370Z"
   },
   {
    "duration": 22,
    "start_time": "2022-06-21T12:57:00.378Z"
   },
   {
    "duration": 35,
    "start_time": "2022-06-21T12:57:00.402Z"
   },
   {
    "duration": 7,
    "start_time": "2022-06-21T12:57:00.438Z"
   },
   {
    "duration": 334,
    "start_time": "2022-06-21T12:57:00.446Z"
   },
   {
    "duration": 23,
    "start_time": "2022-06-21T12:57:00.782Z"
   },
   {
    "duration": 38,
    "start_time": "2022-06-21T12:57:00.806Z"
   },
   {
    "duration": 13,
    "start_time": "2022-06-21T12:57:00.846Z"
   },
   {
    "duration": 19,
    "start_time": "2022-06-21T12:57:00.861Z"
   },
   {
    "duration": 29,
    "start_time": "2022-06-21T12:57:00.882Z"
   },
   {
    "duration": 100,
    "start_time": "2022-06-21T12:57:00.913Z"
   },
   {
    "duration": 250,
    "start_time": "2022-06-21T12:57:01.015Z"
   },
   {
    "duration": 31,
    "start_time": "2022-06-21T12:57:01.267Z"
   },
   {
    "duration": 34,
    "start_time": "2022-06-21T12:57:01.299Z"
   },
   {
    "duration": 44,
    "start_time": "2022-06-21T12:57:01.336Z"
   },
   {
    "duration": 76,
    "start_time": "2022-06-21T12:57:01.382Z"
   },
   {
    "duration": 29,
    "start_time": "2022-06-21T12:57:01.460Z"
   },
   {
    "duration": 7,
    "start_time": "2022-06-21T12:57:01.490Z"
   },
   {
    "duration": 106,
    "start_time": "2022-06-21T12:57:01.498Z"
   },
   {
    "duration": 42,
    "start_time": "2022-06-21T12:57:01.605Z"
   },
   {
    "duration": 12,
    "start_time": "2022-06-21T12:57:01.648Z"
   },
   {
    "duration": 40,
    "start_time": "2022-06-21T12:57:01.662Z"
   },
   {
    "duration": 13,
    "start_time": "2022-06-21T12:57:01.704Z"
   },
   {
    "duration": 41,
    "start_time": "2022-06-21T12:57:01.718Z"
   },
   {
    "duration": 14,
    "start_time": "2022-06-21T12:57:01.761Z"
   },
   {
    "duration": 20,
    "start_time": "2022-06-21T12:57:01.777Z"
   },
   {
    "duration": 209,
    "start_time": "2022-06-21T12:58:29.840Z"
   },
   {
    "duration": 51,
    "start_time": "2022-06-21T12:59:12.445Z"
   },
   {
    "duration": 157,
    "start_time": "2022-06-21T12:59:25.260Z"
   },
   {
    "duration": 172,
    "start_time": "2022-06-21T12:59:37.600Z"
   },
   {
    "duration": 264,
    "start_time": "2022-06-21T13:00:19.238Z"
   },
   {
    "duration": 12,
    "start_time": "2022-06-21T13:00:59.657Z"
   },
   {
    "duration": 49,
    "start_time": "2022-06-21T13:10:13.000Z"
   },
   {
    "duration": 1382,
    "start_time": "2022-06-21T13:17:15.224Z"
   },
   {
    "duration": 4,
    "start_time": "2022-06-21T13:17:16.608Z"
   },
   {
    "duration": 22,
    "start_time": "2022-06-21T13:17:16.614Z"
   },
   {
    "duration": 1462,
    "start_time": "2022-06-21T13:17:16.639Z"
   },
   {
    "duration": 24,
    "start_time": "2022-06-21T13:17:18.104Z"
   },
   {
    "duration": 31,
    "start_time": "2022-06-21T13:17:18.131Z"
   },
   {
    "duration": 27,
    "start_time": "2022-06-21T13:17:18.164Z"
   },
   {
    "duration": 51,
    "start_time": "2022-06-21T13:17:18.194Z"
   },
   {
    "duration": 31,
    "start_time": "2022-06-21T13:17:18.247Z"
   },
   {
    "duration": 27,
    "start_time": "2022-06-21T13:17:18.280Z"
   },
   {
    "duration": 90,
    "start_time": "2022-06-21T13:17:18.309Z"
   },
   {
    "duration": 159,
    "start_time": "2022-06-21T13:17:18.401Z"
   },
   {
    "duration": 20,
    "start_time": "2022-06-21T13:17:18.562Z"
   },
   {
    "duration": 20,
    "start_time": "2022-06-21T13:17:18.584Z"
   },
   {
    "duration": 15,
    "start_time": "2022-06-21T13:17:18.606Z"
   },
   {
    "duration": 33,
    "start_time": "2022-06-21T13:17:18.622Z"
   },
   {
    "duration": 21,
    "start_time": "2022-06-21T13:17:18.657Z"
   },
   {
    "duration": 368,
    "start_time": "2022-06-21T13:17:18.680Z"
   },
   {
    "duration": 22,
    "start_time": "2022-06-21T13:17:19.051Z"
   },
   {
    "duration": 20,
    "start_time": "2022-06-21T13:17:19.076Z"
   },
   {
    "duration": 33,
    "start_time": "2022-06-21T13:17:19.098Z"
   },
   {
    "duration": 11,
    "start_time": "2022-06-21T13:17:19.133Z"
   },
   {
    "duration": 46,
    "start_time": "2022-06-21T13:17:19.145Z"
   },
   {
    "duration": 102,
    "start_time": "2022-06-21T13:17:19.193Z"
   },
   {
    "duration": 243,
    "start_time": "2022-06-21T13:17:19.297Z"
   },
   {
    "duration": 25,
    "start_time": "2022-06-21T13:17:19.542Z"
   },
   {
    "duration": 14,
    "start_time": "2022-06-21T13:17:19.568Z"
   },
   {
    "duration": 64,
    "start_time": "2022-06-21T13:17:19.586Z"
   },
   {
    "duration": 57,
    "start_time": "2022-06-21T13:17:19.651Z"
   },
   {
    "duration": 35,
    "start_time": "2022-06-21T13:17:19.725Z"
   },
   {
    "duration": 16,
    "start_time": "2022-06-21T13:17:19.761Z"
   },
   {
    "duration": 115,
    "start_time": "2022-06-21T13:17:19.779Z"
   },
   {
    "duration": 22,
    "start_time": "2022-06-21T13:17:19.895Z"
   },
   {
    "duration": 44,
    "start_time": "2022-06-21T13:17:19.926Z"
   },
   {
    "duration": 138,
    "start_time": "2022-06-21T13:17:19.973Z"
   },
   {
    "duration": 49,
    "start_time": "2022-06-21T13:17:20.113Z"
   },
   {
    "duration": 41,
    "start_time": "2022-06-21T13:17:20.164Z"
   },
   {
    "duration": 41,
    "start_time": "2022-06-21T13:17:20.207Z"
   },
   {
    "duration": 61,
    "start_time": "2022-06-21T13:17:20.250Z"
   }
  ],
  "kernelspec": {
   "display_name": "Python 3 (ipykernel)",
   "language": "python",
   "name": "python3"
  },
  "language_info": {
   "codemirror_mode": {
    "name": "ipython",
    "version": 3
   },
   "file_extension": ".py",
   "mimetype": "text/x-python",
   "name": "python",
   "nbconvert_exporter": "python",
   "pygments_lexer": "ipython3",
   "version": "3.9.5"
  },
  "toc": {
   "base_numbering": 1,
   "nav_menu": {},
   "number_sections": true,
   "sideBar": true,
   "skip_h1_title": true,
   "title_cell": "Table of Contents",
   "title_sidebar": "Contents",
   "toc_cell": false,
   "toc_position": {
    "height": "calc(100% - 180px)",
    "left": "10px",
    "top": "150px",
    "width": "165px"
   },
   "toc_section_display": true,
   "toc_window_display": true
  }
 },
 "nbformat": 4,
 "nbformat_minor": 2
}
